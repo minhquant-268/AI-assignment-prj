{
 "cells": [
  {
   "cell_type": "markdown",
   "metadata": {},
   "source": [
    "# Course: IT Applications to Banking and Finance "
   ]
  },
  {
   "cell_type": "markdown",
   "metadata": {},
   "source": [
    "**- Name: Nguyễn Lại Công Minh - Student ID: 2212345026 - ClassCode: ML53**"
   ]
  },
  {
   "cell_type": "markdown",
   "metadata": {},
   "source": [
    "# About the project"
   ]
  },
  {
   "cell_type": "markdown",
   "metadata": {},
   "source": [
    "This project explores two machine learning approaches for predicting obesity levels: Random Forest Classifiers (RFC) and Neural Networks (NNs). It utilizes a dataset containing health and lifestyle factors such as BMI, physical activity, calorie intake, and demographic attributes to classify individuals into seven obesity categories (e.g., Normal Weight, Obesity Type I, II, III). Through feature engineering and hyperparameter tuning, both models are trained and evaluated using metrics like accuracy, F1-score, and AUC-ROC. By comparing RFC and NNs, this study highlights the strengths of different machine learning techniques in predicting obesity and provides insights into their applicability for health risk assessment."
   ]
  },
  {
   "cell_type": "markdown",
   "metadata": {},
   "source": [
    "# Random Forest Classification"
   ]
  },
  {
   "cell_type": "code",
   "execution_count": 14,
   "metadata": {},
   "outputs": [],
   "source": [
    "import warnings\n",
    "warnings.filterwarnings(\"ignore\")\n",
    "\n",
    "%matplotlib inline\n",
    "import numpy as np\n",
    "import pandas as pd\n",
    "from lime import lime_tabular\n",
    "import shap\n",
    "import os\n",
    "\n",
    "from sklearn.utils import shuffle, class_weight\n",
    "from sklearn.preprocessing import StandardScaler\n",
    "from sklearn.model_selection import train_test_split\n",
    "from sklearn.ensemble import RandomForestClassifier\n",
    "from sklearn.model_selection import StratifiedKFold, GridSearchCV\n",
    "from sklearn.metrics import accuracy_score, confusion_matrix, classification_report\n",
    "\n",
    "from sklearn.manifold import TSNE\n",
    "\n",
    "import matplotlib.pyplot as plt\n",
    "import seaborn as sns\n",
    "\n",
    "random_state = 6\n",
    "np.random.seed(random_state)"
   ]
  },
  {
   "cell_type": "markdown",
   "metadata": {},
   "source": [
    "## Import data"
   ]
  },
  {
   "cell_type": "code",
   "execution_count": 15,
   "metadata": {},
   "outputs": [],
   "source": [
    "df = pd.read_csv(r\"C:\\Users\\Lenovo\\OneDrive - ftu.edu.vn\\Desktop\\Github\\AI-assignment-prj\\Obesity prediction.csv\")"
   ]
  },
  {
   "cell_type": "markdown",
   "metadata": {},
   "source": [
    "This code processes a dataset df by rounding numerical values and encoding categorical variables into numerical representations using Label Encoding. This preprocessing step is useful for machine learning models that require numerical input, particularly for obesity prediction."
   ]
  },
  {
   "cell_type": "code",
   "execution_count": 16,
   "metadata": {},
   "outputs": [],
   "source": [
    "import pandas as pd\n",
    "from sklearn.preprocessing import LabelEncoder\n",
    "\n",
    "df = df.round(1)\n",
    "# Identify categorical columns\n",
    "categorical_cols = df.select_dtypes(include=['object']).columns\n",
    "\n",
    "# Convert categorical columns to integer numerical categories using Label Encoding\n",
    "label_encoders = {}\n",
    "for col in categorical_cols:\n",
    "    le = LabelEncoder()\n",
    "    df[col] = le.fit_transform(df[col]).astype(int)  # Ensure integer type\n",
    "    label_encoders[col] = le\n",
    "\n",
    "# output_file_path = r\"C:\\Users\\Lenovo\\OneDrive - ftu.edu.vn\\Desktop\\Github\\AI-assignment-prj\\Obesity prediction numerical.csv\"\n",
    "# df.to_csv(output_file_path, index=False)\n"
   ]
  },
  {
   "cell_type": "code",
   "execution_count": 4,
   "metadata": {},
   "outputs": [
    {
     "data": {
      "text/html": [
       "<div>\n",
       "<style scoped>\n",
       "    .dataframe tbody tr th:only-of-type {\n",
       "        vertical-align: middle;\n",
       "    }\n",
       "\n",
       "    .dataframe tbody tr th {\n",
       "        vertical-align: top;\n",
       "    }\n",
       "\n",
       "    .dataframe thead th {\n",
       "        text-align: right;\n",
       "    }\n",
       "</style>\n",
       "<table border=\"1\" class=\"dataframe\">\n",
       "  <thead>\n",
       "    <tr style=\"text-align: right;\">\n",
       "      <th></th>\n",
       "      <th>Gender</th>\n",
       "      <th>Age</th>\n",
       "      <th>Height</th>\n",
       "      <th>Weight</th>\n",
       "      <th>family_history</th>\n",
       "      <th>FAVC</th>\n",
       "      <th>FCVC</th>\n",
       "      <th>NCP</th>\n",
       "      <th>CAEC</th>\n",
       "      <th>SMOKE</th>\n",
       "      <th>CH2O</th>\n",
       "      <th>SCC</th>\n",
       "      <th>FAF</th>\n",
       "      <th>TUE</th>\n",
       "      <th>CALC</th>\n",
       "      <th>MTRANS</th>\n",
       "      <th>Obesity</th>\n",
       "    </tr>\n",
       "  </thead>\n",
       "  <tbody>\n",
       "    <tr>\n",
       "      <th>0</th>\n",
       "      <td>0</td>\n",
       "      <td>21.0</td>\n",
       "      <td>1.6</td>\n",
       "      <td>64.0</td>\n",
       "      <td>1</td>\n",
       "      <td>0</td>\n",
       "      <td>2.0</td>\n",
       "      <td>3.0</td>\n",
       "      <td>2</td>\n",
       "      <td>0</td>\n",
       "      <td>2.0</td>\n",
       "      <td>0</td>\n",
       "      <td>0.0</td>\n",
       "      <td>1.0</td>\n",
       "      <td>3</td>\n",
       "      <td>3</td>\n",
       "      <td>1</td>\n",
       "    </tr>\n",
       "    <tr>\n",
       "      <th>1</th>\n",
       "      <td>0</td>\n",
       "      <td>21.0</td>\n",
       "      <td>1.5</td>\n",
       "      <td>56.0</td>\n",
       "      <td>1</td>\n",
       "      <td>0</td>\n",
       "      <td>3.0</td>\n",
       "      <td>3.0</td>\n",
       "      <td>2</td>\n",
       "      <td>1</td>\n",
       "      <td>3.0</td>\n",
       "      <td>1</td>\n",
       "      <td>3.0</td>\n",
       "      <td>0.0</td>\n",
       "      <td>2</td>\n",
       "      <td>3</td>\n",
       "      <td>1</td>\n",
       "    </tr>\n",
       "    <tr>\n",
       "      <th>2</th>\n",
       "      <td>1</td>\n",
       "      <td>23.0</td>\n",
       "      <td>1.8</td>\n",
       "      <td>77.0</td>\n",
       "      <td>1</td>\n",
       "      <td>0</td>\n",
       "      <td>2.0</td>\n",
       "      <td>3.0</td>\n",
       "      <td>2</td>\n",
       "      <td>0</td>\n",
       "      <td>2.0</td>\n",
       "      <td>0</td>\n",
       "      <td>2.0</td>\n",
       "      <td>1.0</td>\n",
       "      <td>1</td>\n",
       "      <td>3</td>\n",
       "      <td>1</td>\n",
       "    </tr>\n",
       "    <tr>\n",
       "      <th>3</th>\n",
       "      <td>1</td>\n",
       "      <td>27.0</td>\n",
       "      <td>1.8</td>\n",
       "      <td>87.0</td>\n",
       "      <td>0</td>\n",
       "      <td>0</td>\n",
       "      <td>3.0</td>\n",
       "      <td>3.0</td>\n",
       "      <td>2</td>\n",
       "      <td>0</td>\n",
       "      <td>2.0</td>\n",
       "      <td>0</td>\n",
       "      <td>2.0</td>\n",
       "      <td>0.0</td>\n",
       "      <td>1</td>\n",
       "      <td>4</td>\n",
       "      <td>5</td>\n",
       "    </tr>\n",
       "    <tr>\n",
       "      <th>4</th>\n",
       "      <td>1</td>\n",
       "      <td>22.0</td>\n",
       "      <td>1.8</td>\n",
       "      <td>89.8</td>\n",
       "      <td>0</td>\n",
       "      <td>0</td>\n",
       "      <td>2.0</td>\n",
       "      <td>1.0</td>\n",
       "      <td>2</td>\n",
       "      <td>0</td>\n",
       "      <td>2.0</td>\n",
       "      <td>0</td>\n",
       "      <td>0.0</td>\n",
       "      <td>0.0</td>\n",
       "      <td>2</td>\n",
       "      <td>3</td>\n",
       "      <td>6</td>\n",
       "    </tr>\n",
       "    <tr>\n",
       "      <th>...</th>\n",
       "      <td>...</td>\n",
       "      <td>...</td>\n",
       "      <td>...</td>\n",
       "      <td>...</td>\n",
       "      <td>...</td>\n",
       "      <td>...</td>\n",
       "      <td>...</td>\n",
       "      <td>...</td>\n",
       "      <td>...</td>\n",
       "      <td>...</td>\n",
       "      <td>...</td>\n",
       "      <td>...</td>\n",
       "      <td>...</td>\n",
       "      <td>...</td>\n",
       "      <td>...</td>\n",
       "      <td>...</td>\n",
       "      <td>...</td>\n",
       "    </tr>\n",
       "    <tr>\n",
       "      <th>2106</th>\n",
       "      <td>0</td>\n",
       "      <td>21.0</td>\n",
       "      <td>1.7</td>\n",
       "      <td>131.4</td>\n",
       "      <td>1</td>\n",
       "      <td>1</td>\n",
       "      <td>3.0</td>\n",
       "      <td>3.0</td>\n",
       "      <td>2</td>\n",
       "      <td>0</td>\n",
       "      <td>1.7</td>\n",
       "      <td>0</td>\n",
       "      <td>1.7</td>\n",
       "      <td>0.9</td>\n",
       "      <td>2</td>\n",
       "      <td>3</td>\n",
       "      <td>4</td>\n",
       "    </tr>\n",
       "    <tr>\n",
       "      <th>2107</th>\n",
       "      <td>0</td>\n",
       "      <td>22.0</td>\n",
       "      <td>1.7</td>\n",
       "      <td>133.7</td>\n",
       "      <td>1</td>\n",
       "      <td>1</td>\n",
       "      <td>3.0</td>\n",
       "      <td>3.0</td>\n",
       "      <td>2</td>\n",
       "      <td>0</td>\n",
       "      <td>2.0</td>\n",
       "      <td>0</td>\n",
       "      <td>1.3</td>\n",
       "      <td>0.6</td>\n",
       "      <td>2</td>\n",
       "      <td>3</td>\n",
       "      <td>4</td>\n",
       "    </tr>\n",
       "    <tr>\n",
       "      <th>2108</th>\n",
       "      <td>0</td>\n",
       "      <td>22.5</td>\n",
       "      <td>1.8</td>\n",
       "      <td>133.7</td>\n",
       "      <td>1</td>\n",
       "      <td>1</td>\n",
       "      <td>3.0</td>\n",
       "      <td>3.0</td>\n",
       "      <td>2</td>\n",
       "      <td>0</td>\n",
       "      <td>2.1</td>\n",
       "      <td>0</td>\n",
       "      <td>1.4</td>\n",
       "      <td>0.6</td>\n",
       "      <td>2</td>\n",
       "      <td>3</td>\n",
       "      <td>4</td>\n",
       "    </tr>\n",
       "    <tr>\n",
       "      <th>2109</th>\n",
       "      <td>0</td>\n",
       "      <td>24.4</td>\n",
       "      <td>1.7</td>\n",
       "      <td>133.3</td>\n",
       "      <td>1</td>\n",
       "      <td>1</td>\n",
       "      <td>3.0</td>\n",
       "      <td>3.0</td>\n",
       "      <td>2</td>\n",
       "      <td>0</td>\n",
       "      <td>2.9</td>\n",
       "      <td>0</td>\n",
       "      <td>1.1</td>\n",
       "      <td>0.6</td>\n",
       "      <td>2</td>\n",
       "      <td>3</td>\n",
       "      <td>4</td>\n",
       "    </tr>\n",
       "    <tr>\n",
       "      <th>2110</th>\n",
       "      <td>0</td>\n",
       "      <td>23.7</td>\n",
       "      <td>1.7</td>\n",
       "      <td>133.5</td>\n",
       "      <td>1</td>\n",
       "      <td>1</td>\n",
       "      <td>3.0</td>\n",
       "      <td>3.0</td>\n",
       "      <td>2</td>\n",
       "      <td>0</td>\n",
       "      <td>2.9</td>\n",
       "      <td>0</td>\n",
       "      <td>1.0</td>\n",
       "      <td>0.7</td>\n",
       "      <td>2</td>\n",
       "      <td>3</td>\n",
       "      <td>4</td>\n",
       "    </tr>\n",
       "  </tbody>\n",
       "</table>\n",
       "<p>2111 rows × 17 columns</p>\n",
       "</div>"
      ],
      "text/plain": [
       "      Gender   Age  Height  Weight  family_history  FAVC  FCVC  NCP  CAEC  \\\n",
       "0          0  21.0     1.6    64.0               1     0   2.0  3.0     2   \n",
       "1          0  21.0     1.5    56.0               1     0   3.0  3.0     2   \n",
       "2          1  23.0     1.8    77.0               1     0   2.0  3.0     2   \n",
       "3          1  27.0     1.8    87.0               0     0   3.0  3.0     2   \n",
       "4          1  22.0     1.8    89.8               0     0   2.0  1.0     2   \n",
       "...      ...   ...     ...     ...             ...   ...   ...  ...   ...   \n",
       "2106       0  21.0     1.7   131.4               1     1   3.0  3.0     2   \n",
       "2107       0  22.0     1.7   133.7               1     1   3.0  3.0     2   \n",
       "2108       0  22.5     1.8   133.7               1     1   3.0  3.0     2   \n",
       "2109       0  24.4     1.7   133.3               1     1   3.0  3.0     2   \n",
       "2110       0  23.7     1.7   133.5               1     1   3.0  3.0     2   \n",
       "\n",
       "      SMOKE  CH2O  SCC  FAF  TUE  CALC  MTRANS  Obesity  \n",
       "0         0   2.0    0  0.0  1.0     3       3        1  \n",
       "1         1   3.0    1  3.0  0.0     2       3        1  \n",
       "2         0   2.0    0  2.0  1.0     1       3        1  \n",
       "3         0   2.0    0  2.0  0.0     1       4        5  \n",
       "4         0   2.0    0  0.0  0.0     2       3        6  \n",
       "...     ...   ...  ...  ...  ...   ...     ...      ...  \n",
       "2106      0   1.7    0  1.7  0.9     2       3        4  \n",
       "2107      0   2.0    0  1.3  0.6     2       3        4  \n",
       "2108      0   2.1    0  1.4  0.6     2       3        4  \n",
       "2109      0   2.9    0  1.1  0.6     2       3        4  \n",
       "2110      0   2.9    0  1.0  0.7     2       3        4  \n",
       "\n",
       "[2111 rows x 17 columns]"
      ]
     },
     "execution_count": 4,
     "metadata": {},
     "output_type": "execute_result"
    }
   ],
   "source": [
    "df "
   ]
  },
  {
   "cell_type": "markdown",
   "metadata": {},
   "source": [
    "## Data Cleaning "
   ]
  },
  {
   "cell_type": "code",
   "execution_count": 17,
   "metadata": {},
   "outputs": [
    {
     "name": "stdout",
     "output_type": "stream",
     "text": [
      "<class 'pandas.core.frame.DataFrame'>\n",
      "RangeIndex: 2111 entries, 0 to 2110\n",
      "Data columns (total 17 columns):\n",
      " #   Column          Non-Null Count  Dtype  \n",
      "---  ------          --------------  -----  \n",
      " 0   Gender          2111 non-null   int32  \n",
      " 1   Age             2111 non-null   float64\n",
      " 2   Height          2111 non-null   float64\n",
      " 3   Weight          2111 non-null   float64\n",
      " 4   family_history  2111 non-null   int32  \n",
      " 5   FAVC            2111 non-null   int32  \n",
      " 6   FCVC            2111 non-null   float64\n",
      " 7   NCP             2111 non-null   float64\n",
      " 8   CAEC            2111 non-null   int32  \n",
      " 9   SMOKE           2111 non-null   int32  \n",
      " 10  CH2O            2111 non-null   float64\n",
      " 11  SCC             2111 non-null   int32  \n",
      " 12  FAF             2111 non-null   float64\n",
      " 13  TUE             2111 non-null   float64\n",
      " 14  CALC            2111 non-null   int32  \n",
      " 15  MTRANS          2111 non-null   int32  \n",
      " 16  Obesity         2111 non-null   int32  \n",
      "dtypes: float64(8), int32(9)\n",
      "memory usage: 206.3 KB\n"
     ]
    }
   ],
   "source": [
    "df.info()"
   ]
  },
  {
   "cell_type": "code",
   "execution_count": 18,
   "metadata": {},
   "outputs": [
    {
     "data": {
      "text/plain": [
       "Gender            0\n",
       "Age               0\n",
       "Height            0\n",
       "Weight            0\n",
       "family_history    0\n",
       "FAVC              0\n",
       "FCVC              0\n",
       "NCP               0\n",
       "CAEC              0\n",
       "SMOKE             0\n",
       "CH2O              0\n",
       "SCC               0\n",
       "FAF               0\n",
       "TUE               0\n",
       "CALC              0\n",
       "MTRANS            0\n",
       "Obesity           0\n",
       "dtype: int64"
      ]
     },
     "execution_count": 18,
     "metadata": {},
     "output_type": "execute_result"
    }
   ],
   "source": [
    "df.isna().sum()"
   ]
  },
  {
   "cell_type": "markdown",
   "metadata": {},
   "source": [
    "## Outliers Plotting"
   ]
  },
  {
   "cell_type": "code",
   "execution_count": 20,
   "metadata": {},
   "outputs": [
    {
     "data": {
      "image/png": "[encoded data removed]",
      "text/plain": [
       "<Figure size 1200x800 with 1 Axes>"
      ]
     },
     "metadata": {},
     "output_type": "display_data"
    }
   ],
   "source": [
    "plt.figure(figsize=(12,8))\n",
    "sns.boxplot(df)\n",
    "plt.title('Boxplot for Outliers')\n",
    "plt.xticks(rotation=60)\n",
    "\n",
    "plt.show()"
   ]
  },
  {
   "cell_type": "code",
   "execution_count": 22,
   "metadata": {},
   "outputs": [
    {
     "data": {
      "text/plain": [
       "{'whiskers': [<matplotlib.lines.Line2D at 0x21c13394160>,\n",
       "  <matplotlib.lines.Line2D at 0x21c133943a0>],\n",
       " 'caps': [<matplotlib.lines.Line2D at 0x21c133945e0>,\n",
       "  <matplotlib.lines.Line2D at 0x21c12f9b4f0>],\n",
       " 'boxes': [<matplotlib.lines.Line2D at 0x21c13394a60>],\n",
       " 'medians': [<matplotlib.lines.Line2D at 0x21c12f9b2e0>],\n",
       " 'fliers': [<matplotlib.lines.Line2D at 0x21c12f9bca0>],\n",
       " 'means': []}"
      ]
     },
     "execution_count": 22,
     "metadata": {},
     "output_type": "execute_result"
    },
    {
     "data": {
      "image/png": "[encoded data removed]",
      "text/plain": [
       "<Figure size 640x480 with 1 Axes>"
      ]
     },
     "metadata": {},
     "output_type": "display_data"
    }
   ],
   "source": [
    "plt.boxplot(df[\"Age\"])"
   ]
  },
  {
   "cell_type": "code",
   "execution_count": 23,
   "metadata": {},
   "outputs": [],
   "source": [
    "def remove_outliers(df, column):\n",
    "    Q1 = df[column].quantile(0.25)\n",
    "    Q3 = df[column].quantile(0.75)\n",
    "    IQR = Q3 - Q1\n",
    "    lower_bound = Q1 - 1.5 * IQR\n",
    "    upper_bound = Q3 + 1.5 * IQR\n",
    "    df[column] = np.where(df[column] < lower_bound, lower_bound,df[column])\n",
    "    df[column] = np.where(df[column] > upper_bound, upper_bound,df[column])"
   ]
  },
  {
   "cell_type": "code",
   "execution_count": 24,
   "metadata": {},
   "outputs": [],
   "source": [
    "remove_outliers(df,[\"Age\"])\n",
    "remove_outliers(df,[\"family_history\"])\n",
    "remove_outliers(df,[\"FAVC\"])\n",
    "remove_outliers(df,[\"NCP\"])\n",
    "remove_outliers(df,[\"SMOKE\"])\n",
    "remove_outliers(df,[\"MTRANS\"])\n"
   ]
  },
  {
   "cell_type": "markdown",
   "metadata": {},
   "source": [
    "Age and Weight are the most variable features, with significant outliers. This may indicate a diverse population in terms of age and body weight.\n",
    "Most other features have limited outliers, suggesting they are more normally distributed or categorical.\n"
   ]
  },
  {
   "cell_type": "markdown",
   "metadata": {},
   "source": [
    "## Data Descriptive"
   ]
  },
  {
   "cell_type": "code",
   "execution_count": 13,
   "metadata": {},
   "outputs": [
    {
     "data": {
      "text/html": [
       "<div>\n",
       "<style scoped>\n",
       "    .dataframe tbody tr th:only-of-type {\n",
       "        vertical-align: middle;\n",
       "    }\n",
       "\n",
       "    .dataframe tbody tr th {\n",
       "        vertical-align: top;\n",
       "    }\n",
       "\n",
       "    .dataframe thead th {\n",
       "        text-align: right;\n",
       "    }\n",
       "</style>\n",
       "<table border=\"1\" class=\"dataframe\">\n",
       "  <thead>\n",
       "    <tr style=\"text-align: right;\">\n",
       "      <th></th>\n",
       "      <th>Gender</th>\n",
       "      <th>Age</th>\n",
       "      <th>Height</th>\n",
       "      <th>Weight</th>\n",
       "      <th>family_history</th>\n",
       "      <th>FAVC</th>\n",
       "      <th>FCVC</th>\n",
       "      <th>NCP</th>\n",
       "      <th>CAEC</th>\n",
       "      <th>SMOKE</th>\n",
       "      <th>CH2O</th>\n",
       "      <th>SCC</th>\n",
       "      <th>FAF</th>\n",
       "      <th>TUE</th>\n",
       "      <th>CALC</th>\n",
       "      <th>MTRANS</th>\n",
       "      <th>Obesity</th>\n",
       "    </tr>\n",
       "  </thead>\n",
       "  <tbody>\n",
       "    <tr>\n",
       "      <th>count</th>\n",
       "      <td>2111.000000</td>\n",
       "      <td>2111.00000</td>\n",
       "      <td>2111.000000</td>\n",
       "      <td>2111.000000</td>\n",
       "      <td>2111.000000</td>\n",
       "      <td>2111.000000</td>\n",
       "      <td>2111.000000</td>\n",
       "      <td>2111.000000</td>\n",
       "      <td>2111.000000</td>\n",
       "      <td>2111.000000</td>\n",
       "      <td>2111.000000</td>\n",
       "      <td>2111.000000</td>\n",
       "      <td>2111.000000</td>\n",
       "      <td>2111.000000</td>\n",
       "      <td>2111.000000</td>\n",
       "      <td>2111.000000</td>\n",
       "      <td>2111.000000</td>\n",
       "    </tr>\n",
       "    <tr>\n",
       "      <th>mean</th>\n",
       "      <td>0.505921</td>\n",
       "      <td>24.31279</td>\n",
       "      <td>1.701232</td>\n",
       "      <td>86.585978</td>\n",
       "      <td>0.817622</td>\n",
       "      <td>0.883941</td>\n",
       "      <td>2.419138</td>\n",
       "      <td>2.686026</td>\n",
       "      <td>1.859308</td>\n",
       "      <td>0.020843</td>\n",
       "      <td>2.007816</td>\n",
       "      <td>0.045476</td>\n",
       "      <td>1.010279</td>\n",
       "      <td>0.658077</td>\n",
       "      <td>2.268593</td>\n",
       "      <td>2.365230</td>\n",
       "      <td>3.015632</td>\n",
       "    </tr>\n",
       "    <tr>\n",
       "      <th>std</th>\n",
       "      <td>0.500083</td>\n",
       "      <td>6.34572</td>\n",
       "      <td>0.099470</td>\n",
       "      <td>26.191165</td>\n",
       "      <td>0.386247</td>\n",
       "      <td>0.320371</td>\n",
       "      <td>0.534181</td>\n",
       "      <td>0.778843</td>\n",
       "      <td>0.468543</td>\n",
       "      <td>0.142893</td>\n",
       "      <td>0.614717</td>\n",
       "      <td>0.208395</td>\n",
       "      <td>0.851329</td>\n",
       "      <td>0.609296</td>\n",
       "      <td>0.515498</td>\n",
       "      <td>1.261423</td>\n",
       "      <td>1.952090</td>\n",
       "    </tr>\n",
       "    <tr>\n",
       "      <th>min</th>\n",
       "      <td>0.000000</td>\n",
       "      <td>14.00000</td>\n",
       "      <td>1.400000</td>\n",
       "      <td>39.000000</td>\n",
       "      <td>0.000000</td>\n",
       "      <td>0.000000</td>\n",
       "      <td>1.000000</td>\n",
       "      <td>1.000000</td>\n",
       "      <td>0.000000</td>\n",
       "      <td>0.000000</td>\n",
       "      <td>1.000000</td>\n",
       "      <td>0.000000</td>\n",
       "      <td>0.000000</td>\n",
       "      <td>0.000000</td>\n",
       "      <td>0.000000</td>\n",
       "      <td>0.000000</td>\n",
       "      <td>0.000000</td>\n",
       "    </tr>\n",
       "    <tr>\n",
       "      <th>25%</th>\n",
       "      <td>0.000000</td>\n",
       "      <td>19.90000</td>\n",
       "      <td>1.600000</td>\n",
       "      <td>65.450000</td>\n",
       "      <td>1.000000</td>\n",
       "      <td>1.000000</td>\n",
       "      <td>2.000000</td>\n",
       "      <td>2.700000</td>\n",
       "      <td>2.000000</td>\n",
       "      <td>0.000000</td>\n",
       "      <td>1.600000</td>\n",
       "      <td>0.000000</td>\n",
       "      <td>0.100000</td>\n",
       "      <td>0.000000</td>\n",
       "      <td>2.000000</td>\n",
       "      <td>3.000000</td>\n",
       "      <td>1.000000</td>\n",
       "    </tr>\n",
       "    <tr>\n",
       "      <th>50%</th>\n",
       "      <td>1.000000</td>\n",
       "      <td>22.80000</td>\n",
       "      <td>1.700000</td>\n",
       "      <td>83.000000</td>\n",
       "      <td>1.000000</td>\n",
       "      <td>1.000000</td>\n",
       "      <td>2.400000</td>\n",
       "      <td>3.000000</td>\n",
       "      <td>2.000000</td>\n",
       "      <td>0.000000</td>\n",
       "      <td>2.000000</td>\n",
       "      <td>0.000000</td>\n",
       "      <td>1.000000</td>\n",
       "      <td>0.600000</td>\n",
       "      <td>2.000000</td>\n",
       "      <td>3.000000</td>\n",
       "      <td>3.000000</td>\n",
       "    </tr>\n",
       "    <tr>\n",
       "      <th>75%</th>\n",
       "      <td>1.000000</td>\n",
       "      <td>26.00000</td>\n",
       "      <td>1.800000</td>\n",
       "      <td>107.450000</td>\n",
       "      <td>1.000000</td>\n",
       "      <td>1.000000</td>\n",
       "      <td>3.000000</td>\n",
       "      <td>3.000000</td>\n",
       "      <td>2.000000</td>\n",
       "      <td>0.000000</td>\n",
       "      <td>2.500000</td>\n",
       "      <td>0.000000</td>\n",
       "      <td>1.700000</td>\n",
       "      <td>1.000000</td>\n",
       "      <td>3.000000</td>\n",
       "      <td>3.000000</td>\n",
       "      <td>5.000000</td>\n",
       "    </tr>\n",
       "    <tr>\n",
       "      <th>max</th>\n",
       "      <td>1.000000</td>\n",
       "      <td>61.00000</td>\n",
       "      <td>2.000000</td>\n",
       "      <td>173.000000</td>\n",
       "      <td>1.000000</td>\n",
       "      <td>1.000000</td>\n",
       "      <td>3.000000</td>\n",
       "      <td>4.000000</td>\n",
       "      <td>3.000000</td>\n",
       "      <td>1.000000</td>\n",
       "      <td>3.000000</td>\n",
       "      <td>1.000000</td>\n",
       "      <td>3.000000</td>\n",
       "      <td>2.000000</td>\n",
       "      <td>3.000000</td>\n",
       "      <td>4.000000</td>\n",
       "      <td>6.000000</td>\n",
       "    </tr>\n",
       "  </tbody>\n",
       "</table>\n",
       "</div>"
      ],
      "text/plain": [
       "            Gender         Age       Height       Weight  family_history  \\\n",
       "count  2111.000000  2111.00000  2111.000000  2111.000000     2111.000000   \n",
       "mean      0.505921    24.31279     1.701232    86.585978        0.817622   \n",
       "std       0.500083     6.34572     0.099470    26.191165        0.386247   \n",
       "min       0.000000    14.00000     1.400000    39.000000        0.000000   \n",
       "25%       0.000000    19.90000     1.600000    65.450000        1.000000   \n",
       "50%       1.000000    22.80000     1.700000    83.000000        1.000000   \n",
       "75%       1.000000    26.00000     1.800000   107.450000        1.000000   \n",
       "max       1.000000    61.00000     2.000000   173.000000        1.000000   \n",
       "\n",
       "              FAVC         FCVC          NCP         CAEC        SMOKE  \\\n",
       "count  2111.000000  2111.000000  2111.000000  2111.000000  2111.000000   \n",
       "mean      0.883941     2.419138     2.686026     1.859308     0.020843   \n",
       "std       0.320371     0.534181     0.778843     0.468543     0.142893   \n",
       "min       0.000000     1.000000     1.000000     0.000000     0.000000   \n",
       "25%       1.000000     2.000000     2.700000     2.000000     0.000000   \n",
       "50%       1.000000     2.400000     3.000000     2.000000     0.000000   \n",
       "75%       1.000000     3.000000     3.000000     2.000000     0.000000   \n",
       "max       1.000000     3.000000     4.000000     3.000000     1.000000   \n",
       "\n",
       "              CH2O          SCC          FAF          TUE         CALC  \\\n",
       "count  2111.000000  2111.000000  2111.000000  2111.000000  2111.000000   \n",
       "mean      2.007816     0.045476     1.010279     0.658077     2.268593   \n",
       "std       0.614717     0.208395     0.851329     0.609296     0.515498   \n",
       "min       1.000000     0.000000     0.000000     0.000000     0.000000   \n",
       "25%       1.600000     0.000000     0.100000     0.000000     2.000000   \n",
       "50%       2.000000     0.000000     1.000000     0.600000     2.000000   \n",
       "75%       2.500000     0.000000     1.700000     1.000000     3.000000   \n",
       "max       3.000000     1.000000     3.000000     2.000000     3.000000   \n",
       "\n",
       "            MTRANS      Obesity  \n",
       "count  2111.000000  2111.000000  \n",
       "mean      2.365230     3.015632  \n",
       "std       1.261423     1.952090  \n",
       "min       0.000000     0.000000  \n",
       "25%       3.000000     1.000000  \n",
       "50%       3.000000     3.000000  \n",
       "75%       3.000000     5.000000  \n",
       "max       4.000000     6.000000  "
      ]
     },
     "execution_count": 13,
     "metadata": {},
     "output_type": "execute_result"
    }
   ],
   "source": [
    "df.describe()"
   ]
  },
  {
   "cell_type": "markdown",
   "metadata": {},
   "source": [
    "## Dataset Description and Comments\n",
    "\n",
    "### 1. Gender (Binary: 0 or 1)\n",
    "- **Mean:** ~0.51 → Almost equal distribution between two genders.\n",
    "- **Standard Deviation:** 0.5 → Balanced dataset in terms of gender representation.\n",
    "- **Min-Max:** 0 to 1 → Binary categorical variable.\n",
    "\n",
    "### 2. Age\n",
    "- **Mean:** 24.31 years → Majority of individuals are young adults.\n",
    "- **Standard Deviation:** 6.35 → Some variability in age.\n",
    "- **Min-Max:** 14 to 61 years → Covers a broad range from teenagers to older adults.\n",
    "- **75th Percentile:** 26 years → 75% of individuals are younger than 26.\n",
    "\n",
    "### 3. Height (meters)\n",
    "- **Mean:** 1.70m → Close to the average adult height.\n",
    "- **Standard Deviation:** 0.10 → Reasonable spread.\n",
    "- **Min-Max:** 1.40m to 2.00m → Realistic human height range.\n",
    "\n",
    "### 4. Weight (kg)\n",
    "- **Mean:** 86.59kg → Relatively high.\n",
    "- **Standard Deviation:** 26.19 → Significant variation.\n",
    "- **Min-Max:** 39kg to 173kg → Presence of both underweight and severely obese individuals.\n",
    "\n",
    "### 5. Family History of Obesity (Binary: 0 or 1)\n",
    "- **Mean:** 0.82 → 82% of individuals have a family history of obesity.\n",
    "- **Insight:** Suggests a hereditary factor influencing obesity.\n",
    "\n",
    "### 6. Frequent Consumption of High-Calorie Food (FAVC, Binary)\n",
    "- **Mean:** 0.88 → 88% of individuals frequently consume high-calorie food.\n",
    "- **Insight:** May correlate strongly with higher obesity levels.\n",
    "\n",
    "### 7. Frequency of Consumption of Vegetables (FCVC)\n",
    "- **Mean:** 2.42 → Moderate vegetable consumption.\n",
    "- **Scale:** 1 to 3.\n",
    "\n",
    "### 8. Number of Main Meals Per Day (NCP)\n",
    "- **Mean:** 2.69 → Most individuals consume around 3 meals per day.\n",
    "- **Scale:** 1 to 4.\n",
    "\n",
    "### 9. Consumption of Alcohol (CAEC, Categorical: 0-3)\n",
    "- **Mean:** 1.86 → Moderate alcohol consumption.\n",
    "- **Max:** 3 → Some individuals consume alcohol frequently.\n",
    "\n",
    "### 10. Smoking Habit (SMOKE, Binary)\n",
    "- **Mean:** 0.02 → Very low proportion of smokers in the dataset.\n",
    "\n",
    "### 11. Water Consumption (CH2O, Scale 1-3)\n",
    "- **Mean:** 2.01 → Most individuals drink a moderate amount of water daily.\n",
    "\n",
    "### 12. Calories Monitoring (SCC, Binary)\n",
    "- **Mean:** 0.045 → Very few individuals actively monitor their calorie intake.\n",
    "\n",
    "### 13. Physical Activity Frequency (FAF, Scale 0-3)\n",
    "- **Mean:** 1.01 → Most individuals engage in low levels of physical activity.\n",
    "- **Standard Deviation:** 0.85 → Some variation in exercise habits.\n",
    "\n",
    "### 14. Time Using Electronic Devices (TUE, Scale 0-2)\n",
    "- **Mean:** 0.66 → Moderate screen time.\n",
    "\n",
    "### 15. Consumption of Alcohol (CALC, Scale 0-3)\n",
    "- **Mean:** 2.27 → Majority fall between moderate to high alcohol consumption.\n",
    "\n",
    "### 16. Mode of Transportation (MTRANS, Scale 0-4)\n",
    "- **Mean:** 2.37 → Variety of transportation choices.\n",
    "\n",
    "### 17. Obesity Level (Categorical: 0-6)\n",
    "- **Mean:** 3.02 → Moderate to high obesity prevalence.\n",
    "- **Standard Deviation:** 1.95 → Diverse range of obesity levels.\n",
    "- **Min-Max:** 0 to 6 → Covers underweight to severely obese individuals.\n",
    "\n",
    "---\n",
    "\n",
    "#### **Key Insights**\n",
    "1. **Young adult population** (Mean age ~24 years) with **high obesity prevalence** (Mean obesity level ~3 out of 6).\n",
    "2. **82% have a family history of obesity** and **88% frequently consume high-calorie foods**.\n",
    "3. **Moderate vegetable consumption** but **low physical activity levels**.\n",
    "4. **Water consumption is moderate, but calorie monitoring is rare**.\n",
    "5. **Weight and age have high variability**, indicating potential outliers that may require preprocessing.\n"
   ]
  },
  {
   "cell_type": "markdown",
   "metadata": {},
   "source": [
    "## Data Preparation for RandomForestClassifer Training "
   ]
  },
  {
   "cell_type": "code",
   "execution_count": 5,
   "metadata": {},
   "outputs": [
    {
     "name": "stdout",
     "output_type": "stream",
     "text": [
      "Train data shape: (1688, 17)\n",
      "Test data shape: (423, 17)\n",
      "train data shape (1688, 17) and test data shape (423, 17)\n"
     ]
    }
   ],
   "source": [
    "import pandas as pd\n",
    "from sklearn.model_selection import train_test_split\n",
    "\n",
    "# Perform 80:20 train-test split\n",
    "df_train, df_test = train_test_split(df, test_size=0.2, random_state=42, shuffle=True)\n",
    "\n",
    "print(f\"Train data shape: {df_train.shape}\")\n",
    "print(f\"Test data shape: {df_test.shape}\")\n",
    "print('train data shape {} and test data shape {}'.format(np.shape(df_train), np.shape(df_test)))\n"
   ]
  },
  {
   "cell_type": "markdown",
   "metadata": {},
   "source": [
    "This code splits a dataset df into training and testing subsets using an 80:20 ratio.This step is essential for training machine learning models, ensuring they learn from 80% of the data while being evaluated on the remaining 20% for performance assessment."
   ]
  },
  {
   "cell_type": "code",
   "execution_count": 6,
   "metadata": {},
   "outputs": [
    {
     "data": {
      "text/html": [
       "<div>\n",
       "<style scoped>\n",
       "    .dataframe tbody tr th:only-of-type {\n",
       "        vertical-align: middle;\n",
       "    }\n",
       "\n",
       "    .dataframe tbody tr th {\n",
       "        vertical-align: top;\n",
       "    }\n",
       "\n",
       "    .dataframe thead th {\n",
       "        text-align: right;\n",
       "    }\n",
       "</style>\n",
       "<table border=\"1\" class=\"dataframe\">\n",
       "  <thead>\n",
       "    <tr style=\"text-align: right;\">\n",
       "      <th></th>\n",
       "      <th>Gender</th>\n",
       "      <th>Age</th>\n",
       "      <th>Height</th>\n",
       "      <th>Weight</th>\n",
       "      <th>family_history</th>\n",
       "      <th>FAVC</th>\n",
       "      <th>FCVC</th>\n",
       "      <th>NCP</th>\n",
       "      <th>CAEC</th>\n",
       "      <th>SMOKE</th>\n",
       "      <th>CH2O</th>\n",
       "      <th>SCC</th>\n",
       "      <th>FAF</th>\n",
       "      <th>TUE</th>\n",
       "      <th>CALC</th>\n",
       "      <th>MTRANS</th>\n",
       "      <th>Obesity</th>\n",
       "    </tr>\n",
       "  </thead>\n",
       "  <tbody>\n",
       "    <tr>\n",
       "      <th>162</th>\n",
       "      <td>0</td>\n",
       "      <td>21.0</td>\n",
       "      <td>1.6</td>\n",
       "      <td>60.0</td>\n",
       "      <td>1</td>\n",
       "      <td>1</td>\n",
       "      <td>3.0</td>\n",
       "      <td>3.0</td>\n",
       "      <td>0</td>\n",
       "      <td>1</td>\n",
       "      <td>2.0</td>\n",
       "      <td>0</td>\n",
       "      <td>2.0</td>\n",
       "      <td>0.0</td>\n",
       "      <td>2</td>\n",
       "      <td>3</td>\n",
       "      <td>1</td>\n",
       "    </tr>\n",
       "    <tr>\n",
       "      <th>2001</th>\n",
       "      <td>0</td>\n",
       "      <td>20.9</td>\n",
       "      <td>1.8</td>\n",
       "      <td>133.6</td>\n",
       "      <td>1</td>\n",
       "      <td>1</td>\n",
       "      <td>3.0</td>\n",
       "      <td>3.0</td>\n",
       "      <td>2</td>\n",
       "      <td>0</td>\n",
       "      <td>2.9</td>\n",
       "      <td>0</td>\n",
       "      <td>1.5</td>\n",
       "      <td>0.8</td>\n",
       "      <td>2</td>\n",
       "      <td>3</td>\n",
       "      <td>4</td>\n",
       "    </tr>\n",
       "    <tr>\n",
       "      <th>1435</th>\n",
       "      <td>0</td>\n",
       "      <td>22.9</td>\n",
       "      <td>1.7</td>\n",
       "      <td>82.6</td>\n",
       "      <td>1</td>\n",
       "      <td>1</td>\n",
       "      <td>1.2</td>\n",
       "      <td>1.4</td>\n",
       "      <td>2</td>\n",
       "      <td>0</td>\n",
       "      <td>2.8</td>\n",
       "      <td>0</td>\n",
       "      <td>0.1</td>\n",
       "      <td>1.7</td>\n",
       "      <td>2</td>\n",
       "      <td>3</td>\n",
       "      <td>2</td>\n",
       "    </tr>\n",
       "    <tr>\n",
       "      <th>649</th>\n",
       "      <td>0</td>\n",
       "      <td>21.8</td>\n",
       "      <td>1.6</td>\n",
       "      <td>44.2</td>\n",
       "      <td>0</td>\n",
       "      <td>0</td>\n",
       "      <td>3.0</td>\n",
       "      <td>1.7</td>\n",
       "      <td>1</td>\n",
       "      <td>0</td>\n",
       "      <td>2.6</td>\n",
       "      <td>0</td>\n",
       "      <td>1.1</td>\n",
       "      <td>0.0</td>\n",
       "      <td>3</td>\n",
       "      <td>3</td>\n",
       "      <td>0</td>\n",
       "    </tr>\n",
       "    <tr>\n",
       "      <th>1280</th>\n",
       "      <td>1</td>\n",
       "      <td>26.0</td>\n",
       "      <td>1.8</td>\n",
       "      <td>106.0</td>\n",
       "      <td>1</td>\n",
       "      <td>1</td>\n",
       "      <td>3.0</td>\n",
       "      <td>3.0</td>\n",
       "      <td>2</td>\n",
       "      <td>0</td>\n",
       "      <td>2.9</td>\n",
       "      <td>0</td>\n",
       "      <td>1.8</td>\n",
       "      <td>0.7</td>\n",
       "      <td>2</td>\n",
       "      <td>3</td>\n",
       "      <td>2</td>\n",
       "    </tr>\n",
       "  </tbody>\n",
       "</table>\n",
       "</div>"
      ],
      "text/plain": [
       "      Gender   Age  Height  Weight  family_history  FAVC  FCVC  NCP  CAEC  \\\n",
       "162        0  21.0     1.6    60.0               1     1   3.0  3.0     0   \n",
       "2001       0  20.9     1.8   133.6               1     1   3.0  3.0     2   \n",
       "1435       0  22.9     1.7    82.6               1     1   1.2  1.4     2   \n",
       "649        0  21.8     1.6    44.2               0     0   3.0  1.7     1   \n",
       "1280       1  26.0     1.8   106.0               1     1   3.0  3.0     2   \n",
       "\n",
       "      SMOKE  CH2O  SCC  FAF  TUE  CALC  MTRANS  Obesity  \n",
       "162       1   2.0    0  2.0  0.0     2       3        1  \n",
       "2001      0   2.9    0  1.5  0.8     2       3        4  \n",
       "1435      0   2.8    0  0.1  1.7     2       3        2  \n",
       "649       0   2.6    0  1.1  0.0     3       3        0  \n",
       "1280      0   2.9    0  1.8  0.7     2       3        2  "
      ]
     },
     "execution_count": 6,
     "metadata": {},
     "output_type": "execute_result"
    }
   ],
   "source": [
    "df_train.head()"
   ]
  },
  {
   "cell_type": "markdown",
   "metadata": {},
   "source": [
    "# Obesity Level Prediction Dataset\n",
    "\n",
    "The variables in this dataset describe different lifestyle and health factors used to predict obesity levels.\n",
    "\n",
    "## Variables\n",
    "\n",
    "| **Variable** | **Description** |\n",
    "|-------------|----------------|\n",
    "| **Gender** | Gender of the individual. |\n",
    "| **Age** | Age of the individual. |\n",
    "| **Height** | Height in meters. |\n",
    "| **Weight** | Weight in kilograms. |\n",
    "| **family_history** | Has a family member suffered or suffers from overweight? |\n",
    "| **FAVC** | Do you eat high caloric food frequently? |\n",
    "| **FCVC** | Do you usually eat vegetables in your meals? |\n",
    "| **NCP** | How many main meals do you have daily? |\n",
    "| **CAEC** | Do you eat any food between meals? |\n",
    "| **SMOKE** | Do you smoke? |\n",
    "| **CH2O** | How much water do you drink daily? |\n",
    "| **SCC** | Do you monitor the calories you eat daily? |\n",
    "| **FAF** | How often do you have physical activity? |\n",
    "| **TUE** | How much time do you use technological devices such as cell phones, video games, television, computers, and others? |\n",
    "| **CALC** | How often do you drink alcohol? |\n",
    "| **MTRANS** | Which transportation do you usually use? |\n",
    "| **Obesity_level** | The target variable, indicating the obesity level. |\n",
    "\n",
    "---\n",
    "\n",
    "These datasets can be used for machine learning models to predict earthquake rupture and obesity levels based on relevant features."
   ]
  },
  {
   "cell_type": "markdown",
   "metadata": {},
   "source": [
    "## Data Preparation"
   ]
  },
  {
   "cell_type": "markdown",
   "metadata": {},
   "source": [
    "### Features Standardization"
   ]
  },
  {
   "cell_type": "markdown",
   "metadata": {},
   "source": [
    "In our obesity prediction model, we standardize features to ensure that each variable contributes equally to the learning process, particularly in algorithms that rely on distance metrics, such as k-nearest neighbors and support vector machines. Standardization transforms the data to have a mean of zero and a standard deviation of one, mitigating the effects of differing scales among features. Given that our dataset includes variables with varying units—such as height (meters), weight (kilograms), and lifestyle factors (categorical or frequency-based)—unstandardized data could lead to biased model performance, where certain variables disproportionately influence predictions. Moreover, standardization enhances model efficiency by accelerating convergence during training, especially in gradient-based optimization methods, leading to more stable and accurate obesity level classifications."
   ]
  },
  {
   "cell_type": "code",
   "execution_count": null,
   "metadata": {
    "scrolled": false
   },
   "outputs": [],
   "source": [
    "mms = StandardScaler()\n",
    "xtrain = mms.fit_transform(df_train.drop('Obesity', axis=1))\n",
    "ytrain = df_train['Obesity'].values\n",
    "xtest = mms.transform(df_test.drop('Obesity', axis=1)) #thay vi Fit_transform \n",
    "ytest = df_test['Obesity'].values   "
   ]
  },
  {
   "cell_type": "code",
   "execution_count": 8,
   "metadata": {},
   "outputs": [
    {
     "data": {
      "text/html": [
       "<div>\n",
       "<style scoped>\n",
       "    .dataframe tbody tr th:only-of-type {\n",
       "        vertical-align: middle;\n",
       "    }\n",
       "\n",
       "    .dataframe tbody tr th {\n",
       "        vertical-align: top;\n",
       "    }\n",
       "\n",
       "    .dataframe thead th {\n",
       "        text-align: right;\n",
       "    }\n",
       "</style>\n",
       "<table border=\"1\" class=\"dataframe\">\n",
       "  <thead>\n",
       "    <tr style=\"text-align: right;\">\n",
       "      <th></th>\n",
       "      <th>Gender</th>\n",
       "      <th>Age</th>\n",
       "      <th>Height</th>\n",
       "      <th>Weight</th>\n",
       "      <th>family_history</th>\n",
       "      <th>FAVC</th>\n",
       "      <th>FCVC</th>\n",
       "      <th>NCP</th>\n",
       "      <th>CAEC</th>\n",
       "      <th>SMOKE</th>\n",
       "      <th>CH2O</th>\n",
       "      <th>SCC</th>\n",
       "      <th>FAF</th>\n",
       "      <th>TUE</th>\n",
       "      <th>CALC</th>\n",
       "      <th>MTRANS</th>\n",
       "      <th>Obesity</th>\n",
       "    </tr>\n",
       "  </thead>\n",
       "  <tbody>\n",
       "    <tr>\n",
       "      <th>162</th>\n",
       "      <td>0</td>\n",
       "      <td>21.0</td>\n",
       "      <td>1.6</td>\n",
       "      <td>60.0</td>\n",
       "      <td>1</td>\n",
       "      <td>1</td>\n",
       "      <td>3.0</td>\n",
       "      <td>3.0</td>\n",
       "      <td>0</td>\n",
       "      <td>1</td>\n",
       "      <td>2.0</td>\n",
       "      <td>0</td>\n",
       "      <td>2.0</td>\n",
       "      <td>0.0</td>\n",
       "      <td>2</td>\n",
       "      <td>3</td>\n",
       "      <td>1</td>\n",
       "    </tr>\n",
       "    <tr>\n",
       "      <th>2001</th>\n",
       "      <td>0</td>\n",
       "      <td>20.9</td>\n",
       "      <td>1.8</td>\n",
       "      <td>133.6</td>\n",
       "      <td>1</td>\n",
       "      <td>1</td>\n",
       "      <td>3.0</td>\n",
       "      <td>3.0</td>\n",
       "      <td>2</td>\n",
       "      <td>0</td>\n",
       "      <td>2.9</td>\n",
       "      <td>0</td>\n",
       "      <td>1.5</td>\n",
       "      <td>0.8</td>\n",
       "      <td>2</td>\n",
       "      <td>3</td>\n",
       "      <td>4</td>\n",
       "    </tr>\n",
       "    <tr>\n",
       "      <th>1435</th>\n",
       "      <td>0</td>\n",
       "      <td>22.9</td>\n",
       "      <td>1.7</td>\n",
       "      <td>82.6</td>\n",
       "      <td>1</td>\n",
       "      <td>1</td>\n",
       "      <td>1.2</td>\n",
       "      <td>1.4</td>\n",
       "      <td>2</td>\n",
       "      <td>0</td>\n",
       "      <td>2.8</td>\n",
       "      <td>0</td>\n",
       "      <td>0.1</td>\n",
       "      <td>1.7</td>\n",
       "      <td>2</td>\n",
       "      <td>3</td>\n",
       "      <td>2</td>\n",
       "    </tr>\n",
       "    <tr>\n",
       "      <th>649</th>\n",
       "      <td>0</td>\n",
       "      <td>21.8</td>\n",
       "      <td>1.6</td>\n",
       "      <td>44.2</td>\n",
       "      <td>0</td>\n",
       "      <td>0</td>\n",
       "      <td>3.0</td>\n",
       "      <td>1.7</td>\n",
       "      <td>1</td>\n",
       "      <td>0</td>\n",
       "      <td>2.6</td>\n",
       "      <td>0</td>\n",
       "      <td>1.1</td>\n",
       "      <td>0.0</td>\n",
       "      <td>3</td>\n",
       "      <td>3</td>\n",
       "      <td>0</td>\n",
       "    </tr>\n",
       "    <tr>\n",
       "      <th>1280</th>\n",
       "      <td>1</td>\n",
       "      <td>26.0</td>\n",
       "      <td>1.8</td>\n",
       "      <td>106.0</td>\n",
       "      <td>1</td>\n",
       "      <td>1</td>\n",
       "      <td>3.0</td>\n",
       "      <td>3.0</td>\n",
       "      <td>2</td>\n",
       "      <td>0</td>\n",
       "      <td>2.9</td>\n",
       "      <td>0</td>\n",
       "      <td>1.8</td>\n",
       "      <td>0.7</td>\n",
       "      <td>2</td>\n",
       "      <td>3</td>\n",
       "      <td>2</td>\n",
       "    </tr>\n",
       "  </tbody>\n",
       "</table>\n",
       "</div>"
      ],
      "text/plain": [
       "      Gender   Age  Height  Weight  family_history  FAVC  FCVC  NCP  CAEC  \\\n",
       "162        0  21.0     1.6    60.0               1     1   3.0  3.0     0   \n",
       "2001       0  20.9     1.8   133.6               1     1   3.0  3.0     2   \n",
       "1435       0  22.9     1.7    82.6               1     1   1.2  1.4     2   \n",
       "649        0  21.8     1.6    44.2               0     0   3.0  1.7     1   \n",
       "1280       1  26.0     1.8   106.0               1     1   3.0  3.0     2   \n",
       "\n",
       "      SMOKE  CH2O  SCC  FAF  TUE  CALC  MTRANS  Obesity  \n",
       "162       1   2.0    0  2.0  0.0     2       3        1  \n",
       "2001      0   2.9    0  1.5  0.8     2       3        4  \n",
       "1435      0   2.8    0  0.1  1.7     2       3        2  \n",
       "649       0   2.6    0  1.1  0.0     3       3        0  \n",
       "1280      0   2.9    0  1.8  0.7     2       3        2  "
      ]
     },
     "execution_count": 8,
     "metadata": {},
     "output_type": "execute_result"
    }
   ],
   "source": [
    "df_train.head()"
   ]
  },
  {
   "cell_type": "markdown",
   "metadata": {},
   "source": [
    "### Feature Transposition and Target Extraction"
   ]
  },
  {
   "cell_type": "code",
   "execution_count": 9,
   "metadata": {},
   "outputs": [],
   "source": [
    "# some ML algo requires data in this format \n",
    "xtransfer = np.transpose(np.array(df_train.drop('Obesity', axis=1)))\n",
    "ytransfer = list(df_train.Obesity.values)"
   ]
  },
  {
   "cell_type": "code",
   "execution_count": 10,
   "metadata": {
    "collapsed": true
   },
   "outputs": [
    {
     "data": {
      "text/plain": [
       "array([[ 0. ,  0. ,  0. , ...,  0. ,  0. ,  1. ],\n",
       "       [21. , 20.9, 22.9, ..., 23. , 23. , 20. ],\n",
       "       [ 1.6,  1.8,  1.7, ...,  1.6,  1.6,  1.8],\n",
       "       ...,\n",
       "       [ 0. ,  0.8,  1.7, ...,  2. ,  0.6,  0.6],\n",
       "       [ 2. ,  2. ,  2. , ...,  3. ,  3. ,  2. ],\n",
       "       [ 3. ,  3. ,  3. , ...,  3. ,  3. ,  3. ]])"
      ]
     },
     "execution_count": 10,
     "metadata": {},
     "output_type": "execute_result"
    }
   ],
   "source": [
    "xtransfer"
   ]
  },
  {
   "cell_type": "markdown",
   "metadata": {},
   "source": [
    "## Exploratory Data Analysis"
   ]
  },
  {
   "cell_type": "markdown",
   "metadata": {},
   "source": [
    "### Correlation Analysis"
   ]
  },
  {
   "cell_type": "code",
   "execution_count": 11,
   "metadata": {
    "scrolled": false
   },
   "outputs": [
    {
     "data": {
      "text/plain": [
       "<Axes: >"
      ]
     },
     "execution_count": 11,
     "metadata": {},
     "output_type": "execute_result"
    },
    {
     "data": {
      "image/png": "[encoded data removed]",
      "text/plain": [
       "<Figure size 1000x1000 with 2 Axes>"
      ]
     },
     "metadata": {},
     "output_type": "display_data"
    }
   ],
   "source": [
    "plt.figure(figsize=(10, 10))\n",
    "plt.rcParams.update({'font.size': 14})\n",
    "sns.heatmap(df_train.corr().round(1), annot = True)"
   ]
  },
  {
   "cell_type": "markdown",
   "metadata": {},
   "source": [
    "# **Interpretation of the Heatmap**\n",
    "\n",
    "### **1. Strongest Positive Correlations (Closer to 1)**\n",
    "- **Weight & Obesity (~0.4):** Higher weight correlates with higher obesity levels.\n",
    "- **Family History & Weight (~0.5):** A family history of obesity is associated with higher weight.\n",
    "- **FAVC (Frequent High-Calorie Food) & Obesity (~0.3):** Eating high-caloric food is positively linked to obesity.\n",
    "- **CAEC (Eating Between Meals) & Weight (~0.3):** Snacking between meals contributes to weight gain.\n",
    "\n",
    "---\n",
    "\n",
    "### **2. Strongest Negative Correlations (Closer to -1)**\n",
    "- **MTRANS (Mode of Transportation) & Obesity (~-0.6):** People who use more active transportation (e.g., walking, cycling) tend to have lower obesity levels.\n",
    "- **Gender & Height (~-0.6):** This likely reflects that males are generally taller than females.\n",
    "- **FCVC (Frequent Vegetable Consumption) & Obesity (~-0.1):** A weak negative correlation suggests that eating more vegetables slightly reduces obesity risk.\n",
    "\n",
    "---\n",
    "\n",
    "## **Insights for Obesity Prediction**\n",
    "- **Weight, high-calorie food intake, and eating between meals are key obesity predictors.**\n",
    "- **Physical activity, transportation mode, and vegetable consumption play a role in reducing obesity.**\n",
    "- **Lifestyle habits (smoking, alcohol consumption) seem to have weak correlations with obesity.**\n",
    "\n"
   ]
  },
  {
   "cell_type": "markdown",
   "metadata": {},
   "source": [
    "### Class Imbalance "
   ]
  },
  {
   "cell_type": "code",
   "execution_count": 12,
   "metadata": {},
   "outputs": [
    {
     "name": "stdout",
     "output_type": "stream",
     "text": [
      "Insufficient_Weight: 216\n",
      "Normal_Weight: 225\n",
      "Obesity_Type_I: 273\n",
      "Obesity_Type_II: 239\n",
      "Obesity_Type_III: 261\n",
      "Overweight_Level_I: 234\n",
      "Overweight_Level_II: 240\n",
      "Total number of data: 1688\n",
      "Class ratio for Insufficient_Weight: 12.80%\n",
      "Class ratio for Normal_Weight: 13.33%\n",
      "Class ratio for Obesity_Type_I: 16.17%\n",
      "Class ratio for Obesity_Type_II: 14.16%\n",
      "Class ratio for Obesity_Type_III: 15.46%\n",
      "Class ratio for Overweight_Level_I: 13.86%\n",
      "Class ratio for Overweight_Level_II: 14.22%\n"
     ]
    }
   ],
   "source": [
    "# Count instances per class\n",
    "label_count = df_train.groupby('Obesity', as_index=False).count()\n",
    "\n",
    "# Define class names\n",
    "class_names = [\n",
    "    \"Insufficient_Weight\", \"Normal_Weight\", \"Obesity_Type_I\", \n",
    "    \"Obesity_Type_II\", \"Obesity_Type_III\", \"Overweight_Level_I\", \"Overweight_Level_II\"\n",
    "]\n",
    "\n",
    "# Extract the count of each label\n",
    "count = list(label_count['Height'])  # Assuming 'height' is a feature in your dataset\n",
    "\n",
    "# Print class distribution\n",
    "for i in range(len(class_names)):\n",
    "    print('{}: {}'.format(class_names[i], count[i]))\n",
    "\n",
    "# Total number of data points\n",
    "total_count = np.sum(count)\n",
    "print('Total number of data: {}'.format(total_count))\n",
    "\n",
    "# Calculate and display class ratios\n",
    "class_ratios = [c / total_count for c in count]\n",
    "for i in range(len(class_names)):\n",
    "    print('Class ratio for {}: {:.2f}%'.format(class_names[i], class_ratios[i] * 100))\n"
   ]
  },
  {
   "cell_type": "code",
   "execution_count": 13,
   "metadata": {},
   "outputs": [
    {
     "data": {
      "image/png": "[encoded data removed]",
      "text/plain": [
       "<Figure size 640x480 with 1 Axes>"
      ]
     },
     "metadata": {},
     "output_type": "display_data"
    }
   ],
   "source": [
    "index = np.arange(len(class_names))\n",
    "sns.barplot(x = class_names, y = count, linewidth = 2.5, errcolor = \".2\", edgecolor = \".2\")\n",
    "plt.xlabel('Class', fontsize=15)\n",
    "plt.ylabel('Number of data', fontsize=15)\n",
    "plt.xticks(index, class_names, rotation=60, fontsize=15)\n",
    "plt.title('Class distribution')\n",
    "plt.show()"
   ]
  },
  {
   "cell_type": "markdown",
   "metadata": {},
   "source": [
    "# **Class Distribution Analysis**\n",
    "\n",
    "The bar chart represents the distribution of different obesity levels within the dataset.\n",
    "\n",
    "## **Key Observations**\n",
    "- The dataset appears to be **relatively balanced**, with all obesity classes having a similar number of samples.\n",
    "- **Obesity Type I** has the highest number of instances, indicating that this category is more common in the dataset.\n",
    "- Other obesity levels (**Obesity Type II, Obesity Type III, Overweight Level I & II**) also have substantial representation.\n",
    "- **Normal Weight and Insufficient Weight** categories have slightly fewer samples than some obesity classes but still hold a fair proportion.\n",
    "\n",
    "## **Implications for Model Training**\n",
    "- Since the dataset does not suffer from severe class imbalance, **machine learning models will not be biased** toward a particular obesity level.\n",
    "- However, minor variations in class counts may still require **stratified sampling** during training to ensure fair representation.\n",
    "- If necessary, techniques such as **data augmentation or class weighting** can be used to improve model performance on underrepresented categories.\n",
    "\n",
    "Overall, the dataset provides a well-distributed sample of different obesity classes, making it suitable for **classification tasks in obesity prediction**.\n"
   ]
  },
  {
   "cell_type": "code",
   "execution_count": 14,
   "metadata": {},
   "outputs": [
    {
     "name": "stdout",
     "output_type": "stream",
     "text": [
      "Class ratio between Insufficient_Weight and Normal_Weight: 0.96\n",
      "Class Weights: {0: 1.1164021164021165, 1: 1.0717460317460317, 2: 0.8833071690214548, 3: 1.0089659294680215, 4: 0.9239189928845101, 5: 1.0305250305250304, 6: 1.0047619047619047}\n"
     ]
    }
   ],
   "source": [
    "import numpy as np\n",
    "from sklearn.utils.class_weight import compute_class_weight\n",
    "\n",
    "# Calculate class ratio using the first two classes as reference (like the original binary logic)\n",
    "POS_CLASS_RATIO = count[0] / count[1]\n",
    "print('Class ratio between {} and {}: {:.2f}'.format(class_names[0], class_names[1], POS_CLASS_RATIO))\n",
    "\n",
    "# Compute class weights for multi-class classification\n",
    "unique_classes = np.unique(ytrain.astype(int))\n",
    "class_weights = compute_class_weight(class_weight='balanced', classes=unique_classes, y=ytrain.astype(int))\n",
    "\n",
    "# Convert to dictionary format\n",
    "CLASS_WEIGHT = {i: class_weights[i] for i in range(len(class_weights))}\n",
    "\n",
    "# Print the computed class weights\n",
    "print(\"Class Weights:\", CLASS_WEIGHT)\n"
   ]
  },
  {
   "cell_type": "markdown",
   "metadata": {},
   "source": [
    "## Train and Hyperparameters Tuning for RFC model"
   ]
  },
  {
   "cell_type": "code",
   "execution_count": null,
   "metadata": {},
   "outputs": [
    {
     "name": "stderr",
     "output_type": "stream",
     "text": [
      "[I 2025-02-24 23:38:14,723] A new study created in memory with name: no-name-47efae56-e511-4d1b-95a3-2eccda0e9d25\n",
      "[I 2025-02-24 23:38:15,076] Trial 0 finished with value: 0.8483412322274881 and parameters: {'n_estimators': 59, 'max_depth': 10, 'min_samples_split': 67}. Best is trial 0 with value: 0.8483412322274881.\n",
      "[I 2025-02-24 23:38:15,206] Trial 1 finished with value: 0.7138625592417062 and parameters: {'n_estimators': 28, 'max_depth': 3, 'min_samples_split': 53}. Best is trial 0 with value: 0.8483412322274881.\n",
      "[I 2025-02-24 23:38:15,586] Trial 2 finished with value: 0.8655213270142179 and parameters: {'n_estimators': 68, 'max_depth': 9, 'min_samples_split': 49}. Best is trial 2 with value: 0.8655213270142179.\n",
      "[I 2025-02-24 23:38:15,808] Trial 3 finished with value: 0.8702606635071091 and parameters: {'n_estimators': 38, 'max_depth': 9, 'min_samples_split': 40}. Best is trial 3 with value: 0.8702606635071091.\n",
      "[I 2025-02-24 23:38:16,100] Trial 4 finished with value: 0.8631516587677724 and parameters: {'n_estimators': 53, 'max_depth': 7, 'min_samples_split': 47}. Best is trial 3 with value: 0.8702606635071091.\n",
      "[I 2025-02-24 23:38:16,246] Trial 5 finished with value: 0.8631516587677726 and parameters: {'n_estimators': 25, 'max_depth': 8, 'min_samples_split': 42}. Best is trial 3 with value: 0.8702606635071091.\n",
      "[I 2025-02-24 23:38:16,585] Trial 6 finished with value: 0.8299763033175356 and parameters: {'n_estimators': 68, 'max_depth': 5, 'min_samples_split': 53}. Best is trial 3 with value: 0.8702606635071091.\n",
      "[I 2025-02-24 23:38:17,080] Trial 7 finished with value: 0.8625592417061612 and parameters: {'n_estimators': 91, 'max_depth': 7, 'min_samples_split': 41}. Best is trial 3 with value: 0.8702606635071091.\n",
      "[I 2025-02-24 23:38:17,504] Trial 8 finished with value: 0.8062796208530805 and parameters: {'n_estimators': 90, 'max_depth': 4, 'min_samples_split': 45}. Best is trial 3 with value: 0.8702606635071091.\n",
      "[I 2025-02-24 23:38:18,056] Trial 9 finished with value: 0.870260663507109 and parameters: {'n_estimators': 98, 'max_depth': 9, 'min_samples_split': 42}. Best is trial 3 with value: 0.8702606635071091.\n",
      "[I 2025-02-24 23:38:18,147] Trial 10 finished with value: 0.8145734597156398 and parameters: {'n_estimators': 12, 'max_depth': 6, 'min_samples_split': 63}. Best is trial 3 with value: 0.8702606635071091.\n",
      "[I 2025-02-24 23:38:18,408] Trial 11 finished with value: 0.8708530805687204 and parameters: {'n_estimators': 43, 'max_depth': 10, 'min_samples_split': 40}. Best is trial 11 with value: 0.8708530805687204.\n",
      "[I 2025-02-24 23:38:18,643] Trial 12 finished with value: 0.8495260663507109 and parameters: {'n_estimators': 42, 'max_depth': 10, 'min_samples_split': 59}. Best is trial 11 with value: 0.8708530805687204.\n",
      "[I 2025-02-24 23:38:18,892] Trial 13 finished with value: 0.8661137440758294 and parameters: {'n_estimators': 42, 'max_depth': 9, 'min_samples_split': 40}. Best is trial 11 with value: 0.8708530805687204.\n",
      "[I 2025-02-24 23:38:19,111] Trial 14 finished with value: 0.8613744075829384 and parameters: {'n_estimators': 37, 'max_depth': 8, 'min_samples_split': 49}. Best is trial 11 with value: 0.8708530805687204.\n",
      "[I 2025-02-24 23:38:19,188] Trial 15 finished with value: 0.8424170616113744 and parameters: {'n_estimators': 10, 'max_depth': 10, 'min_samples_split': 45}. Best is trial 11 with value: 0.8708530805687204.\n",
      "[I 2025-02-24 23:38:19,486] Trial 16 finished with value: 0.8584123222748815 and parameters: {'n_estimators': 53, 'max_depth': 8, 'min_samples_split': 58}. Best is trial 11 with value: 0.8708530805687204.\n",
      "[I 2025-02-24 23:38:19,656] Trial 17 finished with value: 0.8341232227488152 and parameters: {'n_estimators': 27, 'max_depth': 9, 'min_samples_split': 69}. Best is trial 11 with value: 0.8708530805687204.\n",
      "[I 2025-02-24 23:38:19,992] Trial 18 finished with value: 0.8507109004739337 and parameters: {'n_estimators': 60, 'max_depth': 6, 'min_samples_split': 45}. Best is trial 11 with value: 0.8708530805687204.\n",
      "[I 2025-02-24 23:38:20,410] Trial 19 finished with value: 0.8584123222748814 and parameters: {'n_estimators': 73, 'max_depth': 10, 'min_samples_split': 52}. Best is trial 11 with value: 0.8708530805687204.\n",
      "[I 2025-02-24 23:38:20,687] Trial 20 finished with value: 0.8720379146919431 and parameters: {'n_estimators': 46, 'max_depth': 8, 'min_samples_split': 40}. Best is trial 20 with value: 0.8720379146919431.\n",
      "[I 2025-02-24 23:38:20,910] Trial 21 finished with value: 0.8755924170616114 and parameters: {'n_estimators': 36, 'max_depth': 8, 'min_samples_split': 40}. Best is trial 21 with value: 0.8755924170616114.\n",
      "[I 2025-02-24 23:38:21,190] Trial 22 finished with value: 0.8643364928909953 and parameters: {'n_estimators': 48, 'max_depth': 7, 'min_samples_split': 44}. Best is trial 21 with value: 0.8755924170616114.\n",
      "[I 2025-02-24 23:38:21,381] Trial 23 finished with value: 0.8619668246445499 and parameters: {'n_estimators': 31, 'max_depth': 8, 'min_samples_split': 48}. Best is trial 21 with value: 0.8755924170616114.\n",
      "[I 2025-02-24 23:38:21,648] Trial 24 finished with value: 0.8613744075829384 and parameters: {'n_estimators': 47, 'max_depth': 6, 'min_samples_split': 43}. Best is trial 21 with value: 0.8755924170616114.\n",
      "[I 2025-02-24 23:38:21,778] Trial 25 finished with value: 0.8601895734597156 and parameters: {'n_estimators': 19, 'max_depth': 8, 'min_samples_split': 40}. Best is trial 21 with value: 0.8755924170616114.\n",
      "[I 2025-02-24 23:38:21,990] Trial 26 finished with value: 0.8684834123222749 and parameters: {'n_estimators': 35, 'max_depth': 7, 'min_samples_split': 43}. Best is trial 21 with value: 0.8755924170616114.\n",
      "[I 2025-02-24 23:38:22,241] Trial 27 finished with value: 0.8311611374407583 and parameters: {'n_estimators': 46, 'max_depth': 5, 'min_samples_split': 46}. Best is trial 21 with value: 0.8755924170616114.\n",
      "[I 2025-02-24 23:38:22,365] Trial 28 finished with value: 0.8507109004739337 and parameters: {'n_estimators': 19, 'max_depth': 9, 'min_samples_split': 51}. Best is trial 21 with value: 0.8755924170616114.\n",
      "[I 2025-02-24 23:38:22,681] Trial 29 finished with value: 0.8501184834123222 and parameters: {'n_estimators': 57, 'max_depth': 10, 'min_samples_split': 65}. Best is trial 21 with value: 0.8755924170616114.\n",
      "[I 2025-02-24 23:38:23,026] Trial 30 finished with value: 0.8572274881516587 and parameters: {'n_estimators': 62, 'max_depth': 8, 'min_samples_split': 57}. Best is trial 21 with value: 0.8755924170616114.\n",
      "[I 2025-02-24 23:38:23,263] Trial 31 finished with value: 0.8696682464454976 and parameters: {'n_estimators': 39, 'max_depth': 9, 'min_samples_split': 40}. Best is trial 21 with value: 0.8755924170616114.\n",
      "[I 2025-02-24 23:38:23,490] Trial 32 finished with value: 0.8738151658767772 and parameters: {'n_estimators': 35, 'max_depth': 10, 'min_samples_split': 40}. Best is trial 21 with value: 0.8755924170616114.\n",
      "[I 2025-02-24 23:38:23,707] Trial 33 finished with value: 0.8726303317535545 and parameters: {'n_estimators': 33, 'max_depth': 10, 'min_samples_split': 43}. Best is trial 21 with value: 0.8755924170616114.\n",
      "[I 2025-02-24 23:38:23,899] Trial 34 finished with value: 0.8732227488151658 and parameters: {'n_estimators': 31, 'max_depth': 10, 'min_samples_split': 43}. Best is trial 21 with value: 0.8755924170616114.\n",
      "[I 2025-02-24 23:38:24,086] Trial 35 finished with value: 0.8720379146919431 and parameters: {'n_estimators': 31, 'max_depth': 10, 'min_samples_split': 47}. Best is trial 21 with value: 0.8755924170616114.\n",
      "[I 2025-02-24 23:38:24,219] Trial 36 finished with value: 0.8542654028436019 and parameters: {'n_estimators': 21, 'max_depth': 10, 'min_samples_split': 50}. Best is trial 21 with value: 0.8755924170616114.\n",
      "[I 2025-02-24 23:38:24,414] Trial 37 finished with value: 0.8744075829383886 and parameters: {'n_estimators': 32, 'max_depth': 9, 'min_samples_split': 42}. Best is trial 21 with value: 0.8755924170616114.\n",
      "[I 2025-02-24 23:38:24,566] Trial 38 finished with value: 0.8755924170616114 and parameters: {'n_estimators': 24, 'max_depth': 9, 'min_samples_split': 42}. Best is trial 21 with value: 0.8755924170616114.\n",
      "[I 2025-02-24 23:38:24,720] Trial 39 finished with value: 0.8489336492890995 and parameters: {'n_estimators': 24, 'max_depth': 9, 'min_samples_split': 55}. Best is trial 21 with value: 0.8755924170616114.\n",
      "[I 2025-02-24 23:38:24,830] Trial 40 finished with value: 0.8524881516587678 and parameters: {'n_estimators': 16, 'max_depth': 9, 'min_samples_split': 42}. Best is trial 21 with value: 0.8755924170616114.\n",
      "[I 2025-02-24 23:38:25,016] Trial 41 finished with value: 0.8761848341232228 and parameters: {'n_estimators': 29, 'max_depth': 9, 'min_samples_split': 42}. Best is trial 41 with value: 0.8761848341232228.\n",
      "[I 2025-02-24 23:38:25,186] Trial 42 finished with value: 0.8773696682464455 and parameters: {'n_estimators': 27, 'max_depth': 9, 'min_samples_split': 42}. Best is trial 42 with value: 0.8773696682464455.\n",
      "[I 2025-02-24 23:38:25,345] Trial 43 finished with value: 0.8631516587677726 and parameters: {'n_estimators': 25, 'max_depth': 9, 'min_samples_split': 47}. Best is trial 42 with value: 0.8773696682464455.\n",
      "[I 2025-02-24 23:38:25,431] Trial 44 finished with value: 0.6990521327014219 and parameters: {'n_estimators': 15, 'max_depth': 3, 'min_samples_split': 44}. Best is trial 42 with value: 0.8773696682464455.\n",
      "[I 2025-02-24 23:38:25,603] Trial 45 finished with value: 0.875 and parameters: {'n_estimators': 28, 'max_depth': 9, 'min_samples_split': 42}. Best is trial 42 with value: 0.8773696682464455.\n",
      "[I 2025-02-24 23:38:25,746] Trial 46 finished with value: 0.8536729857819905 and parameters: {'n_estimators': 23, 'max_depth': 7, 'min_samples_split': 46}. Best is trial 42 with value: 0.8773696682464455.\n",
      "[I 2025-02-24 23:38:25,929] Trial 47 finished with value: 0.8684834123222749 and parameters: {'n_estimators': 28, 'max_depth': 8, 'min_samples_split': 42}. Best is trial 42 with value: 0.8773696682464455.\n",
      "[I 2025-02-24 23:38:26,026] Trial 48 finished with value: 0.8370853080568721 and parameters: {'n_estimators': 15, 'max_depth': 9, 'min_samples_split': 62}. Best is trial 42 with value: 0.8773696682464455.\n",
      "[I 2025-02-24 23:38:26,263] Trial 49 finished with value: 0.8696682464454977 and parameters: {'n_estimators': 39, 'max_depth': 8, 'min_samples_split': 41}. Best is trial 42 with value: 0.8773696682464455.\n"
     ]
    }
   ],
   "source": [
    "import optuna\n",
    "from sklearn.ensemble import RandomForestClassifier\n",
    "from sklearn.model_selection import StratifiedKFold, cross_val_score\n",
    "\n",
    "cv = StratifiedKFold(n_splits=4, shuffle=True, random_state=random_state)\n",
    "\n",
    "def objective(trial):\n",
    "    n_estimators = trial.suggest_int('n_estimators', 10, 100)\n",
    "    max_depth = trial.suggest_int('max_depth', 3, 10)\n",
    "    min_samples_split = trial.suggest_int('min_samples_split', 40, 70)\n",
    "\n",
    "    clf = RandomForestClassifier(\n",
    "        n_estimators=n_estimators,\n",
    "        max_depth=max_depth,\n",
    "        min_samples_split=min_samples_split,\n",
    "        criterion='entropy',\n",
    "        random_state=random_state,\n",
    "        class_weight='balanced'\n",
    "    )\n",
    "\n",
    "    return cross_val_score(clf, xtrain, ytrain.astype(int), cv=cv, scoring='accuracy').mean()\n",
    "\n",
    "study = optuna.create_study(direction='maximize')\n",
    "study.optimize(objective, n_trials=50)\n",
    "\n",
    "best_params = study.best_params\n"
   ]
  },
  {
   "cell_type": "code",
   "execution_count": 17,
   "metadata": {},
   "outputs": [
    {
     "name": "stdout",
     "output_type": "stream",
     "text": [
      "\n",
      " # Best parameters ---------\n",
      "{'n_estimators': 27, 'max_depth': 9, 'min_samples_split': 42}\n",
      "\n",
      " # Best score ---------\n",
      "0.8773696682464455\n",
      "\n",
      " # Best model created with optimal parameters.\n"
     ]
    }
   ],
   "source": [
    "print('\\n # Best parameters ---------\\n{}'.format(study.best_params))\n",
    "\n",
    "print('\\n # Best score ---------\\n{}'.format(study.best_value))\n",
    "\n",
    "best_model = RandomForestClassifier(\n",
    "    n_estimators=study.best_params['n_estimators'],\n",
    "    max_depth=study.best_params['max_depth'],\n",
    "    min_samples_split=study.best_params['min_samples_split'],\n",
    "    criterion='entropy',\n",
    "    random_state=random_state,\n",
    "    class_weight='balanced'\n",
    ")\n",
    "\n",
    "best_model.fit(xtrain, ytrain.astype(int))\n",
    "\n",
    "print('\\n # Best model created with optimal parameters.')\n"
   ]
  },
  {
   "cell_type": "markdown",
   "metadata": {},
   "source": [
    "### Prediction on Test set"
   ]
  },
  {
   "cell_type": "code",
   "execution_count": 22,
   "metadata": {
    "collapsed": true
   },
   "outputs": [],
   "source": [
    "ypred = best_model.predict(xtest)"
   ]
  },
  {
   "cell_type": "code",
   "execution_count": 23,
   "metadata": {
    "scrolled": true
   },
   "outputs": [
    {
     "name": "stdout",
     "output_type": "stream",
     "text": [
      "The accuracy of the model is 0.8888888888888888\n",
      "# Classification report \n",
      "               precision    recall  f1-score   support\n",
      "\n",
      "           0       0.86      0.96      0.91        56\n",
      "           1       0.82      0.73      0.77        62\n",
      "           2       0.95      0.90      0.92        78\n",
      "           3       0.92      0.98      0.95        58\n",
      "           4       1.00      1.00      1.00        63\n",
      "           5       0.80      0.80      0.80        56\n",
      "           6       0.84      0.84      0.84        50\n",
      "\n",
      "    accuracy                           0.89       423\n",
      "   macro avg       0.88      0.89      0.88       423\n",
      "weighted avg       0.89      0.89      0.89       423\n",
      "\n"
     ]
    }
   ],
   "source": [
    "print('The accuracy of the model is {}'.format(accuracy_score(ytest, ypred)))\n",
    "print('# Classification report \\n {}'.format(classification_report(ytest, ypred)))"
   ]
  },
  {
   "cell_type": "markdown",
   "metadata": {},
   "source": [
    "# **Model Performance Analysis**\n",
    "\n",
    "## **1. Overall Model Performance**\n",
    "- The **accuracy of the model is 0.89 (88.89%)**, meaning the model correctly predicts **88.89% of all cases** in the dataset.\n",
    "- The **macro average F1-score is 0.88**, indicating that the model performs well across all classes without favoring any specific class.\n",
    "- The **weighted average F1-score is 0.89**, meaning the model maintains high performance while accounting for class imbalances.\n",
    "\n",
    "---\n",
    "\n",
    "## **2. Performance Metrics Breakdown**\n",
    "Each class (0 to 6) represents a different category of obesity classification.\n",
    "\n",
    "| **Class** | **Precision** | **Recall** | **F1-Score** | **Support** | **Interpretation** |\n",
    "|-----------|-------------|--------|----------|---------|---------------------|\n",
    "| **0** | 0.86 | 0.96 | 0.91 | 56 | High recall → Model correctly identifies most samples in this class. |\n",
    "| **1** | 0.82 | 0.73 | 0.77 | 62 | Lower recall → Model struggles slightly to detect all samples. |\n",
    "| **2** | 0.95 | 0.90 | 0.92 | 78 | High precision & recall → Very well-balanced performance. |\n",
    "| **3** | 0.92 | 0.98 | 0.95 | 58 | Excellent recall → Almost all actual instances are predicted correctly. |\n",
    "| **4** | 1.00 | 1.00 | 1.00 | 63 | Perfect classification → No misclassification in this category. |\n",
    "| **5** | 0.80 | 0.80 | 0.80 | 56 | Moderate performance → Could be improved. |\n",
    "| **6** | 0.84 | 0.84 | 0.84 | 50 | Balanced but lower scores compared to higher-performing classes. |\n",
    "\n",
    "---\n",
    "\n",
    "## **3. Key Insights**\n",
    "- **High Precision in Class 2, 3, and 4**: These classes have high precision, meaning that when the model predicts these classes, it is usually correct.\n",
    "- **High Recall in Class 0, 3, and 4**: The model captures most true instances of these classes effectively.\n",
    "- **Lower Recall in Class 1**: The model **misses some instances** of this class, meaning false negatives are more common.\n",
    "- **Perfect Performance for Class 4**: The model **flawlessly classifies all instances** in this category.\n",
    "\n"
   ]
  },
  {
   "cell_type": "code",
   "execution_count": 24,
   "metadata": {},
   "outputs": [
    {
     "data": {
      "image/png": "[encoded data removed]",
      "text/plain": [
       "<Figure size 800x600 with 1 Axes>"
      ]
     },
     "metadata": {},
     "output_type": "display_data"
    }
   ],
   "source": [
    "from sklearn.metrics import confusion_matrix\n",
    "\n",
    "cm = confusion_matrix(ytest, ypred)\n",
    "\n",
    "plt.figure(figsize=(8, 6))\n",
    "sns.heatmap(cm, annot=True, fmt='d', cmap='Blues', cbar=False, annot_kws={\"size\": 16})\n",
    "\n",
    "plt.title('Confusion Matrix', fontsize=16)\n",
    "plt.xlabel('Predicted Label', fontsize=14)\n",
    "plt.ylabel('True Label', fontsize=14)\n",
    "plt.xticks(ticks=[0.5, 1.5], labels=['Class 0', 'Class 1'], fontsize=12)\n",
    "plt.yticks(ticks=[0.5, 1.5], labels=['Class 0', 'Class 1'], fontsize=12, rotation=0)\n",
    "\n",
    "plt.tight_layout()\n",
    "plt.show()"
   ]
  },
  {
   "cell_type": "markdown",
   "metadata": {},
   "source": [
    "#  Confusion Matrix Analysis\n",
    "\n",
    "##  Overview\n",
    "The confusion matrix represents the model’s classification performance across different classes.\n",
    "\n",
    "###  Key Observations:\n",
    "- **Class 0**: 54 correctly classified, **2 misclassified** as Class 1.\n",
    "- **Class 1**: 45 correctly classified, **9 misclassified** as Class 0, **7 misclassified** as another class.\n",
    "- **Class 2**: 70 correctly classified, **4 misclassified** as another class, **3 misclassified** as another class.\n",
    "- **Class 3**: 57 correctly classified, **1 misclassified** as Class 2.\n",
    "- **Class 4**: 63 perfectly classified (**no misclassifications**).\n",
    "- **Class 5**: 45 correctly classified, **7 misclassified** as Class 1, **4 misclassified** as another class.\n",
    "- **Class 6**: 42 correctly classified, **3 misclassified** as Class 2, **1 misclassified** as Class 3, **4 misclassified** as another class.\n",
    "\n",
    "##  Insights:\n",
    "1. **Class 4 has the best performance** with 100% correct predictions.\n",
    "2. **Class 1 has the highest misclassification rate**, with **9 samples predicted as Class 0** and **7 samples misclassified into other classes**.\n",
    "3. **Class 5 and Class 6 show moderate confusion** with some misclassifications across multiple classes.\n",
    "4. **Class 0, 2, and 3 perform well**, but some misclassifications occur.\n",
    "\n",
    "\n"
   ]
  },
  {
   "cell_type": "code",
   "execution_count": 25,
   "metadata": {},
   "outputs": [
    {
     "name": "stdout",
     "output_type": "stream",
     "text": [
      "Feature ranking:\n",
      "1. Feature Weight (45.34%)\n",
      "2. Feature Gender (9.61%)\n",
      "3. Feature FCVC (9.24%)\n",
      "4. Feature Age (8.09%)\n",
      "5. Feature family_history (5.02%)\n",
      "6. Feature NCP (4.22%)\n",
      "7. Feature CAEC (3.85%)\n",
      "8. Feature Height (3.75%)\n",
      "9. Feature TUE (2.76%)\n",
      "10. Feature CALC (2.6%)\n",
      "11. Feature FAF (1.86%)\n",
      "12. Feature CH2O (1.72%)\n",
      "13. Feature MTRANS (0.93%)\n",
      "14. Feature FAVC (0.73%)\n",
      "15. Feature SCC (0.23%)\n",
      "16. Feature SMOKE (0.05%)\n"
     ]
    },
    {
     "data": {
      "image/png": "[encoded data removed]",
      "text/plain": [
       "<Figure size 1200x800 with 1 Axes>"
      ]
     },
     "metadata": {},
     "output_type": "display_data"
    }
   ],
   "source": [
    "importances = best_model.feature_importances_\n",
    "std = np.std([tree.feature_importances_ for tree in best_model.estimators_], axis=0)\n",
    "indices = np.argsort(importances)[::-1]\n",
    "\n",
    "length = len(list(df_train))\n",
    "features = list(df_train)[:length-1]\n",
    "\n",
    "print(\"Feature ranking:\")\n",
    "\n",
    "features_rank = []\n",
    "label_name = []\n",
    "for f in range(xtrain.shape[1]):\n",
    "    features_rank.append(importances[indices[f]])\n",
    "    label_name.append(features[indices[f]])\n",
    "    print(\"{}. Feature {} ({}%)\".format(f + 1, features[indices[f]], round(importances[indices[f]] * 100, 2)))\n",
    "\n",
    "plt.figure(figsize=(12, 8))\n",
    "sns.barplot(x=features_rank, y=label_name, palette='viridis')\n",
    "plt.title(\"Feature Importances from Best Model\", fontsize=16)\n",
    "plt.xlabel(\"Importance\", fontsize=14)\n",
    "plt.ylabel(\"Features\", fontsize=14)\n",
    "plt.grid(axis='x', linestyle='--', alpha=0.7)\n",
    "plt.tight_layout()\n",
    "plt.show()"
   ]
  },
  {
   "cell_type": "code",
   "execution_count": null,
   "metadata": {},
   "outputs": [],
   "source": [
    "print(xtest[ix])\n",
    "features_name = df.columns.tolist()\n",
    "explainer = lime_tabular.LimeTabularExplainer(np.array(xtrain), mode = 'classification', feature_names = features_name, training_labels = ytrain)\n",
    "exp = explainer.explain_instance(np.array(xtest)[ix,:], best_model.predict_proba, num_features = 16, top_labels = None)\n",
    "exp.show_in_notebook(show_table = True, show_all = True)"
   ]
  },
  {
   "cell_type": "markdown",
   "metadata": {},
   "source": [
    "##  Feature Importance Analysis\n",
    "\n",
    "###  Overview\n",
    "The bar chart above displays the importance of each feature in the **best-performing model**. Feature importance represents how much a feature contributes to the model’s decision-making process.\n",
    "\n",
    "###  Key Insights:\n",
    "1. **Weight** is the most influential feature, having the highest importance in the model’s predictions.\n",
    "2. **Gender, FCVC (Frequency of Consumption of Vegetables), and Age** are also significant contributors to the classification outcome.\n",
    "3. **Family history** plays a notable role, suggesting that genetic predisposition is a relevant factor in the model’s decision-making.\n",
    "4. Features like **NCP (Number of Main Meals), CAEC (Consumption of Food Between Meals), and Height** have moderate importance.\n",
    "5. **Smoking (SMOKE), SCC, and FAVC (Frequent Consumption of High-Calorie Food)** have the least importance, implying that they do not significantly impact the model's predictions.\n",
    "\n",
    "###  Conclusion:\n",
    "- The model places a strong emphasis on **physical attributes (Weight, Age, and Height)** and **dietary habits (FCVC, CAEC, NCP)** when making predictions.\n",
    "- **Lower-ranked features** like smoking habits and transportation mode (MTRANS) may not have a direct impact on the classification.\n",
    "- Further analysis could be done to **evaluate feature selection** and **improve model interpretability** by testing different feature engineering techniques.\n",
    "\n"
   ]
  },
  {
   "cell_type": "markdown",
   "metadata": {},
   "source": [
    "# Neural Networks Approach"
   ]
  },
  {
   "cell_type": "code",
   "execution_count": 61,
   "metadata": {},
   "outputs": [],
   "source": [
    "import warnings\n",
    "warnings.filterwarnings(\"ignore\") \n",
    "\n",
    "from keras.models import Sequential, save_model, load_model\n",
    "from keras.layers import Dense, Dropout, BatchNormalization\n",
    "from keras import optimizers, regularizers, initializers\n",
    "from keras.callbacks import ModelCheckpoint, EarlyStopping\n",
    "\n",
    "from sklearn.utils import shuffle, class_weight\n",
    "from sklearn import preprocessing\n",
    "from sklearn.preprocessing import StandardScaler\n",
    "from sklearn.model_selection import train_test_split\n",
    "from sklearn.metrics import accuracy_score, classification_report, confusion_matrix\n",
    "from sklearn.manifold import TSNE\n",
    "from sklearn.decomposition import PCA\n",
    "\n",
    "import matplotlib.pyplot as plt\n",
    "import seaborn as sns\n",
    "\n",
    "import pickle\n",
    "import numpy as np\n",
    "import pandas as pd\n",
    "\n",
    "random_seed = 100\n",
    "np.random.seed(random_seed)"
   ]
  },
  {
   "cell_type": "markdown",
   "metadata": {},
   "source": [
    "## Data Preparation"
   ]
  },
  {
   "cell_type": "code",
   "execution_count": 63,
   "metadata": {},
   "outputs": [
    {
     "data": {
      "text/html": [
       "<div>\n",
       "<style scoped>\n",
       "    .dataframe tbody tr th:only-of-type {\n",
       "        vertical-align: middle;\n",
       "    }\n",
       "\n",
       "    .dataframe tbody tr th {\n",
       "        vertical-align: top;\n",
       "    }\n",
       "\n",
       "    .dataframe thead th {\n",
       "        text-align: right;\n",
       "    }\n",
       "</style>\n",
       "<table border=\"1\" class=\"dataframe\">\n",
       "  <thead>\n",
       "    <tr style=\"text-align: right;\">\n",
       "      <th></th>\n",
       "      <th>Gender</th>\n",
       "      <th>Age</th>\n",
       "      <th>Height</th>\n",
       "      <th>Weight</th>\n",
       "      <th>family_history</th>\n",
       "      <th>FAVC</th>\n",
       "      <th>FCVC</th>\n",
       "      <th>NCP</th>\n",
       "      <th>CAEC</th>\n",
       "      <th>SMOKE</th>\n",
       "      <th>CH2O</th>\n",
       "      <th>SCC</th>\n",
       "      <th>FAF</th>\n",
       "      <th>TUE</th>\n",
       "      <th>CALC</th>\n",
       "      <th>MTRANS</th>\n",
       "      <th>Obesity</th>\n",
       "    </tr>\n",
       "  </thead>\n",
       "  <tbody>\n",
       "    <tr>\n",
       "      <th>320</th>\n",
       "      <td>1</td>\n",
       "      <td>21.0</td>\n",
       "      <td>1.7</td>\n",
       "      <td>67.0</td>\n",
       "      <td>1</td>\n",
       "      <td>1</td>\n",
       "      <td>3.0</td>\n",
       "      <td>1.0</td>\n",
       "      <td>0</td>\n",
       "      <td>0</td>\n",
       "      <td>2.0</td>\n",
       "      <td>0</td>\n",
       "      <td>1.0</td>\n",
       "      <td>1.0</td>\n",
       "      <td>3</td>\n",
       "      <td>3</td>\n",
       "      <td>1</td>\n",
       "    </tr>\n",
       "    <tr>\n",
       "      <th>456</th>\n",
       "      <td>0</td>\n",
       "      <td>33.0</td>\n",
       "      <td>1.6</td>\n",
       "      <td>60.0</td>\n",
       "      <td>0</td>\n",
       "      <td>1</td>\n",
       "      <td>3.0</td>\n",
       "      <td>1.0</td>\n",
       "      <td>1</td>\n",
       "      <td>0</td>\n",
       "      <td>2.0</td>\n",
       "      <td>0</td>\n",
       "      <td>0.0</td>\n",
       "      <td>0.0</td>\n",
       "      <td>3</td>\n",
       "      <td>3</td>\n",
       "      <td>1</td>\n",
       "    </tr>\n",
       "    <tr>\n",
       "      <th>1589</th>\n",
       "      <td>1</td>\n",
       "      <td>38.5</td>\n",
       "      <td>1.8</td>\n",
       "      <td>118.5</td>\n",
       "      <td>1</td>\n",
       "      <td>1</td>\n",
       "      <td>2.2</td>\n",
       "      <td>3.0</td>\n",
       "      <td>2</td>\n",
       "      <td>0</td>\n",
       "      <td>1.7</td>\n",
       "      <td>0</td>\n",
       "      <td>0.7</td>\n",
       "      <td>0.0</td>\n",
       "      <td>2</td>\n",
       "      <td>0</td>\n",
       "      <td>3</td>\n",
       "    </tr>\n",
       "    <tr>\n",
       "      <th>1569</th>\n",
       "      <td>1</td>\n",
       "      <td>26.7</td>\n",
       "      <td>1.9</td>\n",
       "      <td>120.2</td>\n",
       "      <td>1</td>\n",
       "      <td>1</td>\n",
       "      <td>2.2</td>\n",
       "      <td>3.0</td>\n",
       "      <td>2</td>\n",
       "      <td>0</td>\n",
       "      <td>2.8</td>\n",
       "      <td>0</td>\n",
       "      <td>0.7</td>\n",
       "      <td>0.0</td>\n",
       "      <td>2</td>\n",
       "      <td>3</td>\n",
       "      <td>3</td>\n",
       "    </tr>\n",
       "    <tr>\n",
       "      <th>1109</th>\n",
       "      <td>1</td>\n",
       "      <td>37.5</td>\n",
       "      <td>1.8</td>\n",
       "      <td>92.4</td>\n",
       "      <td>1</td>\n",
       "      <td>1</td>\n",
       "      <td>2.0</td>\n",
       "      <td>1.7</td>\n",
       "      <td>2</td>\n",
       "      <td>0</td>\n",
       "      <td>2.8</td>\n",
       "      <td>0</td>\n",
       "      <td>1.0</td>\n",
       "      <td>0.0</td>\n",
       "      <td>2</td>\n",
       "      <td>0</td>\n",
       "      <td>6</td>\n",
       "    </tr>\n",
       "    <tr>\n",
       "      <th>...</th>\n",
       "      <td>...</td>\n",
       "      <td>...</td>\n",
       "      <td>...</td>\n",
       "      <td>...</td>\n",
       "      <td>...</td>\n",
       "      <td>...</td>\n",
       "      <td>...</td>\n",
       "      <td>...</td>\n",
       "      <td>...</td>\n",
       "      <td>...</td>\n",
       "      <td>...</td>\n",
       "      <td>...</td>\n",
       "      <td>...</td>\n",
       "      <td>...</td>\n",
       "      <td>...</td>\n",
       "      <td>...</td>\n",
       "      <td>...</td>\n",
       "    </tr>\n",
       "    <tr>\n",
       "      <th>1069</th>\n",
       "      <td>0</td>\n",
       "      <td>30.7</td>\n",
       "      <td>1.5</td>\n",
       "      <td>65.9</td>\n",
       "      <td>1</td>\n",
       "      <td>0</td>\n",
       "      <td>2.0</td>\n",
       "      <td>2.9</td>\n",
       "      <td>2</td>\n",
       "      <td>0</td>\n",
       "      <td>2.0</td>\n",
       "      <td>0</td>\n",
       "      <td>1.0</td>\n",
       "      <td>0.3</td>\n",
       "      <td>3</td>\n",
       "      <td>3</td>\n",
       "      <td>6</td>\n",
       "    </tr>\n",
       "    <tr>\n",
       "      <th>497</th>\n",
       "      <td>1</td>\n",
       "      <td>20.0</td>\n",
       "      <td>1.6</td>\n",
       "      <td>45.0</td>\n",
       "      <td>0</td>\n",
       "      <td>0</td>\n",
       "      <td>2.0</td>\n",
       "      <td>3.0</td>\n",
       "      <td>2</td>\n",
       "      <td>0</td>\n",
       "      <td>2.0</td>\n",
       "      <td>0</td>\n",
       "      <td>1.0</td>\n",
       "      <td>1.0</td>\n",
       "      <td>2</td>\n",
       "      <td>3</td>\n",
       "      <td>1</td>\n",
       "    </tr>\n",
       "    <tr>\n",
       "      <th>489</th>\n",
       "      <td>0</td>\n",
       "      <td>19.0</td>\n",
       "      <td>1.6</td>\n",
       "      <td>50.0</td>\n",
       "      <td>0</td>\n",
       "      <td>1</td>\n",
       "      <td>2.0</td>\n",
       "      <td>1.0</td>\n",
       "      <td>2</td>\n",
       "      <td>0</td>\n",
       "      <td>1.0</td>\n",
       "      <td>0</td>\n",
       "      <td>0.0</td>\n",
       "      <td>2.0</td>\n",
       "      <td>3</td>\n",
       "      <td>3</td>\n",
       "      <td>1</td>\n",
       "    </tr>\n",
       "    <tr>\n",
       "      <th>1693</th>\n",
       "      <td>1</td>\n",
       "      <td>31.0</td>\n",
       "      <td>1.8</td>\n",
       "      <td>119.4</td>\n",
       "      <td>1</td>\n",
       "      <td>1</td>\n",
       "      <td>3.0</td>\n",
       "      <td>3.0</td>\n",
       "      <td>2</td>\n",
       "      <td>0</td>\n",
       "      <td>2.8</td>\n",
       "      <td>0</td>\n",
       "      <td>0.5</td>\n",
       "      <td>1.9</td>\n",
       "      <td>2</td>\n",
       "      <td>0</td>\n",
       "      <td>3</td>\n",
       "    </tr>\n",
       "    <tr>\n",
       "      <th>586</th>\n",
       "      <td>0</td>\n",
       "      <td>18.0</td>\n",
       "      <td>1.7</td>\n",
       "      <td>50.0</td>\n",
       "      <td>0</td>\n",
       "      <td>1</td>\n",
       "      <td>1.0</td>\n",
       "      <td>3.0</td>\n",
       "      <td>2</td>\n",
       "      <td>0</td>\n",
       "      <td>2.0</td>\n",
       "      <td>0</td>\n",
       "      <td>0.0</td>\n",
       "      <td>1.0</td>\n",
       "      <td>2</td>\n",
       "      <td>3</td>\n",
       "      <td>0</td>\n",
       "    </tr>\n",
       "  </tbody>\n",
       "</table>\n",
       "<p>1688 rows × 17 columns</p>\n",
       "</div>"
      ],
      "text/plain": [
       "      Gender   Age  Height  Weight  family_history  FAVC  FCVC  NCP  CAEC  \\\n",
       "320        1  21.0     1.7    67.0               1     1   3.0  1.0     0   \n",
       "456        0  33.0     1.6    60.0               0     1   3.0  1.0     1   \n",
       "1589       1  38.5     1.8   118.5               1     1   2.2  3.0     2   \n",
       "1569       1  26.7     1.9   120.2               1     1   2.2  3.0     2   \n",
       "1109       1  37.5     1.8    92.4               1     1   2.0  1.7     2   \n",
       "...      ...   ...     ...     ...             ...   ...   ...  ...   ...   \n",
       "1069       0  30.7     1.5    65.9               1     0   2.0  2.9     2   \n",
       "497        1  20.0     1.6    45.0               0     0   2.0  3.0     2   \n",
       "489        0  19.0     1.6    50.0               0     1   2.0  1.0     2   \n",
       "1693       1  31.0     1.8   119.4               1     1   3.0  3.0     2   \n",
       "586        0  18.0     1.7    50.0               0     1   1.0  3.0     2   \n",
       "\n",
       "      SMOKE  CH2O  SCC  FAF  TUE  CALC  MTRANS  Obesity  \n",
       "320       0   2.0    0  1.0  1.0     3       3        1  \n",
       "456       0   2.0    0  0.0  0.0     3       3        1  \n",
       "1589      0   1.7    0  0.7  0.0     2       0        3  \n",
       "1569      0   2.8    0  0.7  0.0     2       3        3  \n",
       "1109      0   2.8    0  1.0  0.0     2       0        6  \n",
       "...     ...   ...  ...  ...  ...   ...     ...      ...  \n",
       "1069      0   2.0    0  1.0  0.3     3       3        6  \n",
       "497       0   2.0    0  1.0  1.0     2       3        1  \n",
       "489       0   1.0    0  0.0  2.0     3       3        1  \n",
       "1693      0   2.8    0  0.5  1.9     2       0        3  \n",
       "586       0   2.0    0  0.0  1.0     2       3        0  \n",
       "\n",
       "[1688 rows x 17 columns]"
      ]
     },
     "execution_count": 63,
     "metadata": {},
     "output_type": "execute_result"
    }
   ],
   "source": [
    "df_train"
   ]
  },
  {
   "cell_type": "code",
   "execution_count": 64,
   "metadata": {},
   "outputs": [],
   "source": [
    "df_train = shuffle(df_train, random_state=random_seed)\n",
    "df_test = shuffle(df_test, random_state=random_seed)\n",
    "\n",
    "mms = StandardScaler()\n",
    "\n",
    "xtrain = mms.fit_transform(df_train.drop('Obesity', axis=1))\n",
    "ytrain = df_train['Obesity'].values\n",
    "\n",
    "xtest = mms.fit_transform(df_test.drop('Obesity', axis=1))\n",
    "ytest = df_test['Obesity'].values"
   ]
  },
  {
   "cell_type": "code",
   "execution_count": null,
   "metadata": {},
   "outputs": [],
   "source": [
    "df_train_new = pd.DataFrame(xtrain, columns= features_name[:-1])\n",
    "df_train_new['Obesity'] = df_train['Obesity']"
   ]
  },
  {
   "cell_type": "code",
   "execution_count": 66,
   "metadata": {},
   "outputs": [
    {
     "data": {
      "text/html": [
       "<div>\n",
       "<style scoped>\n",
       "    .dataframe tbody tr th:only-of-type {\n",
       "        vertical-align: middle;\n",
       "    }\n",
       "\n",
       "    .dataframe tbody tr th {\n",
       "        vertical-align: top;\n",
       "    }\n",
       "\n",
       "    .dataframe thead th {\n",
       "        text-align: right;\n",
       "    }\n",
       "</style>\n",
       "<table border=\"1\" class=\"dataframe\">\n",
       "  <thead>\n",
       "    <tr style=\"text-align: right;\">\n",
       "      <th></th>\n",
       "      <th>Gender</th>\n",
       "      <th>Age</th>\n",
       "      <th>Height</th>\n",
       "      <th>Weight</th>\n",
       "      <th>family_history</th>\n",
       "      <th>FAVC</th>\n",
       "      <th>FCVC</th>\n",
       "      <th>NCP</th>\n",
       "      <th>CAEC</th>\n",
       "      <th>SMOKE</th>\n",
       "      <th>CH2O</th>\n",
       "      <th>SCC</th>\n",
       "      <th>FAF</th>\n",
       "      <th>TUE</th>\n",
       "      <th>CALC</th>\n",
       "      <th>MTRANS</th>\n",
       "      <th>Obesity</th>\n",
       "    </tr>\n",
       "  </thead>\n",
       "  <tbody>\n",
       "    <tr>\n",
       "      <th>count</th>\n",
       "      <td>1688.000000</td>\n",
       "      <td>1688.000000</td>\n",
       "      <td>1688.00000</td>\n",
       "      <td>1688.000000</td>\n",
       "      <td>1688.000000</td>\n",
       "      <td>1688.000000</td>\n",
       "      <td>1688.000000</td>\n",
       "      <td>1688.000000</td>\n",
       "      <td>1688.000000</td>\n",
       "      <td>1688.000000</td>\n",
       "      <td>1688.000000</td>\n",
       "      <td>1688.000000</td>\n",
       "      <td>1688.000000</td>\n",
       "      <td>1688.000000</td>\n",
       "      <td>1688.000000</td>\n",
       "      <td>1688.000000</td>\n",
       "      <td>1688.000000</td>\n",
       "    </tr>\n",
       "    <tr>\n",
       "      <th>mean</th>\n",
       "      <td>0.506517</td>\n",
       "      <td>24.449408</td>\n",
       "      <td>1.70077</td>\n",
       "      <td>86.598637</td>\n",
       "      <td>0.819313</td>\n",
       "      <td>0.888033</td>\n",
       "      <td>2.421801</td>\n",
       "      <td>2.686434</td>\n",
       "      <td>1.855450</td>\n",
       "      <td>0.023104</td>\n",
       "      <td>2.005569</td>\n",
       "      <td>0.043839</td>\n",
       "      <td>1.004443</td>\n",
       "      <td>0.644727</td>\n",
       "      <td>2.271327</td>\n",
       "      <td>2.355450</td>\n",
       "      <td>3.046209</td>\n",
       "    </tr>\n",
       "    <tr>\n",
       "      <th>std</th>\n",
       "      <td>0.500106</td>\n",
       "      <td>6.477002</td>\n",
       "      <td>0.09976</td>\n",
       "      <td>26.099454</td>\n",
       "      <td>0.384873</td>\n",
       "      <td>0.315419</td>\n",
       "      <td>0.537264</td>\n",
       "      <td>0.783105</td>\n",
       "      <td>0.477552</td>\n",
       "      <td>0.150279</td>\n",
       "      <td>0.611376</td>\n",
       "      <td>0.204797</td>\n",
       "      <td>0.840673</td>\n",
       "      <td>0.603297</td>\n",
       "      <td>0.516321</td>\n",
       "      <td>1.272277</td>\n",
       "      <td>1.958429</td>\n",
       "    </tr>\n",
       "    <tr>\n",
       "      <th>min</th>\n",
       "      <td>0.000000</td>\n",
       "      <td>14.000000</td>\n",
       "      <td>1.40000</td>\n",
       "      <td>39.000000</td>\n",
       "      <td>0.000000</td>\n",
       "      <td>0.000000</td>\n",
       "      <td>1.000000</td>\n",
       "      <td>1.000000</td>\n",
       "      <td>0.000000</td>\n",
       "      <td>0.000000</td>\n",
       "      <td>1.000000</td>\n",
       "      <td>0.000000</td>\n",
       "      <td>0.000000</td>\n",
       "      <td>0.000000</td>\n",
       "      <td>0.000000</td>\n",
       "      <td>0.000000</td>\n",
       "      <td>0.000000</td>\n",
       "    </tr>\n",
       "    <tr>\n",
       "      <th>25%</th>\n",
       "      <td>0.000000</td>\n",
       "      <td>20.000000</td>\n",
       "      <td>1.60000</td>\n",
       "      <td>66.000000</td>\n",
       "      <td>1.000000</td>\n",
       "      <td>1.000000</td>\n",
       "      <td>2.000000</td>\n",
       "      <td>2.700000</td>\n",
       "      <td>2.000000</td>\n",
       "      <td>0.000000</td>\n",
       "      <td>1.600000</td>\n",
       "      <td>0.000000</td>\n",
       "      <td>0.100000</td>\n",
       "      <td>0.000000</td>\n",
       "      <td>2.000000</td>\n",
       "      <td>3.000000</td>\n",
       "      <td>1.000000</td>\n",
       "    </tr>\n",
       "    <tr>\n",
       "      <th>50%</th>\n",
       "      <td>1.000000</td>\n",
       "      <td>22.900000</td>\n",
       "      <td>1.70000</td>\n",
       "      <td>83.000000</td>\n",
       "      <td>1.000000</td>\n",
       "      <td>1.000000</td>\n",
       "      <td>2.400000</td>\n",
       "      <td>3.000000</td>\n",
       "      <td>2.000000</td>\n",
       "      <td>0.000000</td>\n",
       "      <td>2.000000</td>\n",
       "      <td>0.000000</td>\n",
       "      <td>1.000000</td>\n",
       "      <td>0.600000</td>\n",
       "      <td>2.000000</td>\n",
       "      <td>3.000000</td>\n",
       "      <td>3.000000</td>\n",
       "    </tr>\n",
       "    <tr>\n",
       "      <th>75%</th>\n",
       "      <td>1.000000</td>\n",
       "      <td>26.000000</td>\n",
       "      <td>1.80000</td>\n",
       "      <td>106.750000</td>\n",
       "      <td>1.000000</td>\n",
       "      <td>1.000000</td>\n",
       "      <td>3.000000</td>\n",
       "      <td>3.000000</td>\n",
       "      <td>2.000000</td>\n",
       "      <td>0.000000</td>\n",
       "      <td>2.500000</td>\n",
       "      <td>0.000000</td>\n",
       "      <td>1.600000</td>\n",
       "      <td>1.000000</td>\n",
       "      <td>3.000000</td>\n",
       "      <td>3.000000</td>\n",
       "      <td>5.000000</td>\n",
       "    </tr>\n",
       "    <tr>\n",
       "      <th>max</th>\n",
       "      <td>1.000000</td>\n",
       "      <td>61.000000</td>\n",
       "      <td>2.00000</td>\n",
       "      <td>173.000000</td>\n",
       "      <td>1.000000</td>\n",
       "      <td>1.000000</td>\n",
       "      <td>3.000000</td>\n",
       "      <td>4.000000</td>\n",
       "      <td>3.000000</td>\n",
       "      <td>1.000000</td>\n",
       "      <td>3.000000</td>\n",
       "      <td>1.000000</td>\n",
       "      <td>3.000000</td>\n",
       "      <td>2.000000</td>\n",
       "      <td>3.000000</td>\n",
       "      <td>4.000000</td>\n",
       "      <td>6.000000</td>\n",
       "    </tr>\n",
       "  </tbody>\n",
       "</table>\n",
       "</div>"
      ],
      "text/plain": [
       "            Gender          Age      Height       Weight  family_history  \\\n",
       "count  1688.000000  1688.000000  1688.00000  1688.000000     1688.000000   \n",
       "mean      0.506517    24.449408     1.70077    86.598637        0.819313   \n",
       "std       0.500106     6.477002     0.09976    26.099454        0.384873   \n",
       "min       0.000000    14.000000     1.40000    39.000000        0.000000   \n",
       "25%       0.000000    20.000000     1.60000    66.000000        1.000000   \n",
       "50%       1.000000    22.900000     1.70000    83.000000        1.000000   \n",
       "75%       1.000000    26.000000     1.80000   106.750000        1.000000   \n",
       "max       1.000000    61.000000     2.00000   173.000000        1.000000   \n",
       "\n",
       "              FAVC         FCVC          NCP         CAEC        SMOKE  \\\n",
       "count  1688.000000  1688.000000  1688.000000  1688.000000  1688.000000   \n",
       "mean      0.888033     2.421801     2.686434     1.855450     0.023104   \n",
       "std       0.315419     0.537264     0.783105     0.477552     0.150279   \n",
       "min       0.000000     1.000000     1.000000     0.000000     0.000000   \n",
       "25%       1.000000     2.000000     2.700000     2.000000     0.000000   \n",
       "50%       1.000000     2.400000     3.000000     2.000000     0.000000   \n",
       "75%       1.000000     3.000000     3.000000     2.000000     0.000000   \n",
       "max       1.000000     3.000000     4.000000     3.000000     1.000000   \n",
       "\n",
       "              CH2O          SCC          FAF          TUE         CALC  \\\n",
       "count  1688.000000  1688.000000  1688.000000  1688.000000  1688.000000   \n",
       "mean      2.005569     0.043839     1.004443     0.644727     2.271327   \n",
       "std       0.611376     0.204797     0.840673     0.603297     0.516321   \n",
       "min       1.000000     0.000000     0.000000     0.000000     0.000000   \n",
       "25%       1.600000     0.000000     0.100000     0.000000     2.000000   \n",
       "50%       2.000000     0.000000     1.000000     0.600000     2.000000   \n",
       "75%       2.500000     0.000000     1.600000     1.000000     3.000000   \n",
       "max       3.000000     1.000000     3.000000     2.000000     3.000000   \n",
       "\n",
       "            MTRANS      Obesity  \n",
       "count  1688.000000  1688.000000  \n",
       "mean      2.355450     3.046209  \n",
       "std       1.272277     1.958429  \n",
       "min       0.000000     0.000000  \n",
       "25%       3.000000     1.000000  \n",
       "50%       3.000000     3.000000  \n",
       "75%       3.000000     5.000000  \n",
       "max       4.000000     6.000000  "
      ]
     },
     "execution_count": 66,
     "metadata": {},
     "output_type": "execute_result"
    }
   ],
   "source": [
    "df_train.describe()"
   ]
  },
  {
   "cell_type": "markdown",
   "metadata": {},
   "source": [
    "We created a new feature called **'sfactor'** derived from three existing variables as follows:\n",
    "\n",
    "1. **Variables**:\n",
    "   - **τ_s**: The product of the frictional coefficient (**Weight**) and the stress component (**FAF**):\n",
    "     $$\\tau_s = \\text{weight} \\times \\text{FAF}$$\n",
    "\n",
    "   - **τ_d**: The product of the dynamic friction coefficient (**CAEC**) and the stress component (**FAF**):\n",
    "     $$\\tau_d = \\text{CAEC} \\times \\text{FAF}$$\n",
    "\n",
    "   - **τ_i**: The shear stress value (**CH2O**):\n",
    "     $$\\tau_i = \\text{CH2O}$$\n",
    "\n",
    "2. **Formula for 'sfactor'**:\n",
    "   The feature **'sfactor'** is computed as:\n",
    "   $$\\text{sfactor} = \\frac{\\tau_i - \\tau_d}{\\tau_s - \\tau_i}$$"
   ]
  },
  {
   "cell_type": "code",
   "execution_count": 69,
   "metadata": {},
   "outputs": [
    {
     "data": {
      "text/html": [
       "<div>\n",
       "<style scoped>\n",
       "    .dataframe tbody tr th:only-of-type {\n",
       "        vertical-align: middle;\n",
       "    }\n",
       "\n",
       "    .dataframe tbody tr th {\n",
       "        vertical-align: top;\n",
       "    }\n",
       "\n",
       "    .dataframe thead th {\n",
       "        text-align: right;\n",
       "    }\n",
       "</style>\n",
       "<table border=\"1\" class=\"dataframe\">\n",
       "  <thead>\n",
       "    <tr style=\"text-align: right;\">\n",
       "      <th></th>\n",
       "      <th>Gender</th>\n",
       "      <th>Age</th>\n",
       "      <th>Height</th>\n",
       "      <th>Weight</th>\n",
       "      <th>family_history</th>\n",
       "      <th>FAVC</th>\n",
       "      <th>FCVC</th>\n",
       "      <th>NCP</th>\n",
       "      <th>CAEC</th>\n",
       "      <th>SMOKE</th>\n",
       "      <th>CH2O</th>\n",
       "      <th>SCC</th>\n",
       "      <th>FAF</th>\n",
       "      <th>TUE</th>\n",
       "      <th>CALC</th>\n",
       "      <th>MTRANS</th>\n",
       "      <th>Obesity</th>\n",
       "      <th>sfactor</th>\n",
       "    </tr>\n",
       "  </thead>\n",
       "  <tbody>\n",
       "    <tr>\n",
       "      <th>146</th>\n",
       "      <td>0</td>\n",
       "      <td>24.0</td>\n",
       "      <td>1.6</td>\n",
       "      <td>51.0</td>\n",
       "      <td>0</td>\n",
       "      <td>0</td>\n",
       "      <td>3.0</td>\n",
       "      <td>3.0</td>\n",
       "      <td>1</td>\n",
       "      <td>0</td>\n",
       "      <td>2.0</td>\n",
       "      <td>0</td>\n",
       "      <td>2.0</td>\n",
       "      <td>2.0</td>\n",
       "      <td>1</td>\n",
       "      <td>3</td>\n",
       "      <td>1</td>\n",
       "      <td>inf</td>\n",
       "    </tr>\n",
       "    <tr>\n",
       "      <th>1577</th>\n",
       "      <td>1</td>\n",
       "      <td>26.5</td>\n",
       "      <td>1.9</td>\n",
       "      <td>120.9</td>\n",
       "      <td>1</td>\n",
       "      <td>1</td>\n",
       "      <td>2.4</td>\n",
       "      <td>3.0</td>\n",
       "      <td>2</td>\n",
       "      <td>0</td>\n",
       "      <td>2.9</td>\n",
       "      <td>0</td>\n",
       "      <td>1.2</td>\n",
       "      <td>0.7</td>\n",
       "      <td>2</td>\n",
       "      <td>3</td>\n",
       "      <td>3</td>\n",
       "      <td>284.360000</td>\n",
       "    </tr>\n",
       "    <tr>\n",
       "      <th>1869</th>\n",
       "      <td>0</td>\n",
       "      <td>26.0</td>\n",
       "      <td>1.6</td>\n",
       "      <td>111.3</td>\n",
       "      <td>1</td>\n",
       "      <td>1</td>\n",
       "      <td>3.0</td>\n",
       "      <td>3.0</td>\n",
       "      <td>2</td>\n",
       "      <td>0</td>\n",
       "      <td>2.6</td>\n",
       "      <td>0</td>\n",
       "      <td>0.0</td>\n",
       "      <td>0.2</td>\n",
       "      <td>2</td>\n",
       "      <td>3</td>\n",
       "      <td>4</td>\n",
       "      <td>-1.000000</td>\n",
       "    </tr>\n",
       "    <tr>\n",
       "      <th>1136</th>\n",
       "      <td>1</td>\n",
       "      <td>19.8</td>\n",
       "      <td>1.8</td>\n",
       "      <td>87.9</td>\n",
       "      <td>1</td>\n",
       "      <td>1</td>\n",
       "      <td>2.3</td>\n",
       "      <td>3.0</td>\n",
       "      <td>2</td>\n",
       "      <td>0</td>\n",
       "      <td>3.0</td>\n",
       "      <td>0</td>\n",
       "      <td>2.4</td>\n",
       "      <td>0.4</td>\n",
       "      <td>2</td>\n",
       "      <td>3</td>\n",
       "      <td>6</td>\n",
       "      <td>-115.533333</td>\n",
       "    </tr>\n",
       "    <tr>\n",
       "      <th>550</th>\n",
       "      <td>0</td>\n",
       "      <td>32.4</td>\n",
       "      <td>1.6</td>\n",
       "      <td>46.7</td>\n",
       "      <td>1</td>\n",
       "      <td>1</td>\n",
       "      <td>3.0</td>\n",
       "      <td>3.1</td>\n",
       "      <td>1</td>\n",
       "      <td>0</td>\n",
       "      <td>2.7</td>\n",
       "      <td>0</td>\n",
       "      <td>1.4</td>\n",
       "      <td>0.0</td>\n",
       "      <td>3</td>\n",
       "      <td>3</td>\n",
       "      <td>0</td>\n",
       "      <td>48.215385</td>\n",
       "    </tr>\n",
       "    <tr>\n",
       "      <th>...</th>\n",
       "      <td>...</td>\n",
       "      <td>...</td>\n",
       "      <td>...</td>\n",
       "      <td>...</td>\n",
       "      <td>...</td>\n",
       "      <td>...</td>\n",
       "      <td>...</td>\n",
       "      <td>...</td>\n",
       "      <td>...</td>\n",
       "      <td>...</td>\n",
       "      <td>...</td>\n",
       "      <td>...</td>\n",
       "      <td>...</td>\n",
       "      <td>...</td>\n",
       "      <td>...</td>\n",
       "      <td>...</td>\n",
       "      <td>...</td>\n",
       "      <td>...</td>\n",
       "    </tr>\n",
       "    <tr>\n",
       "      <th>1670</th>\n",
       "      <td>1</td>\n",
       "      <td>25.1</td>\n",
       "      <td>1.8</td>\n",
       "      <td>112.2</td>\n",
       "      <td>1</td>\n",
       "      <td>1</td>\n",
       "      <td>1.4</td>\n",
       "      <td>3.0</td>\n",
       "      <td>2</td>\n",
       "      <td>0</td>\n",
       "      <td>2.0</td>\n",
       "      <td>0</td>\n",
       "      <td>1.4</td>\n",
       "      <td>0.0</td>\n",
       "      <td>2</td>\n",
       "      <td>3</td>\n",
       "      <td>3</td>\n",
       "      <td>-193.850000</td>\n",
       "    </tr>\n",
       "    <tr>\n",
       "      <th>505</th>\n",
       "      <td>0</td>\n",
       "      <td>26.0</td>\n",
       "      <td>1.6</td>\n",
       "      <td>104.8</td>\n",
       "      <td>1</td>\n",
       "      <td>1</td>\n",
       "      <td>3.0</td>\n",
       "      <td>3.0</td>\n",
       "      <td>2</td>\n",
       "      <td>0</td>\n",
       "      <td>2.7</td>\n",
       "      <td>0</td>\n",
       "      <td>0.0</td>\n",
       "      <td>0.6</td>\n",
       "      <td>2</td>\n",
       "      <td>3</td>\n",
       "      <td>4</td>\n",
       "      <td>-1.000000</td>\n",
       "    </tr>\n",
       "    <tr>\n",
       "      <th>1749</th>\n",
       "      <td>1</td>\n",
       "      <td>26.8</td>\n",
       "      <td>1.8</td>\n",
       "      <td>113.2</td>\n",
       "      <td>1</td>\n",
       "      <td>1</td>\n",
       "      <td>2.2</td>\n",
       "      <td>3.0</td>\n",
       "      <td>2</td>\n",
       "      <td>0</td>\n",
       "      <td>2.1</td>\n",
       "      <td>0</td>\n",
       "      <td>0.5</td>\n",
       "      <td>1.7</td>\n",
       "      <td>2</td>\n",
       "      <td>0</td>\n",
       "      <td>3</td>\n",
       "      <td>49.545455</td>\n",
       "    </tr>\n",
       "    <tr>\n",
       "      <th>1169</th>\n",
       "      <td>1</td>\n",
       "      <td>23.2</td>\n",
       "      <td>1.7</td>\n",
       "      <td>82.3</td>\n",
       "      <td>1</td>\n",
       "      <td>1</td>\n",
       "      <td>2.3</td>\n",
       "      <td>2.7</td>\n",
       "      <td>2</td>\n",
       "      <td>0</td>\n",
       "      <td>1.6</td>\n",
       "      <td>0</td>\n",
       "      <td>0.9</td>\n",
       "      <td>0.5</td>\n",
       "      <td>2</td>\n",
       "      <td>3</td>\n",
       "      <td>6</td>\n",
       "      <td>-362.350000</td>\n",
       "    </tr>\n",
       "    <tr>\n",
       "      <th>897</th>\n",
       "      <td>1</td>\n",
       "      <td>26.7</td>\n",
       "      <td>1.8</td>\n",
       "      <td>85.8</td>\n",
       "      <td>1</td>\n",
       "      <td>1</td>\n",
       "      <td>2.9</td>\n",
       "      <td>3.1</td>\n",
       "      <td>2</td>\n",
       "      <td>0</td>\n",
       "      <td>2.1</td>\n",
       "      <td>0</td>\n",
       "      <td>0.8</td>\n",
       "      <td>0.2</td>\n",
       "      <td>2</td>\n",
       "      <td>0</td>\n",
       "      <td>5</td>\n",
       "      <td>133.080000</td>\n",
       "    </tr>\n",
       "  </tbody>\n",
       "</table>\n",
       "<p>1688 rows × 18 columns</p>\n",
       "</div>"
      ],
      "text/plain": [
       "      Gender   Age  Height  Weight  family_history  FAVC  FCVC  NCP  CAEC  \\\n",
       "146        0  24.0     1.6    51.0               0     0   3.0  3.0     1   \n",
       "1577       1  26.5     1.9   120.9               1     1   2.4  3.0     2   \n",
       "1869       0  26.0     1.6   111.3               1     1   3.0  3.0     2   \n",
       "1136       1  19.8     1.8    87.9               1     1   2.3  3.0     2   \n",
       "550        0  32.4     1.6    46.7               1     1   3.0  3.1     1   \n",
       "...      ...   ...     ...     ...             ...   ...   ...  ...   ...   \n",
       "1670       1  25.1     1.8   112.2               1     1   1.4  3.0     2   \n",
       "505        0  26.0     1.6   104.8               1     1   3.0  3.0     2   \n",
       "1749       1  26.8     1.8   113.2               1     1   2.2  3.0     2   \n",
       "1169       1  23.2     1.7    82.3               1     1   2.3  2.7     2   \n",
       "897        1  26.7     1.8    85.8               1     1   2.9  3.1     2   \n",
       "\n",
       "      SMOKE  CH2O  SCC  FAF  TUE  CALC  MTRANS  Obesity     sfactor  \n",
       "146       0   2.0    0  2.0  2.0     1       3        1         inf  \n",
       "1577      0   2.9    0  1.2  0.7     2       3        3  284.360000  \n",
       "1869      0   2.6    0  0.0  0.2     2       3        4   -1.000000  \n",
       "1136      0   3.0    0  2.4  0.4     2       3        6 -115.533333  \n",
       "550       0   2.7    0  1.4  0.0     3       3        0   48.215385  \n",
       "...     ...   ...  ...  ...  ...   ...     ...      ...         ...  \n",
       "1670      0   2.0    0  1.4  0.0     2       3        3 -193.850000  \n",
       "505       0   2.7    0  0.0  0.6     2       3        4   -1.000000  \n",
       "1749      0   2.1    0  0.5  1.7     2       0        3   49.545455  \n",
       "1169      0   1.6    0  0.9  0.5     2       3        6 -362.350000  \n",
       "897       0   2.1    0  0.8  0.2     2       0        5  133.080000  \n",
       "\n",
       "[1688 rows x 18 columns]"
      ]
     },
     "execution_count": 69,
     "metadata": {},
     "output_type": "execute_result"
    }
   ],
   "source": [
    "tau_s = df_train.Weight * df_train.FAF\n",
    "tau_d = df_train.CAEC* df_train.FAF\n",
    "tau_i = df_train.CH2O\n",
    "df_train['sfactor'] = (tau_s - tau_i)/(tau_i - tau_d)\n",
    "df_train"
   ]
  },
  {
   "cell_type": "markdown",
   "metadata": {},
   "source": [
    "## EDA"
   ]
  },
  {
   "cell_type": "markdown",
   "metadata": {},
   "source": [
    "### Kernel Density Estimate"
   ]
  },
  {
   "cell_type": "code",
   "execution_count": 86,
   "metadata": {},
   "outputs": [],
   "source": [
    "df_train = df_train.replace([float('inf'), float('-inf')], pd.NA).dropna()"
   ]
  },
  {
   "cell_type": "code",
   "execution_count": 100,
   "metadata": {},
   "outputs": [
    {
     "data": {
      "image/png": "[encoded data removed]",
      "text/plain": [
       "<Figure size 1200x700 with 1 Axes>"
      ]
     },
     "metadata": {},
     "output_type": "display_data"
    }
   ],
   "source": [
    "import matplotlib.pyplot as plt\n",
    "import seaborn as sns\n",
    "\n",
    "# Set a larger figure size for better visibility\n",
    "plt.figure(figsize=(12, 7))  # Increased width and height\n",
    "\n",
    "# Define line colors for each category to enhance differentiation\n",
    "colors = ['b', 'g', 'r', 'c', 'm', 'y', 'k']\n",
    "\n",
    "# Plot KDE for each obesity category with custom colors and adjusted line width\n",
    "for i, color in enumerate(colors):\n",
    "    if i in df_train[\"Obesity\"].unique():  # Ensure category exists in data\n",
    "        sns.kdeplot(abs(df_train['sfactor'][df_train.Obesity == i]), \n",
    "                    shade=False, color=color, linewidth=2)\n",
    "\n",
    "# Adjust legend for clarity\n",
    "plt.legend([\"Insufficient_Weight\", \"Normal_Weight\", \"Overweight_Level_I\", \n",
    "            \"Overweight_Level_II\", \"Obesity_Type_I\", \"Obesity_Type_II\", \"Obesity_Type_III\"], \n",
    "           loc='upper right', framealpha=0.8, fontsize=12)\n",
    "\n",
    "# Improve axis labels and title\n",
    "plt.xlabel('S Factor', fontsize=14)\n",
    "plt.ylabel('Kernel Density', fontsize=14)\n",
    "plt.title('Kernel Density Estimation of S Factor by Obesity Category', fontsize=16)\n",
    "\n",
    "# Use log scale on x-axis if values have a large range\n",
    "plt.xscale('log')\n",
    "\n",
    "# Show grid for better readability\n",
    "plt.grid(True, linestyle=\"--\", alpha=0.5)\n",
    "\n",
    "# Ensure proper layout\n",
    "plt.tight_layout()\n",
    "\n",
    "# Display the improved KDE plot\n",
    "plt.show()\n"
   ]
  },
  {
   "cell_type": "markdown",
   "metadata": {},
   "source": [
    "The KDE plot shows the distribution of the S factor across different obesity categories. The distributions exhibit notable differences among the categories, suggesting that sfactor may play a role in distinguishing between obesity levels.\n",
    "\n",
    "Normal Weight (green) has a peak at a lower sfactor value, indicating that individuals with normal weight tend to have lower sfactor values.\n",
    "Insufficient Weight (blue) also has a similar distribution but with a slightly shifted density compared to Normal Weight.\n",
    "Obesity Type I, II, and III (magenta, yellow, and black) show broader distributions, with peaks occurring at higher sfactor values, suggesting a potential correlation between increasing obesity levels and increasing sfactor.\n",
    "Overweight Levels I & II (red and cyan) fall in between, showing a gradual transition between Normal Weight and Obesity.\n",
    "The log-scaled x-axis helps visualize the wide range of sfactor values across obesity levels. These differences suggest that sfactor might serve as a useful feature in predicting obesity categories. Further analysis could confirm its predictive power and statistical significance."
   ]
  },
  {
   "cell_type": "markdown",
   "metadata": {},
   "source": [
    "### Class Imbalanced"
   ]
  },
  {
   "cell_type": "code",
   "execution_count": 77,
   "metadata": {},
   "outputs": [
    {
     "name": "stdout",
     "output_type": "stream",
     "text": [
      "Insufficient_Weight: 216\n",
      "Normal_Weight: 225\n",
      "Obesity_Type_I: 273\n",
      "Obesity_Type_II: 239\n",
      "Obesity_Type_III: 261\n",
      "Overweight_Level_I: 234\n",
      "Overweight_Level_II: 240\n",
      "Total number of data: 1688\n",
      "Class ratio for Insufficient_Weight: 12.80%\n",
      "Class ratio for Normal_Weight: 13.33%\n",
      "Class ratio for Obesity_Type_I: 16.17%\n",
      "Class ratio for Obesity_Type_II: 14.16%\n",
      "Class ratio for Obesity_Type_III: 15.46%\n",
      "Class ratio for Overweight_Level_I: 13.86%\n",
      "Class ratio for Overweight_Level_II: 14.22%\n"
     ]
    }
   ],
   "source": [
    "# Count instances per class\n",
    "label_count = df_train.groupby('Obesity', as_index=False).count()\n",
    "\n",
    "# Define class names\n",
    "class_names = [\n",
    "    \"Insufficient_Weight\", \"Normal_Weight\", \"Obesity_Type_I\", \n",
    "    \"Obesity_Type_II\", \"Obesity_Type_III\", \"Overweight_Level_I\", \"Overweight_Level_II\"\n",
    "]\n",
    "\n",
    "# Extract the count of each label\n",
    "count = list(label_count['Height'])  # Assuming 'height' is a feature in your dataset\n",
    "\n",
    "# Print class distribution\n",
    "for i in range(len(class_names)):\n",
    "    print('{}: {}'.format(class_names[i], count[i]))\n",
    "\n",
    "# Total number of data points\n",
    "total_count = np.sum(count)\n",
    "print('Total number of data: {}'.format(total_count))\n",
    "\n",
    "# Calculate and display class ratios\n",
    "class_ratios = [c / total_count for c in count]\n",
    "for i in range(len(class_names)):\n",
    "    print('Class ratio for {}: {:.2f}%'.format(class_names[i], class_ratios[i] * 100))\n"
   ]
  },
  {
   "cell_type": "code",
   "execution_count": 79,
   "metadata": {},
   "outputs": [
    {
     "data": {
      "image/png": "[encoded data removed]",
      "text/plain": [
       "<Figure size 640x480 with 1 Axes>"
      ]
     },
     "metadata": {},
     "output_type": "display_data"
    }
   ],
   "source": [
    "index = np.arange(len(class_names))\n",
    "sns.barplot(x = class_names, y = count, linewidth = 2.5, errcolor = \".2\", edgecolor = \".2\")\n",
    "plt.xlabel('Class', fontsize=15)\n",
    "plt.ylabel('Number of data', fontsize=15)\n",
    "plt.xticks(index, class_names, rotation=60, fontsize=15)\n",
    "plt.title('Class distribution')\n",
    "plt.show()"
   ]
  },
  {
   "cell_type": "markdown",
   "metadata": {},
   "source": [
    "# Class Distribution Analysis\n",
    "- The dataset is **well-balanced**, which is beneficial for training a classification model with minimal bias.\n",
    "- If further performance improvement is needed, **data augmentation or class weighting** can be considered for better handling of minor class imbalances.\n",
    "- Ensuring that **each class has sufficient representation in training and testing splits** will be crucial for model generalization."
   ]
  },
  {
   "cell_type": "code",
   "execution_count": 80,
   "metadata": {},
   "outputs": [
    {
     "name": "stdout",
     "output_type": "stream",
     "text": [
      "Class ratio between Insufficient_Weight and Normal_Weight: 0.96\n",
      "Class Weights: {0: 1.1164021164021165, 1: 1.0717460317460317, 2: 0.8833071690214548, 3: 1.0089659294680215, 4: 0.9239189928845101, 5: 1.0305250305250304, 6: 1.0047619047619047}\n"
     ]
    }
   ],
   "source": [
    "import numpy as np\n",
    "from sklearn.utils.class_weight import compute_class_weight\n",
    "\n",
    "# # Count the occurrences of each label\n",
    "# label_count = df_train.groupby('Obesity', as_index=False).count()\n",
    "\n",
    "# # Define class names based on obesity categories\n",
    "# class_name = [\n",
    "#     \"Insufficient_Weight\", \"Normal_Weight\", \"Overweight_Level_I\", \n",
    "#     \"Overweight_Level_II\", \"Obesity_Type_I\", \"Obesity_Type_II\", \"Obesity_Type_III\"\n",
    "# ]\n",
    "\n",
    "# # Get the count of each class\n",
    "# count = list(label_count['Height'])  # Assuming 'height' is a column in the dataset\n",
    "\n",
    "# Calculate class ratio using the first two classes as reference (like the original binary logic)\n",
    "POS_CLASS_RATIO = count[0] / count[1]\n",
    "print('Class ratio between {} and {}: {:.2f}'.format(class_names[0], class_names[1], POS_CLASS_RATIO))\n",
    "\n",
    "# Compute class weights for multi-class classification\n",
    "unique_classes = np.unique(ytrain.astype(int))\n",
    "class_weights = compute_class_weight(class_weight='balanced', classes=unique_classes, y=ytrain.astype(int))\n",
    "\n",
    "# Convert to dictionary format\n",
    "CLASS_WEIGHT = {i: class_weights[i] for i in range(len(class_weights))}\n",
    "\n",
    "# Print the computed class weights\n",
    "print(\"Class Weights:\", CLASS_WEIGHT)\n"
   ]
  },
  {
   "cell_type": "markdown",
   "metadata": {},
   "source": [
    "## Neural Networks Technique"
   ]
  },
  {
   "cell_type": "markdown",
   "metadata": {},
   "source": [
    "### Create and Train model"
   ]
  },
  {
   "cell_type": "code",
   "execution_count": 106,
   "metadata": {},
   "outputs": [],
   "source": [
    "HIDDEN_LAYER_SIZE = 12\n",
    "L2_REGULARIZER = 5\n",
    "LEARNING_RATE = 0.0025\n",
    "TRAINING_EPOCHS = 2000\n",
    "BATCH_SIZE = 32\n",
    "VALIDATION_SPLIT = 0.30\n",
    "CLASS_WEIGHT = CLASS_WEIGHT"
   ]
  },
  {
   "cell_type": "markdown",
   "metadata": {},
   "source": [
    "We are constructing a neural network model using Keras, specifically a sequential model, which allows us to stack layers linearly. The first layer, defined as a dense layer, contains a specified number of hidden units (indicated by `HIDDEN_LAYER_SIZE`) and utilizes the ReLU activation function to introduce non-linearity into the model. The weights of this layer are initialized with a normal distribution centered at zero, while the biases are initialized to ones, ensuring that all neurons start with a positive bias.\n",
    "\n",
    "We also apply L2 regularization to the weights to mitigate the risk of overfitting by penalizing large weights. Following the input layer, we compile the model with the Adam optimizer, known for its efficiency in training deep learning models, and use binary cross-entropy as the loss function, appropriate for binary classification tasks. Finally, we track the model's accuracy as a performance metric during training and evaluation, setting the stage for our model to learn from the data effectively."
   ]
  },
  {
   "cell_type": "code",
   "execution_count": 110,
   "metadata": {},
   "outputs": [],
   "source": [
    "model = Sequential()\n",
    "model.add(Dense(HIDDEN_LAYER_SIZE, \n",
    "                activation='relu',\n",
    "                kernel_initializer=initializers.RandomNormal(mean=0.0, stddev=1, seed=100),\n",
    "                bias_initializer='Ones',\n",
    "                input_shape=(16,), ###### tao layer \n",
    "                kernel_regularizer=regularizers.l2(L2_REGULARIZER),\n",
    "                name='layer_1'))\n",
    "\n",
    "adm_optz = optimizers.Adam(learning_rate=LEARNING_RATE)\n",
    "\n",
    "model.add(Dense(7, activation=\"softmax\", name='Output_layer'))  # 7 output neurons\n",
    "model.compile(optimizer=adm_optz, loss='sparse_categorical_crossentropy', metrics=['accuracy'])"
   ]
  },
  {
   "cell_type": "markdown",
   "metadata": {},
   "source": [
    "#  Neural Network Model Summary\n",
    "\n",
    "##  Model Architecture:\n",
    "- **Sequential Model**: A feedforward neural network is built sequentially.\n",
    "- **Hidden Layer** (`layer_1`):\n",
    "  - **Size**: `HIDDEN_LAYER_SIZE` neurons.\n",
    "  - **Activation**: ReLU (Rectified Linear Unit).\n",
    "  - **Weight Initialization**: Random Normal (mean = 0, stddev = 1, seed = 100).\n",
    "  - **Bias Initialization**: All ones.\n",
    "  - **Input Shape**: 16 features.\n",
    "  - **Regularization**: L2 regularization (`L2_REGULARIZER`) to prevent overfitting.\n",
    "\n",
    "- **Output Layer** (`Output_layer`):\n",
    "  - **Size**: 7 neurons (corresponding to 7 classes).\n",
    "  - **Activation**: Softmax (for multi-class classification).\n",
    "\n",
    "##  Compilation:\n",
    "- **Optimizer**: Adam (Adaptive Moment Estimation) with a custom learning rate (`LEARNING_RATE`).\n",
    "- **Loss Function**: Sparse Categorical Crossentropy (used for integer-labeled classification tasks).\n",
    "- **Evaluation Metric**: Accuracy.\n"
   ]
  },
  {
   "cell_type": "code",
   "execution_count": 111,
   "metadata": {},
   "outputs": [],
   "source": [
    "early_stopping = EarlyStopping(monitor = 'val_loss', patience = 20)\n",
    "              \n",
    "callback_list = [early_stopping]\n",
    "\n",
    "history = model.fit(xtrain, ytrain, \n",
    "                    batch_size = BATCH_SIZE, \n",
    "                    epochs = TRAINING_EPOCHS,\n",
    "                    class_weight = CLASS_WEIGHT,\n",
    "                    callbacks = callback_list,\n",
    "                    validation_split = VALIDATION_SPLIT, \n",
    "                    verbose = 0)"
   ]
  },
  {
   "cell_type": "markdown",
   "metadata": {},
   "source": [
    "### Model evaluation"
   ]
  },
  {
   "cell_type": "code",
   "execution_count": 112,
   "metadata": {},
   "outputs": [
    {
     "data": {
      "image/png": "[encoded data removed]",
      "text/plain": [
       "<Figure size 1200x400 with 2 Axes>"
      ]
     },
     "metadata": {},
     "output_type": "display_data"
    }
   ],
   "source": [
    "plt.figure(figsize= (12, 4))\n",
    "plt.subplot(1, 2, 1)\n",
    "plt.plot(history.history['val_accuracy'], 'b-')\n",
    "plt.plot(history.history['accuracy'], 'r-')\n",
    "plt.title('model accuracy')\n",
    "plt.ylabel('accuracy')\n",
    "plt.xlabel('epoch')\n",
    "plt.legend(['train', 'validation'], loc='lower right')\n",
    "\n",
    "plt.subplot(1, 2, 2)\n",
    "plt.plot(history.history['loss'], 'r-')\n",
    "plt.plot(history.history['val_loss'], 'b-')\n",
    "plt.title('model loss')\n",
    "plt.ylabel('loss')\n",
    "plt.xlabel('epoch')\n",
    "plt.legend(['train', 'validation'], loc='upper right')\n",
    "plt.show()"
   ]
  },
  {
   "cell_type": "markdown",
   "metadata": {},
   "source": [
    "#  Model Training Performance Analysis\n",
    "\n",
    "##  Accuracy Plot (Left)\n",
    "- The training and validation accuracy **steadily increase** over epochs.\n",
    "- Both curves **converge towards 90%**, indicating strong model learning.\n",
    "- The validation accuracy is **slightly higher than training accuracy**, suggesting that the model **generalizes well** and is not overfitting.\n",
    "\n",
    "##  Loss Plot (Right)\n",
    "- The training and validation loss **decrease smoothly**, showing effective learning.\n",
    "- Loss stabilizes at a low value after ~100 epochs, meaning the model has **converged well**.\n",
    "- There is **no significant divergence** between training and validation loss, further confirming **minimal overfitting**.\n",
    "\n",
    "##  Conclusion\n",
    "- The model is **well-trained and generalizes effectively**.\n",
    "- If further improvements are needed, **hyperparameter tuning** (e.g., adjusting learning rate, regularization, or batch size) can be explored.\n",
    "\n",
    "Overall, this model performs **consistently well across both training and validation datasets**. \n"
   ]
  },
  {
   "cell_type": "markdown",
   "metadata": {},
   "source": [
    "### Train predictions"
   ]
  },
  {
   "cell_type": "code",
   "execution_count": null,
   "metadata": {},
   "outputs": [
    {
     "name": "stdout",
     "output_type": "stream",
     "text": [
      "\u001b[1m53/53\u001b[0m \u001b[32m━━━━━━━━━━━━━━━━━━━━\u001b[0m\u001b[37m\u001b[0m \u001b[1m0s\u001b[0m 950us/step\n"
     ]
    }
   ],
   "source": [
    "ypred_train = model.predict(xtrain)"
   ]
  },
  {
   "cell_type": "code",
   "execution_count": null,
   "metadata": {},
   "outputs": [
    {
     "name": "stdout",
     "output_type": "stream",
     "text": [
      "ROC AUC Score: 0.9955717081445552\n"
     ]
    }
   ],
   "source": [
    "from sklearn.metrics import roc_auc_score, roc_curve\n",
    "roc_auc_train = roc_auc_score(ytrain, ypred_train, multi_class='ovr')\n",
    "print(\"ROC AUC Score:\", roc_auc_train)\n",
    "# fpr, tpr, thresholds = roc_curve(ytrain, ypred_train, pos_label = 1)"
   ]
  },
  {
   "cell_type": "code",
   "execution_count": 134,
   "metadata": {},
   "outputs": [
    {
     "name": "stdout",
     "output_type": "stream",
     "text": [
      "\u001b[1m14/14\u001b[0m \u001b[32m━━━━━━━━━━━━━━━━━━━━\u001b[0m\u001b[37m\u001b[0m \u001b[1m0s\u001b[0m 793us/step\n"
     ]
    }
   ],
   "source": [
    "ypred_test = model.predict(xtest)"
   ]
  },
  {
   "cell_type": "code",
   "execution_count": 135,
   "metadata": {},
   "outputs": [
    {
     "name": "stdout",
     "output_type": "stream",
     "text": [
      "ROC AUC Score: 0.9955717081445552\n"
     ]
    }
   ],
   "source": [
    "from sklearn.metrics import roc_auc_score, roc_curve\n",
    "roc_auc_test = roc_auc_score(ytest, ypred_test, multi_class='ovr')\n",
    "print(\"ROC AUC Score:\", roc_auc)\n",
    "# fpr, tpr, thresholds = roc_curve(ytrain, ypred_train, pos_label = 1)"
   ]
  },
  {
   "cell_type": "code",
   "execution_count": 136,
   "metadata": {},
   "outputs": [
    {
     "name": "stdout",
     "output_type": "stream",
     "text": [
      "Training Set ROC AUC Score: 0.9955717081445552\n",
      "Test Set ROC AUC Score: 0.990288856724755\n",
      "✅ Model performance is stable (No major overfitting detected).\n"
     ]
    }
   ],
   "source": [
    "print(\"Training Set ROC AUC Score:\", roc_auc_train)  # From previous computation\n",
    "print(\"Test Set ROC AUC Score:\", roc_auc_test)\n",
    "\n",
    "# Check for overfitting\n",
    "auc_diff = roc_auc_train - roc_auc_test\n",
    "if auc_diff > 0.05:\n",
    "    print(\"⚠️ Possible Overfitting: The AUC on the test set is much lower than on training.\")\n",
    "elif auc_diff < 0:\n",
    "    print(\"✅ Model is generalizing well (Test AUC > Train AUC).\")\n",
    "else:\n",
    "    print(\"✅ Model performance is stable (No major overfitting detected).\")\n"
   ]
  },
  {
   "cell_type": "markdown",
   "metadata": {},
   "source": [
    "#  ROC AUC Score Analysis\n",
    "\n",
    "##  Performance Metrics:\n",
    "- **Training Set ROC AUC Score**: **0.9956** (~99.56%)\n",
    "- **Test Set ROC AUC Score**: **0.9903** (~99.03%)\n",
    "\n",
    "##  Interpretation:\n",
    "- A **ROC AUC score close to 1.0** indicates **excellent model performance** in distinguishing between classes.\n",
    "- The **small gap between training and test scores** suggests that the model **generalizes well** without significant overfitting.\n",
    "- The model **performs consistently** across both datasets, confirming its **stability and reliability**.\n",
    "\n",
    "##  Conclusion:\n",
    "- The model is **highly effective** in classification tasks.\n",
    "- **No major overfitting detected**, meaning the model is **learning well without memorizing the training data**.\n",
    "- If further improvements are needed, **fine-tuning hyperparameters** or testing on a **different validation set** can be explored.\n",
    "\n",
    " **Overall, this is a well-performing model with strong predictive capability.**\n"
   ]
  },
  {
   "cell_type": "code",
   "execution_count": 142,
   "metadata": {},
   "outputs": [
    {
     "name": "stdout",
     "output_type": "stream",
     "text": [
      "ytest shape: (423, 7)\n",
      "ypred_test shape: (423, 7)\n"
     ]
    }
   ],
   "source": [
    "from tensorflow.keras.utils import to_categorical\n",
    "\n",
    "num_classes = 7  # Adjust based on your dataset\n",
    "\n",
    "if ytest.ndim == 1:\n",
    "    ytest = to_categorical(ytest, num_classes=num_classes)\n",
    "if ypred_test.ndim == 1:\n",
    "    ypred_test = to_categorical(ypred_test, num_classes=num_classes)\n",
    "\n",
    "print(\"ytest shape:\", ytest.shape)  # Should be (num_samples, 7)\n",
    "print(\"ypred_test shape:\", ypred_test.shape)  # Should be (num_samples, 7)\n"
   ]
  },
  {
   "cell_type": "code",
   "execution_count": 143,
   "metadata": {},
   "outputs": [
    {
     "data": {
      "image/png": "[encoded data removed]",
      "text/plain": [
       "<Figure size 1000x600 with 1 Axes>"
      ]
     },
     "metadata": {},
     "output_type": "display_data"
    }
   ],
   "source": [
    "import numpy as np\n",
    "import matplotlib.pyplot as plt\n",
    "from sklearn.metrics import roc_curve, auc\n",
    "\n",
    "num_classes = 7  # Number of obesity categories\n",
    "\n",
    "# Initialize dictionary to store thresholds\n",
    "thresholds_dict = {}\n",
    "\n",
    "plt.figure(figsize=(10, 6))\n",
    "\n",
    "# Compute ROC curve and AUC for each class\n",
    "for i in range(num_classes):\n",
    "    fpr, tpr, thresholds = roc_curve(ytest[:, i], ypred_test[:, i])  # One-vs-Rest\n",
    "    \n",
    "    # Compute AUC\n",
    "    roc_auc = auc(fpr, tpr)\n",
    "    \n",
    "    # Store thresholds\n",
    "    thresholds_dict[f'Class_{i}'] = thresholds\n",
    "    \n",
    "    # Plot ROC curve\n",
    "    plt.plot(fpr, tpr, label=f'Class {i} (AUC = {roc_auc:.2f})')\n",
    "\n",
    "# Plot diagonal random-guess line\n",
    "plt.plot([0, 1], [0, 1], 'k--')\n",
    "\n",
    "# Labels and title\n",
    "plt.xlabel('False Positive Rate')\n",
    "plt.ylabel('True Positive Rate')\n",
    "plt.title('Multi-Class ROC Curve with Thresholds')\n",
    "plt.legend()\n",
    "plt.show()\n"
   ]
  },
  {
   "cell_type": "markdown",
   "metadata": {},
   "source": [
    "#  Multi-Class ROC Curve Analysis\n",
    "\n",
    "##  Overview\n",
    "The **ROC (Receiver Operating Characteristic) curve** visualizes the model’s performance in distinguishing between different classes. The **AUC (Area Under the Curve) values** indicate how well the model differentiates each class.\n",
    "\n",
    "##  Key Observations:\n",
    "- **Class 0, 2, 3, and 4 have an AUC of 1.00**, meaning **perfect classification** with no errors.\n",
    "- **Class 1 (AUC = 0.99)** and **Class 6 (AUC = 0.98)** also exhibit **high performance**, with minimal misclassification.\n",
    "- **Class 5 has the lowest AUC (0.97)**, but still indicates **excellent discrimination ability**.\n",
    "- The **curves are close to the top-left corner**, confirming a **low false positive rate and high true positive rate**.\n",
    "\n",
    "##  Conclusion:\n",
    "- The model achieves **exceptional classification performance** across all classes.\n",
    "- The **high AUC values (above 0.97 for all classes)** indicate **strong predictive power**.\n",
    "- If improvement is needed, focus could be placed on **Class 5 and Class 6**, as they have the **lowest AUC scores**.\n",
    "\n",
    " **Overall, this model is highly effective for multi-class classification, with near-perfect AUC scores.**\n"
   ]
  },
  {
   "cell_type": "code",
   "execution_count": 144,
   "metadata": {},
   "outputs": [
    {
     "name": "stdout",
     "output_type": "stream",
     "text": [
      "Optimal Thresholds for Each Class: {'Class_0': 0.2444451, 'Class_1': 0.3467143, 'Class_2': 0.17676581, 'Class_3': 0.77454937, 'Class_4': 0.97198445, 'Class_5': 0.262883, 'Class_6': 0.30261627}\n"
     ]
    }
   ],
   "source": [
    "best_thresholds = {}\n",
    "\n",
    "for i in range(num_classes):\n",
    "    fpr, tpr, thresholds = roc_curve(ytest[:, i], ypred_test[:, i])\n",
    "    \n",
    "    # Compute Youden's J statistic (J = Sensitivity - (1 - Specificity))\n",
    "    J = tpr - fpr\n",
    "    optimal_idx = np.argmax(J)  # Index of max J\n",
    "    best_thresholds[f'Class_{i}'] = thresholds[optimal_idx]\n",
    "\n",
    "print(\"Optimal Thresholds for Each Class:\", best_thresholds)\n"
   ]
  },
  {
   "cell_type": "code",
   "execution_count": 145,
   "metadata": {},
   "outputs": [
    {
     "data": {
      "image/png": "[encoded data removed]",
      "text/plain": [
       "<Figure size 1200x400 with 2 Axes>"
      ]
     },
     "metadata": {},
     "output_type": "display_data"
    }
   ],
   "source": [
    "finite_thresholds = thresholds[np.isfinite(thresholds)]\n",
    "\n",
    "plt.figure(figsize=(12, 4))\n",
    "\n",
    "plt.subplot(1, 2, 1)\n",
    "plt.plot(fpr, tpr)\n",
    "plt.title('AUC-ROC curve')\n",
    "plt.xlabel('False positive rate')\n",
    "plt.ylabel('True positive rate')\n",
    "\n",
    "plt.subplot(1, 2, 2)\n",
    "plt.hist(finite_thresholds, bins=30)\n",
    "plt.title('Threshold Histogram')\n",
    "plt.xlabel('Probability Density')\n",
    "plt.ylabel('Count')\n",
    "\n",
    "plt.tight_layout()\n",
    "plt.show()"
   ]
  },
  {
   "cell_type": "markdown",
   "metadata": {},
   "source": [
    "- We observe from the AUC-ROC curve that the model demonstrates reasonable performance, with the curve rising above the diagonal baseline. This indicates that the model can distinguish between the classes to a fair extent. A higher true positive rate (TPR) corresponds to a lower false positive rate (FPR), reflecting the model's ability to correctly identify positive instances while minimizing incorrect classifications.\n",
    "\n",
    "- On the right, the Threshold Histogram shows the distribution of predicted probabilities, indicating that most predictions fall within the 0.3 to 0.6 range. This distribution suggests that the model is cautious in its predictions, leaning towards uncertain classifications rather than confident extremes. Such a distribution may highlight areas for potential optimization, as adjusting the decision threshold could enhance classification performance for specific applications. Overall, the combination of the AUC-ROC curve and the threshold histogram provides valuable insights into the model's predictive capabilities and areas for further refinement."
   ]
  },
  {
   "cell_type": "code",
   "execution_count": 146,
   "metadata": {},
   "outputs": [],
   "source": [
    "def prediction(xdata, ydata, threshold = 0.50):\n",
    "    ypred_test_prob = model.predict(xdata)\n",
    "    ypred_bin = [1.0 if val > threshold  else 0.0 for val in ypred_test_prob]\n",
    "    print('Accuracy of the model: {}\\n'.format(accuracy_score(ydata, ypred_bin)))\n",
    "    print('Classification report: \\n{}\\n'.format(classification_report(ydata, ypred_bin)))\n",
    "    print('Confusion matrix: \\n{}\\n'.format(confusion_matrix(ydata, ypred_bin)))"
   ]
  },
  {
   "cell_type": "code",
   "execution_count": 147,
   "metadata": {},
   "outputs": [
    {
     "name": "stdout",
     "output_type": "stream",
     "text": [
      "0.39354095\n"
     ]
    }
   ],
   "source": [
    "THRESHOLD = np.median(thresholds)\n",
    "print(THRESHOLD)"
   ]
  },
  {
   "cell_type": "code",
   "execution_count": 153,
   "metadata": {},
   "outputs": [
    {
     "name": "stdout",
     "output_type": "stream",
     "text": [
      "\u001b[1m53/53\u001b[0m \u001b[32m━━━━━━━━━━━━━━━━━━━━\u001b[0m\u001b[37m\u001b[0m \u001b[1m0s\u001b[0m 587us/step\n",
      "Accuracy of the model: 0.9366\n",
      "\n",
      "Classification report:\n",
      "               precision    recall  f1-score   support\n",
      "\n",
      "           0       0.87      0.95      0.91       216\n",
      "           1       0.94      0.86      0.90       225\n",
      "           2       0.97      0.96      0.97       273\n",
      "           3       0.98      1.00      0.99       239\n",
      "           4       1.00      1.00      1.00       261\n",
      "           5       0.88      0.87      0.88       234\n",
      "           6       0.90      0.90      0.90       240\n",
      "\n",
      "    accuracy                           0.94      1688\n",
      "   macro avg       0.93      0.93      0.93      1688\n",
      "weighted avg       0.94      0.94      0.94      1688\n",
      "\n"
     ]
    }
   ],
   "source": [
    "import numpy as np\n",
    "from sklearn.metrics import accuracy_score, classification_report\n",
    "\n",
    "def prediction(xdata, ydata, threshold=0.50):\n",
    "    # Predict probabilities\n",
    "    ypred_test_prob = model.predict(xdata)  # Shape (num_samples, 7)\n",
    "\n",
    "    # Apply threshold for each class\n",
    "    ypred_bin = (ypred_test_prob >= threshold).astype(int)  # Converts to binary (0 or 1)\n",
    "    \n",
    "    # Convert true labels to one-hot encoding if needed\n",
    "    num_classes = 7\n",
    "    if ydata.ndim == 1:\n",
    "        from tensorflow.keras.utils import to_categorical\n",
    "        ydata = to_categorical(ydata, num_classes=num_classes)\n",
    "\n",
    "    # Compute Accuracy\n",
    "    accuracy = accuracy_score(ydata.argmax(axis=1), ypred_bin.argmax(axis=1))\n",
    "    print(f'Accuracy of the model: {accuracy:.4f}\\n')\n",
    "\n",
    "    # Compute Classification Report\n",
    "    print('Classification report:\\n', classification_report(ydata.argmax(axis=1), ypred_bin.argmax(axis=1)))\n",
    "\n",
    "# Run prediction\n",
    "prediction(xtrain, ytrain, threshold=0.50)\n"
   ]
  },
  {
   "cell_type": "markdown",
   "metadata": {},
   "source": [
    "#  Model Performance Evaluation\n",
    "\n",
    "##  Overall Accuracy:\n",
    "- The model achieved an **accuracy of 93.66%**, indicating strong classification performance.\n",
    "\n",
    "##  Classification Report Breakdown:\n",
    "\n",
    "| Class | Precision | Recall | F1-score | Support |\n",
    "|-------|-----------|--------|----------|---------|\n",
    "| **0** | 0.87 | 0.95 | 0.91 | 216 |\n",
    "| **1** | 0.94 | 0.86 | 0.90 | 225 |\n",
    "| **2** | 0.97 | 0.96 | 0.97 | 273 |\n",
    "| **3** | 0.98 | 1.00 | 0.99 | 239 |\n",
    "| **4** | 1.00 | 1.00 | 1.00 | 261 |\n",
    "| **5** | 0.88 | 0.87 | 0.88 | 234 |\n",
    "| **6** | 0.90 | 0.90 | 0.90 | 240 |\n",
    "\n",
    "###  Key Observations:\n",
    "- **Class 4 has perfect classification** (Precision, Recall, F1-score = 1.00), meaning all instances were correctly classified.\n",
    "- **Class 3 also performs exceptionally well** with an **F1-score of 0.99**.\n",
    "- **Class 0 and Class 1 show the largest gap between precision and recall**, suggesting that the model occasionally misclassifies these classes.\n",
    "- **The macro and weighted averages (0.93 - 0.94)** confirm **consistent performance across all classes**.\n",
    "\n",
    "##  Conclusion:\n",
    "- The model demonstrates **excellent multi-class classification performance**.\n",
    "- **No significant class imbalance issues**, as all support values are relatively similar.\n",
    "\n",
    "\n",
    "**Final Verdict: The model performs reliably, with strong accuracy and well-balanced class predictions.**\n"
   ]
  },
  {
   "cell_type": "code",
   "execution_count": 156,
   "metadata": {},
   "outputs": [
    {
     "data": {
      "text/plain": [
       "(1688, 16)"
      ]
     },
     "execution_count": 156,
     "metadata": {},
     "output_type": "execute_result"
    }
   ],
   "source": [
    "xtrain.shape"
   ]
  },
  {
   "cell_type": "markdown",
   "metadata": {},
   "source": [
    "We observe from the heatmap that it visualizes the activations or weights between the **input features** and the **hidden units** on the left, and between the hidden units and the **output unit** on the right. Each color indicates the magnitude and direction (positive or negative) of the activations or weights. Input features such as **Height, OP Normal, Shear,** and **Fric Drop** interact differently with the hidden units, reflecting how the neural network learns from these inputs. The output unit shows a more uniform pattern from the hidden layers."
   ]
  },
  {
   "cell_type": "markdown",
   "metadata": {},
   "source": [
    "### Hypeparameters Tuning"
   ]
  },
  {
   "cell_type": "code",
   "execution_count": 159,
   "metadata": {},
   "outputs": [
    {
     "name": "stderr",
     "output_type": "stream",
     "text": [
      "[I 2025-02-24 02:57:55,355] A new study created in memory with name: no-name-8644a5b1-0c2f-4045-af55-a5ede5da654a\n"
     ]
    },
    {
     "name": "stdout",
     "output_type": "stream",
     "text": [
      "\u001b[1m53/53\u001b[0m \u001b[32m━━━━━━━━━━━━━━━━━━━━\u001b[0m\u001b[37m\u001b[0m \u001b[1m0s\u001b[0m 936us/step\n"
     ]
    },
    {
     "name": "stderr",
     "output_type": "stream",
     "text": [
      "[I 2025-02-24 02:59:57,497] Trial 0 finished with value: 0.9537914691943128 and parameters: {'hidden_layer_size': 59, 'l2_regularizer': 0.004409446616281532, 'learning_rate': 8.028413394877719e-05}. Best is trial 0 with value: 0.9537914691943128.\n"
     ]
    },
    {
     "name": "stdout",
     "output_type": "stream",
     "text": [
      "\u001b[1m53/53\u001b[0m \u001b[32m━━━━━━━━━━━━━━━━━━━━\u001b[0m\u001b[37m\u001b[0m \u001b[1m0s\u001b[0m 938us/step\n"
     ]
    },
    {
     "name": "stderr",
     "output_type": "stream",
     "text": [
      "[I 2025-02-24 03:00:01,782] Trial 1 finished with value: 0.8584123222748815 and parameters: {'hidden_layer_size': 12, 'l2_regularizer': 0.036771537232924575, 'learning_rate': 0.038750937471264346}. Best is trial 0 with value: 0.9537914691943128.\n"
     ]
    },
    {
     "name": "stdout",
     "output_type": "stream",
     "text": [
      "\u001b[1m53/53\u001b[0m \u001b[32m━━━━━━━━━━━━━━━━━━━━\u001b[0m\u001b[37m\u001b[0m \u001b[1m0s\u001b[0m 946us/step\n"
     ]
    },
    {
     "name": "stderr",
     "output_type": "stream",
     "text": [
      "[I 2025-02-24 03:02:14,906] Trial 2 finished with value: 0.8773696682464455 and parameters: {'hidden_layer_size': 49, 'l2_regularizer': 0.003766888139192202, 'learning_rate': 3.5244832022250986e-05}. Best is trial 0 with value: 0.9537914691943128.\n"
     ]
    },
    {
     "name": "stdout",
     "output_type": "stream",
     "text": [
      "\u001b[1m53/53\u001b[0m \u001b[32m━━━━━━━━━━━━━━━━━━━━\u001b[0m\u001b[37m\u001b[0m \u001b[1m0s\u001b[0m 1ms/step\n"
     ]
    },
    {
     "name": "stderr",
     "output_type": "stream",
     "text": [
      "[I 2025-02-24 03:03:40,362] Trial 3 finished with value: 0.976303317535545 and parameters: {'hidden_layer_size': 30, 'l2_regularizer': 0.0008452561567480674, 'learning_rate': 0.0005383688676359905}. Best is trial 3 with value: 0.976303317535545.\n"
     ]
    },
    {
     "name": "stdout",
     "output_type": "stream",
     "text": [
      "\u001b[1m53/53\u001b[0m \u001b[32m━━━━━━━━━━━━━━━━━━━━\u001b[0m\u001b[37m\u001b[0m \u001b[1m0s\u001b[0m 954us/step\n"
     ]
    },
    {
     "name": "stderr",
     "output_type": "stream",
     "text": [
      "[I 2025-02-24 03:03:46,372] Trial 4 finished with value: 0.9644549763033176 and parameters: {'hidden_layer_size': 64, 'l2_regularizer': 3.569822080517238e-05, 'learning_rate': 0.0030132502406052517}. Best is trial 3 with value: 0.976303317535545.\n"
     ]
    },
    {
     "name": "stdout",
     "output_type": "stream",
     "text": [
      "\u001b[1m53/53\u001b[0m \u001b[32m━━━━━━━━━━━━━━━━━━━━\u001b[0m\u001b[37m\u001b[0m \u001b[1m0s\u001b[0m 997us/step\n"
     ]
    },
    {
     "name": "stderr",
     "output_type": "stream",
     "text": [
      "[I 2025-02-24 03:03:50,072] Trial 5 finished with value: 0.9306872037914692 and parameters: {'hidden_layer_size': 18, 'l2_regularizer': 0.0003909607623655847, 'learning_rate': 0.03419703436420542}. Best is trial 3 with value: 0.976303317535545.\n"
     ]
    },
    {
     "name": "stdout",
     "output_type": "stream",
     "text": [
      "\u001b[1m53/53\u001b[0m \u001b[32m━━━━━━━━━━━━━━━━━━━━\u001b[0m\u001b[37m\u001b[0m \u001b[1m0s\u001b[0m 1ms/step\n"
     ]
    },
    {
     "name": "stderr",
     "output_type": "stream",
     "text": [
      "[I 2025-02-24 03:03:54,663] Trial 6 finished with value: 0.9330568720379147 and parameters: {'hidden_layer_size': 33, 'l2_regularizer': 0.0006895536115886402, 'learning_rate': 0.024954772913713237}. Best is trial 3 with value: 0.976303317535545.\n"
     ]
    },
    {
     "name": "stdout",
     "output_type": "stream",
     "text": [
      "\u001b[1m53/53\u001b[0m \u001b[32m━━━━━━━━━━━━━━━━━━━━\u001b[0m\u001b[37m\u001b[0m \u001b[1m0s\u001b[0m 956us/step\n"
     ]
    },
    {
     "name": "stderr",
     "output_type": "stream",
     "text": [
      "[I 2025-02-24 03:05:08,998] Trial 7 finished with value: 0.9597156398104265 and parameters: {'hidden_layer_size': 48, 'l2_regularizer': 0.00019477946577152233, 'learning_rate': 0.00012425846934223725}. Best is trial 3 with value: 0.976303317535545.\n"
     ]
    },
    {
     "name": "stdout",
     "output_type": "stream",
     "text": [
      "\u001b[1m53/53\u001b[0m \u001b[32m━━━━━━━━━━━━━━━━━━━━\u001b[0m\u001b[37m\u001b[0m \u001b[1m0s\u001b[0m 972us/step\n"
     ]
    },
    {
     "name": "stderr",
     "output_type": "stream",
     "text": [
      "[I 2025-02-24 03:05:13,511] Trial 8 finished with value: 0.9135071090047393 and parameters: {'hidden_layer_size': 44, 'l2_regularizer': 0.000999132622408261, 'learning_rate': 0.042965023259380564}. Best is trial 3 with value: 0.976303317535545.\n"
     ]
    },
    {
     "name": "stdout",
     "output_type": "stream",
     "text": [
      "\u001b[1m53/53\u001b[0m \u001b[32m━━━━━━━━━━━━━━━━━━━━\u001b[0m\u001b[37m\u001b[0m \u001b[1m0s\u001b[0m 1ms/step\n"
     ]
    },
    {
     "name": "stderr",
     "output_type": "stream",
     "text": [
      "[I 2025-02-24 03:07:47,354] Trial 9 finished with value: 0.7180094786729858 and parameters: {'hidden_layer_size': 31, 'l2_regularizer': 0.004188195113330123, 'learning_rate': 1.9298128125825546e-05}. Best is trial 3 with value: 0.976303317535545.\n"
     ]
    },
    {
     "name": "stdout",
     "output_type": "stream",
     "text": [
      "\u001b[1m53/53\u001b[0m \u001b[32m━━━━━━━━━━━━━━━━━━━━\u001b[0m\u001b[37m\u001b[0m \u001b[1m0s\u001b[0m 1ms/step\n"
     ]
    },
    {
     "name": "stderr",
     "output_type": "stream",
     "text": [
      "[I 2025-02-24 03:08:14,132] Trial 10 finished with value: 0.9537914691943128 and parameters: {'hidden_layer_size': 24, 'l2_regularizer': 1.4614345530937537e-05, 'learning_rate': 0.0008844255802974455}. Best is trial 3 with value: 0.976303317535545.\n"
     ]
    },
    {
     "name": "stdout",
     "output_type": "stream",
     "text": [
      "\u001b[1m53/53\u001b[0m \u001b[32m━━━━━━━━━━━━━━━━━━━━\u001b[0m\u001b[37m\u001b[0m \u001b[1m0s\u001b[0m 1ms/step\n"
     ]
    },
    {
     "name": "stderr",
     "output_type": "stream",
     "text": [
      "[I 2025-02-24 03:08:22,180] Trial 11 finished with value: 0.9644549763033176 and parameters: {'hidden_layer_size': 64, 'l2_regularizer': 3.7353306946667485e-05, 'learning_rate': 0.0026632728626373157}. Best is trial 3 with value: 0.976303317535545.\n"
     ]
    },
    {
     "name": "stdout",
     "output_type": "stream",
     "text": [
      "\u001b[1m53/53\u001b[0m \u001b[32m━━━━━━━━━━━━━━━━━━━━\u001b[0m\u001b[37m\u001b[0m \u001b[1m0s\u001b[0m 1ms/step\n"
     ]
    },
    {
     "name": "stderr",
     "output_type": "stream",
     "text": [
      "[I 2025-02-24 03:08:38,679] Trial 12 finished with value: 0.9591232227488151 and parameters: {'hidden_layer_size': 40, 'l2_regularizer': 9.306944199699097e-05, 'learning_rate': 0.001177547718692013}. Best is trial 3 with value: 0.976303317535545.\n"
     ]
    },
    {
     "name": "stdout",
     "output_type": "stream",
     "text": [
      "\u001b[1m53/53\u001b[0m \u001b[32m━━━━━━━━━━━━━━━━━━━━\u001b[0m\u001b[37m\u001b[0m \u001b[1m0s\u001b[0m 1ms/step\n"
     ]
    },
    {
     "name": "stderr",
     "output_type": "stream",
     "text": [
      "[I 2025-02-24 03:08:45,967] Trial 13 finished with value: 0.9597156398104265 and parameters: {'hidden_layer_size': 26, 'l2_regularizer': 1.1228584467920005e-05, 'learning_rate': 0.005498985161456989}. Best is trial 3 with value: 0.976303317535545.\n"
     ]
    },
    {
     "name": "stdout",
     "output_type": "stream",
     "text": [
      "\u001b[1m53/53\u001b[0m \u001b[32m━━━━━━━━━━━━━━━━━━━━\u001b[0m\u001b[37m\u001b[0m \u001b[1m0s\u001b[0m 1ms/step\n"
     ]
    },
    {
     "name": "stderr",
     "output_type": "stream",
     "text": [
      "[I 2025-02-24 03:11:28,692] Trial 14 finished with value: 0.8981042654028436 and parameters: {'hidden_layer_size': 53, 'l2_regularizer': 0.05763555807540072, 'learning_rate': 0.00027390283773397845}. Best is trial 3 with value: 0.976303317535545.\n"
     ]
    },
    {
     "name": "stdout",
     "output_type": "stream",
     "text": [
      "\u001b[1m53/53\u001b[0m \u001b[32m━━━━━━━━━━━━━━━━━━━━\u001b[0m\u001b[37m\u001b[0m \u001b[1m0s\u001b[0m 1ms/step\n"
     ]
    },
    {
     "name": "stderr",
     "output_type": "stream",
     "text": [
      "[I 2025-02-24 03:11:34,518] Trial 15 finished with value: 0.9603080568720379 and parameters: {'hidden_layer_size': 38, 'l2_regularizer': 6.12018916078085e-05, 'learning_rate': 0.005975148652175423}. Best is trial 3 with value: 0.976303317535545.\n"
     ]
    },
    {
     "name": "stdout",
     "output_type": "stream",
     "text": [
      "\u001b[1m53/53\u001b[0m \u001b[32m━━━━━━━━━━━━━━━━━━━━\u001b[0m\u001b[37m\u001b[0m \u001b[1m0s\u001b[0m 1ms/step\n"
     ]
    },
    {
     "name": "stderr",
     "output_type": "stream",
     "text": [
      "[I 2025-02-24 03:13:23,872] Trial 16 finished with value: 0.9312796208530806 and parameters: {'hidden_layer_size': 9, 'l2_regularizer': 0.012491854195791465, 'learning_rate': 0.0004938213821893974}. Best is trial 3 with value: 0.976303317535545.\n"
     ]
    },
    {
     "name": "stdout",
     "output_type": "stream",
     "text": [
      "\u001b[1m53/53\u001b[0m \u001b[32m━━━━━━━━━━━━━━━━━━━━\u001b[0m\u001b[37m\u001b[0m \u001b[1m0s\u001b[0m 1ms/step\n"
     ]
    },
    {
     "name": "stderr",
     "output_type": "stream",
     "text": [
      "[I 2025-02-24 03:13:30,119] Trial 17 finished with value: 0.9561611374407583 and parameters: {'hidden_layer_size': 22, 'l2_regularizer': 0.00020538259755976327, 'learning_rate': 0.0089489242225061}. Best is trial 3 with value: 0.976303317535545.\n"
     ]
    },
    {
     "name": "stdout",
     "output_type": "stream",
     "text": [
      "\u001b[1m53/53\u001b[0m \u001b[32m━━━━━━━━━━━━━━━━━━━━\u001b[0m\u001b[37m\u001b[0m \u001b[1m0s\u001b[0m 1ms/step\n"
     ]
    },
    {
     "name": "stderr",
     "output_type": "stream",
     "text": [
      "[I 2025-02-24 03:13:53,105] Trial 18 finished with value: 0.9768957345971564 and parameters: {'hidden_layer_size': 56, 'l2_regularizer': 0.0017370252032077279, 'learning_rate': 0.002143827299263285}. Best is trial 18 with value: 0.9768957345971564.\n"
     ]
    },
    {
     "name": "stdout",
     "output_type": "stream",
     "text": [
      "\u001b[1m53/53\u001b[0m \u001b[32m━━━━━━━━━━━━━━━━━━━━\u001b[0m\u001b[37m\u001b[0m \u001b[1m0s\u001b[0m 1ms/step\n"
     ]
    },
    {
     "name": "stderr",
     "output_type": "stream",
     "text": [
      "[I 2025-02-24 03:15:41,738] Trial 19 finished with value: 0.9751184834123223 and parameters: {'hidden_layer_size': 54, 'l2_regularizer': 0.002031248098572837, 'learning_rate': 0.0002329595161348004}. Best is trial 18 with value: 0.9768957345971564.\n"
     ]
    },
    {
     "name": "stdout",
     "output_type": "stream",
     "text": [
      "\u001b[1m53/53\u001b[0m \u001b[32m━━━━━━━━━━━━━━━━━━━━\u001b[0m\u001b[37m\u001b[0m \u001b[1m0s\u001b[0m 1ms/step\n"
     ]
    },
    {
     "name": "stderr",
     "output_type": "stream",
     "text": [
      "[I 2025-02-24 03:16:13,789] Trial 20 finished with value: 0.9377962085308057 and parameters: {'hidden_layer_size': 30, 'l2_regularizer': 0.018183105669442593, 'learning_rate': 0.0016491585597148766}. Best is trial 18 with value: 0.9768957345971564.\n"
     ]
    },
    {
     "name": "stdout",
     "output_type": "stream",
     "text": [
      "\u001b[1m53/53\u001b[0m \u001b[32m━━━━━━━━━━━━━━━━━━━━\u001b[0m\u001b[37m\u001b[0m \u001b[1m0s\u001b[0m 1ms/step\n"
     ]
    },
    {
     "name": "stderr",
     "output_type": "stream",
     "text": [
      "[I 2025-02-24 03:18:31,794] Trial 21 finished with value: 0.9774881516587678 and parameters: {'hidden_layer_size': 56, 'l2_regularizer': 0.0016151216765566715, 'learning_rate': 0.00025786353896477726}. Best is trial 21 with value: 0.9774881516587678.\n"
     ]
    },
    {
     "name": "stdout",
     "output_type": "stream",
     "text": [
      "\u001b[1m53/53\u001b[0m \u001b[32m━━━━━━━━━━━━━━━━━━━━\u001b[0m\u001b[37m\u001b[0m \u001b[1m0s\u001b[0m 1ms/step\n"
     ]
    },
    {
     "name": "stderr",
     "output_type": "stream",
     "text": [
      "[I 2025-02-24 03:19:29,650] Trial 22 finished with value: 0.9733412322274881 and parameters: {'hidden_layer_size': 57, 'l2_regularizer': 0.0020431375777782016, 'learning_rate': 0.0005084289836695631}. Best is trial 21 with value: 0.9774881516587678.\n"
     ]
    },
    {
     "name": "stdout",
     "output_type": "stream",
     "text": [
      "\u001b[1m53/53\u001b[0m \u001b[32m━━━━━━━━━━━━━━━━━━━━\u001b[0m\u001b[37m\u001b[0m \u001b[1m0s\u001b[0m 1ms/step\n"
     ]
    },
    {
     "name": "stderr",
     "output_type": "stream",
     "text": [
      "[I 2025-02-24 03:22:12,425] Trial 23 finished with value: 0.9585308056872038 and parameters: {'hidden_layer_size': 43, 'l2_regularizer': 0.000502339472279267, 'learning_rate': 8.157822432045446e-05}. Best is trial 21 with value: 0.9774881516587678.\n"
     ]
    },
    {
     "name": "stdout",
     "output_type": "stream",
     "text": [
      "\u001b[1m53/53\u001b[0m \u001b[32m━━━━━━━━━━━━━━━━━━━━\u001b[0m\u001b[37m\u001b[0m \u001b[1m0s\u001b[0m 1ms/step\n"
     ]
    },
    {
     "name": "stderr",
     "output_type": "stream",
     "text": [
      "[I 2025-02-24 03:23:08,492] Trial 24 finished with value: 0.9733412322274881 and parameters: {'hidden_layer_size': 48, 'l2_regularizer': 0.0018055018582343433, 'learning_rate': 0.0006107107929868987}. Best is trial 21 with value: 0.9774881516587678.\n"
     ]
    },
    {
     "name": "stdout",
     "output_type": "stream",
     "text": [
      "\u001b[1m53/53\u001b[0m \u001b[32m━━━━━━━━━━━━━━━━━━━━\u001b[0m\u001b[37m\u001b[0m \u001b[1m0s\u001b[0m 1ms/step\n"
     ]
    },
    {
     "name": "stderr",
     "output_type": "stream",
     "text": [
      "[I 2025-02-24 03:23:34,004] Trial 25 finished with value: 0.9591232227488151 and parameters: {'hidden_layer_size': 59, 'l2_regularizer': 0.010168486703078235, 'learning_rate': 0.002007655001316565}. Best is trial 21 with value: 0.9774881516587678.\n"
     ]
    },
    {
     "name": "stdout",
     "output_type": "stream",
     "text": [
      "\u001b[1m53/53\u001b[0m \u001b[32m━━━━━━━━━━━━━━━━━━━━\u001b[0m\u001b[37m\u001b[0m \u001b[1m0s\u001b[0m 1ms/step\n"
     ]
    },
    {
     "name": "stderr",
     "output_type": "stream",
     "text": [
      "[I 2025-02-24 03:25:03,651] Trial 26 finished with value: 0.9614928909952607 and parameters: {'hidden_layer_size': 34, 'l2_regularizer': 0.0002878620278873052, 'learning_rate': 0.000213520899028613}. Best is trial 21 with value: 0.9774881516587678.\n"
     ]
    },
    {
     "name": "stdout",
     "output_type": "stream",
     "text": [
      "\u001b[1m53/53\u001b[0m \u001b[32m━━━━━━━━━━━━━━━━━━━━\u001b[0m\u001b[37m\u001b[0m \u001b[1m0s\u001b[0m 1ms/step\n"
     ]
    },
    {
     "name": "stderr",
     "output_type": "stream",
     "text": [
      "[I 2025-02-24 03:27:46,656] Trial 27 finished with value: 0.7286729857819905 and parameters: {'hidden_layer_size': 53, 'l2_regularizer': 0.001248459351664387, 'learning_rate': 1.1550914868159546e-05}. Best is trial 21 with value: 0.9774881516587678.\n"
     ]
    },
    {
     "name": "stdout",
     "output_type": "stream",
     "text": [
      "\u001b[1m53/53\u001b[0m \u001b[32m━━━━━━━━━━━━━━━━━━━━\u001b[0m\u001b[37m\u001b[0m \u001b[1m0s\u001b[0m 1ms/step\n"
     ]
    },
    {
     "name": "stderr",
     "output_type": "stream",
     "text": [
      "[I 2025-02-24 03:27:54,050] Trial 28 finished with value: 0.9354265402843602 and parameters: {'hidden_layer_size': 16, 'l2_regularizer': 0.00548528711744206, 'learning_rate': 0.015545645228652812}. Best is trial 21 with value: 0.9774881516587678.\n"
     ]
    },
    {
     "name": "stdout",
     "output_type": "stream",
     "text": [
      "\u001b[1m53/53\u001b[0m \u001b[32m━━━━━━━━━━━━━━━━━━━━\u001b[0m\u001b[37m\u001b[0m \u001b[1m0s\u001b[0m 1ms/step\n"
     ]
    },
    {
     "name": "stderr",
     "output_type": "stream",
     "text": [
      "[I 2025-02-24 03:30:37,094] Trial 29 finished with value: 0.9443127962085308 and parameters: {'hidden_layer_size': 43, 'l2_regularizer': 0.0008316319672580545, 'learning_rate': 6.377291924816599e-05}. Best is trial 21 with value: 0.9774881516587678.\n"
     ]
    },
    {
     "name": "stdout",
     "output_type": "stream",
     "text": [
      "\u001b[1m53/53\u001b[0m \u001b[32m━━━━━━━━━━━━━━━━━━━━\u001b[0m\u001b[37m\u001b[0m \u001b[1m0s\u001b[0m 1ms/step\n"
     ]
    },
    {
     "name": "stderr",
     "output_type": "stream",
     "text": [
      "[I 2025-02-24 03:30:44,872] Trial 30 finished with value: 0.8714454976303317 and parameters: {'hidden_layer_size': 28, 'l2_regularizer': 0.002976529831259016, 'learning_rate': 0.08755905363967105}. Best is trial 21 with value: 0.9774881516587678.\n"
     ]
    },
    {
     "name": "stdout",
     "output_type": "stream",
     "text": [
      "\u001b[1m53/53\u001b[0m \u001b[32m━━━━━━━━━━━━━━━━━━━━\u001b[0m\u001b[37m\u001b[0m \u001b[1m0s\u001b[0m 1ms/step\n"
     ]
    },
    {
     "name": "stderr",
     "output_type": "stream",
     "text": [
      "[I 2025-02-24 03:32:48,196] Trial 31 finished with value: 0.9780805687203792 and parameters: {'hidden_layer_size': 55, 'l2_regularizer': 0.0019064834219061977, 'learning_rate': 0.00024651526373271014}. Best is trial 31 with value: 0.9780805687203792.\n"
     ]
    },
    {
     "name": "stdout",
     "output_type": "stream",
     "text": [
      "\u001b[1m53/53\u001b[0m \u001b[32m━━━━━━━━━━━━━━━━━━━━\u001b[0m\u001b[37m\u001b[0m \u001b[1m0s\u001b[0m 984us/step\n"
     ]
    },
    {
     "name": "stderr",
     "output_type": "stream",
     "text": [
      "[I 2025-02-24 03:33:56,382] Trial 32 finished with value: 0.9620853080568721 and parameters: {'hidden_layer_size': 61, 'l2_regularizer': 0.00761772454406423, 'learning_rate': 0.0003781945334620959}. Best is trial 31 with value: 0.9780805687203792.\n"
     ]
    },
    {
     "name": "stdout",
     "output_type": "stream",
     "text": [
      "\u001b[1m53/53\u001b[0m \u001b[32m━━━━━━━━━━━━━━━━━━━━\u001b[0m\u001b[37m\u001b[0m \u001b[1m0s\u001b[0m 1ms/step\n"
     ]
    },
    {
     "name": "stderr",
     "output_type": "stream",
     "text": [
      "[I 2025-02-24 03:36:04,294] Trial 33 finished with value: 0.9105450236966824 and parameters: {'hidden_layer_size': 57, 'l2_regularizer': 0.023669466737254834, 'learning_rate': 0.0001309313986223187}. Best is trial 31 with value: 0.9780805687203792.\n"
     ]
    },
    {
     "name": "stdout",
     "output_type": "stream",
     "text": [
      "\u001b[1m53/53\u001b[0m \u001b[32m━━━━━━━━━━━━━━━━━━━━\u001b[0m\u001b[37m\u001b[0m \u001b[1m0s\u001b[0m 1ms/step\n"
     ]
    },
    {
     "name": "stderr",
     "output_type": "stream",
     "text": [
      "[I 2025-02-24 03:36:48,198] Trial 34 finished with value: 0.976303317535545 and parameters: {'hidden_layer_size': 55, 'l2_regularizer': 0.0025355618110128584, 'learning_rate': 0.0009509447103921006}. Best is trial 31 with value: 0.9780805687203792.\n"
     ]
    },
    {
     "name": "stdout",
     "output_type": "stream",
     "text": [
      "\u001b[1m53/53\u001b[0m \u001b[32m━━━━━━━━━━━━━━━━━━━━\u001b[0m\u001b[37m\u001b[0m \u001b[1m0s\u001b[0m 1ms/step\n"
     ]
    },
    {
     "name": "stderr",
     "output_type": "stream",
     "text": [
      "[I 2025-02-24 03:39:17,450] Trial 35 finished with value: 0.9235781990521327 and parameters: {'hidden_layer_size': 50, 'l2_regularizer': 0.0013332890111488653, 'learning_rate': 4.08500120257701e-05}. Best is trial 31 with value: 0.9780805687203792.\n"
     ]
    },
    {
     "name": "stdout",
     "output_type": "stream",
     "text": [
      "\u001b[1m53/53\u001b[0m \u001b[32m━━━━━━━━━━━━━━━━━━━━\u001b[0m\u001b[37m\u001b[0m \u001b[1m0s\u001b[0m 1ms/step\n"
     ]
    },
    {
     "name": "stderr",
     "output_type": "stream",
     "text": [
      "[I 2025-02-24 03:41:58,055] Trial 36 finished with value: 0.9727488151658767 and parameters: {'hidden_layer_size': 60, 'l2_regularizer': 0.00041696964373099255, 'learning_rate': 0.00013793339184345256}. Best is trial 31 with value: 0.9780805687203792.\n"
     ]
    },
    {
     "name": "stdout",
     "output_type": "stream",
     "text": [
      "\u001b[1m53/53\u001b[0m \u001b[32m━━━━━━━━━━━━━━━━━━━━\u001b[0m\u001b[37m\u001b[0m \u001b[1m0s\u001b[0m 1ms/step\n"
     ]
    },
    {
     "name": "stderr",
     "output_type": "stream",
     "text": [
      "[I 2025-02-24 03:42:15,501] Trial 37 finished with value: 0.9709715639810427 and parameters: {'hidden_layer_size': 50, 'l2_regularizer': 0.005597721941910675, 'learning_rate': 0.003832114566182672}. Best is trial 31 with value: 0.9780805687203792.\n"
     ]
    },
    {
     "name": "stdout",
     "output_type": "stream",
     "text": [
      "\u001b[1m53/53\u001b[0m \u001b[32m━━━━━━━━━━━━━━━━━━━━\u001b[0m\u001b[37m\u001b[0m \u001b[1m0s\u001b[0m 1ms/step\n"
     ]
    },
    {
     "name": "stderr",
     "output_type": "stream",
     "text": [
      "[I 2025-02-24 03:42:49,726] Trial 38 finished with value: 0.9733412322274881 and parameters: {'hidden_layer_size': 63, 'l2_regularizer': 0.0006542135686273531, 'learning_rate': 0.0013759515128316335}. Best is trial 31 with value: 0.9780805687203792.\n"
     ]
    },
    {
     "name": "stdout",
     "output_type": "stream",
     "text": [
      "\u001b[1m53/53\u001b[0m \u001b[32m━━━━━━━━━━━━━━━━━━━━\u001b[0m\u001b[37m\u001b[0m \u001b[1m0s\u001b[0m 1ms/step\n"
     ]
    },
    {
     "name": "stderr",
     "output_type": "stream",
     "text": [
      "[I 2025-02-24 03:43:11,385] Trial 39 finished with value: 0.9490521327014217 and parameters: {'hidden_layer_size': 36, 'l2_regularizer': 0.00019266857709066516, 'learning_rate': 0.0007399156518566869}. Best is trial 31 with value: 0.9780805687203792.\n"
     ]
    },
    {
     "name": "stdout",
     "output_type": "stream",
     "text": [
      "\u001b[1m53/53\u001b[0m \u001b[32m━━━━━━━━━━━━━━━━━━━━\u001b[0m\u001b[37m\u001b[0m \u001b[1m0s\u001b[0m 1ms/step\n"
     ]
    },
    {
     "name": "stderr",
     "output_type": "stream",
     "text": [
      "[I 2025-02-24 03:44:37,377] Trial 40 finished with value: 0.9780805687203792 and parameters: {'hidden_layer_size': 46, 'l2_regularizer': 0.0013186674550632214, 'learning_rate': 0.0003175188719207656}. Best is trial 31 with value: 0.9780805687203792.\n"
     ]
    },
    {
     "name": "stdout",
     "output_type": "stream",
     "text": [
      "\u001b[1m53/53\u001b[0m \u001b[32m━━━━━━━━━━━━━━━━━━━━\u001b[0m\u001b[37m\u001b[0m \u001b[1m0s\u001b[0m 1ms/step\n"
     ]
    },
    {
     "name": "stderr",
     "output_type": "stream",
     "text": [
      "[I 2025-02-24 03:46:23,496] Trial 41 finished with value: 0.9727488151658767 and parameters: {'hidden_layer_size': 47, 'l2_regularizer': 0.001203868948694243, 'learning_rate': 0.0003416423307185165}. Best is trial 31 with value: 0.9780805687203792.\n"
     ]
    },
    {
     "name": "stdout",
     "output_type": "stream",
     "text": [
      "\u001b[1m53/53\u001b[0m \u001b[32m━━━━━━━━━━━━━━━━━━━━\u001b[0m\u001b[37m\u001b[0m \u001b[1m0s\u001b[0m 1ms/step\n"
     ]
    },
    {
     "name": "stderr",
     "output_type": "stream",
     "text": [
      "[I 2025-02-24 03:48:59,802] Trial 42 finished with value: 0.9703791469194313 and parameters: {'hidden_layer_size': 45, 'l2_regularizer': 0.0006875135116501047, 'learning_rate': 0.00020086919098534554}. Best is trial 31 with value: 0.9780805687203792.\n"
     ]
    },
    {
     "name": "stdout",
     "output_type": "stream",
     "text": [
      "\u001b[1m53/53\u001b[0m \u001b[32m━━━━━━━━━━━━━━━━━━━━\u001b[0m\u001b[37m\u001b[0m \u001b[1m0s\u001b[0m 1ms/step\n"
     ]
    },
    {
     "name": "stderr",
     "output_type": "stream",
     "text": [
      "[I 2025-02-24 03:51:44,059] Trial 43 finished with value: 0.957345971563981 and parameters: {'hidden_layer_size': 52, 'l2_regularizer': 0.003115835662991975, 'learning_rate': 8.148243979438716e-05}. Best is trial 31 with value: 0.9780805687203792.\n"
     ]
    },
    {
     "name": "stdout",
     "output_type": "stream",
     "text": [
      "\u001b[1m53/53\u001b[0m \u001b[32m━━━━━━━━━━━━━━━━━━━━\u001b[0m\u001b[37m\u001b[0m \u001b[1m0s\u001b[0m 1ms/step\n"
     ]
    },
    {
     "name": "stderr",
     "output_type": "stream",
     "text": [
      "[I 2025-02-24 03:52:58,085] Trial 44 finished with value: 0.9780805687203792 and parameters: {'hidden_layer_size': 56, 'l2_regularizer': 0.001548442259874892, 'learning_rate': 0.0003983722993895106}. Best is trial 31 with value: 0.9780805687203792.\n"
     ]
    },
    {
     "name": "stdout",
     "output_type": "stream",
     "text": [
      "\u001b[1m53/53\u001b[0m \u001b[32m━━━━━━━━━━━━━━━━━━━━\u001b[0m\u001b[37m\u001b[0m \u001b[1m0s\u001b[0m 1ms/step\n"
     ]
    },
    {
     "name": "stderr",
     "output_type": "stream",
     "text": [
      "[I 2025-02-24 03:55:20,333] Trial 45 finished with value: 0.9733412322274881 and parameters: {'hidden_layer_size': 57, 'l2_regularizer': 0.0037234596440670893, 'learning_rate': 0.00015539016332814985}. Best is trial 31 with value: 0.9780805687203792.\n"
     ]
    },
    {
     "name": "stdout",
     "output_type": "stream",
     "text": [
      "\u001b[1m53/53\u001b[0m \u001b[32m━━━━━━━━━━━━━━━━━━━━\u001b[0m\u001b[37m\u001b[0m \u001b[1m0s\u001b[0m 1ms/step\n"
     ]
    },
    {
     "name": "stderr",
     "output_type": "stream",
     "text": [
      "[I 2025-02-24 03:56:36,681] Trial 46 finished with value: 0.9804502369668247 and parameters: {'hidden_layer_size': 56, 'l2_regularizer': 0.0015631172014110707, 'learning_rate': 0.0003756168794521439}. Best is trial 46 with value: 0.9804502369668247.\n"
     ]
    },
    {
     "name": "stdout",
     "output_type": "stream",
     "text": [
      "\u001b[1m53/53\u001b[0m \u001b[32m━━━━━━━━━━━━━━━━━━━━\u001b[0m\u001b[37m\u001b[0m \u001b[1m0s\u001b[0m 1ms/step\n"
     ]
    },
    {
     "name": "stderr",
     "output_type": "stream",
     "text": [
      "[I 2025-02-24 03:59:04,325] Trial 47 finished with value: 0.9478672985781991 and parameters: {'hidden_layer_size': 60, 'l2_regularizer': 0.0009655300403289963, 'learning_rate': 5.602477875785155e-05}. Best is trial 46 with value: 0.9804502369668247.\n"
     ]
    },
    {
     "name": "stdout",
     "output_type": "stream",
     "text": [
      "\u001b[1m53/53\u001b[0m \u001b[32m━━━━━━━━━━━━━━━━━━━━\u001b[0m\u001b[37m\u001b[0m \u001b[1m0s\u001b[0m 1ms/step\n"
     ]
    },
    {
     "name": "stderr",
     "output_type": "stream",
     "text": [
      "[I 2025-02-24 04:00:21,712] Trial 48 finished with value: 0.9768957345971564 and parameters: {'hidden_layer_size': 51, 'l2_regularizer': 0.0002796946093386534, 'learning_rate': 0.00040005477256073755}. Best is trial 46 with value: 0.9804502369668247.\n"
     ]
    },
    {
     "name": "stdout",
     "output_type": "stream",
     "text": [
      "\u001b[1m53/53\u001b[0m \u001b[32m━━━━━━━━━━━━━━━━━━━━\u001b[0m\u001b[37m\u001b[0m \u001b[1m0s\u001b[0m 1ms/step\n"
     ]
    },
    {
     "name": "stderr",
     "output_type": "stream",
     "text": [
      "[I 2025-02-24 04:02:47,618] Trial 49 finished with value: 0.9638625592417062 and parameters: {'hidden_layer_size': 46, 'l2_regularizer': 0.004601708186544431, 'learning_rate': 0.00011365563809195167}. Best is trial 46 with value: 0.9804502369668247.\n"
     ]
    },
    {
     "name": "stdout",
     "output_type": "stream",
     "text": [
      "Best hyperparameters:  {'hidden_layer_size': 56, 'l2_regularizer': 0.0015631172014110707, 'learning_rate': 0.0003756168794521439}\n",
      "Best accuracy:  0.9804502369668247\n"
     ]
    }
   ],
   "source": [
    "import optuna\n",
    "\n",
    "def create_model(trial):\n",
    "    model = Sequential()\n",
    "    \n",
    "    hidden_layer_size = trial.suggest_int(\"hidden_layer_size\", 8, 64)\n",
    "    l2_regularizer = trial.suggest_loguniform(\"l2_regularizer\", 1e-5, 1e-1)\n",
    "    learning_rate = trial.suggest_loguniform(\"learning_rate\", 1e-5, 1e-1)\n",
    "\n",
    "    model.add(Dense(hidden_layer_size, \n",
    "                    activation='relu',\n",
    "                    kernel_initializer=initializers.RandomNormal(mean=0.0, stddev=1, seed=100),\n",
    "                    bias_initializer='Ones',\n",
    "                    input_shape=(16,),\n",
    "                    kernel_regularizer=regularizers.l2(l2_regularizer),\n",
    "                    name='layer_1'))\n",
    "\n",
    "    adm_optz = optimizers.Adam(learning_rate=learning_rate)\n",
    "    model.add(Dense(7, activation=\"softmax\", name='Output_layer'))  \n",
    "    model.compile(optimizer=adm_optz, loss='categorical_crossentropy', metrics=['accuracy'])\n",
    "    \n",
    "    return model\n",
    "\n",
    "def objective(trial):\n",
    "    model = create_model(trial)\n",
    "    \n",
    "    early_stopping = EarlyStopping(monitor='val_loss', patience=20)\n",
    "    callback_list = [early_stopping]\n",
    "    \n",
    "    history = model.fit(xtrain, ytrain, \n",
    "                        batch_size=32,\n",
    "                        epochs=2000,\n",
    "                        class_weight=CLASS_WEIGHT,\n",
    "                        callbacks=callback_list,\n",
    "                        validation_split=0.30, \n",
    "                        verbose=0)\n",
    "\n",
    "    ypred_train = model.predict(xtrain)\n",
    "    ypred_bin = (ypred_train > 0.5).astype(int)\n",
    "    accuracy = accuracy_score(ytrain, ypred_bin)\n",
    "    \n",
    "    return accuracy\n",
    "\n",
    "study = optuna.create_study(direction=\"maximize\")\n",
    "study.optimize(objective, n_trials=50)\n",
    "\n",
    "best_params = study.best_params\n",
    "print(\"Best hyperparameters: \", best_params)\n",
    "\n",
    "best_accuracy = study.best_value\n",
    "print(\"Best accuracy: \", best_accuracy)"
   ]
  },
  {
   "cell_type": "markdown",
   "metadata": {},
   "source": [
    "### Fit the best model"
   ]
  },
  {
   "cell_type": "code",
   "execution_count": 165,
   "metadata": {},
   "outputs": [],
   "source": [
    "best_model = Sequential()\n",
    "best_model.add(Dense(best_params['hidden_layer_size'], \n",
    "                activation='relu',\n",
    "                kernel_initializer=initializers.RandomNormal(mean=0.0, stddev=1, seed=100),\n",
    "                bias_initializer='Ones',\n",
    "                input_shape=(16,),\n",
    "                kernel_regularizer=regularizers.l2(best_params['l2_regularizer']),\n",
    "                name='layer_1'))\n",
    "\n",
    "adm_optz = optimizers.Adam(learning_rate=best_params['learning_rate'])\n",
    "\n",
    "best_model.add(Dense(7, activation=\"softmax\", name='Output_layer'))  \n",
    "best_model.compile(optimizer=adm_optz, loss='categorical_crossentropy', metrics=['accuracy'])\n",
    "\n",
    "early_stopping = EarlyStopping(monitor = 'val_loss', patience = 20)\n",
    "              \n",
    "callback_list = [early_stopping]\n",
    "\n",
    "history = best_model.fit(xtrain, ytrain, \n",
    "                    batch_size = BATCH_SIZE, \n",
    "                    epochs = TRAINING_EPOCHS,\n",
    "                    class_weight = CLASS_WEIGHT,\n",
    "                    callbacks = callback_list,\n",
    "                    validation_split = VALIDATION_SPLIT, \n",
    "                    verbose = 0)"
   ]
  },
  {
   "cell_type": "markdown",
   "metadata": {},
   "source": [
    "### Test predictions"
   ]
  },
  {
   "cell_type": "code",
   "execution_count": 167,
   "metadata": {},
   "outputs": [
    {
     "name": "stdout",
     "output_type": "stream",
     "text": [
      "\u001b[1m14/14\u001b[0m \u001b[32m━━━━━━━━━━━━━━━━━━━━\u001b[0m\u001b[37m\u001b[0m \u001b[1m0s\u001b[0m 844us/step\n",
      "Accuracy on test data: 0.9220\n",
      "Classification report: \n",
      "              precision    recall  f1-score   support\n",
      "\n",
      "           0       0.95      0.95      0.95        56\n",
      "           1       0.90      0.85      0.88        62\n",
      "           2       0.96      0.94      0.95        78\n",
      "           3       0.97      0.98      0.97        58\n",
      "           4       1.00      1.00      1.00        63\n",
      "           5       0.79      0.88      0.83        56\n",
      "           6       0.88      0.84      0.86        50\n",
      "\n",
      "    accuracy                           0.92       423\n",
      "   macro avg       0.92      0.92      0.92       423\n",
      "weighted avg       0.92      0.92      0.92       423\n",
      "\n",
      "Confusion matrix: \n",
      "[[53  3  0  0  0  0  0]\n",
      " [ 2 53  0  0  0  6  1]\n",
      " [ 0  0 73  2  0  0  3]\n",
      " [ 0  0  1 57  0  0  0]\n",
      " [ 0  0  0  0 63  0  0]\n",
      " [ 1  3  1  0  0 49  2]\n",
      " [ 0  0  1  0  0  7 42]]\n"
     ]
    }
   ],
   "source": [
    "import numpy as np\n",
    "from sklearn.metrics import accuracy_score, classification_report, confusion_matrix\n",
    "\n",
    "# Predict probabilities\n",
    "ypred_test_prob = best_model.predict(xtest)  # Shape: (num_samples, 7)\n",
    "\n",
    "# Convert probabilities to binary values based on threshold\n",
    "ypred_test_bin = (ypred_test_prob > 0.5).astype(int)  # Shape: (num_samples, 7)\n",
    "\n",
    "# Convert one-hot encoded ytest and predictions back to class labels\n",
    "ytest_labels = np.argmax(ytest, axis=1)  # Convert from one-hot to class index\n",
    "ypred_test_labels = np.argmax(ypred_test_bin, axis=1)  # Convert predictions\n",
    "\n",
    "# Compute and print evaluation metrics\n",
    "print('Accuracy on test data: {:.4f}'.format(accuracy_score(ytest_labels, ypred_test_labels)))\n",
    "print('Classification report: \\n{}'.format(classification_report(ytest_labels, ypred_test_labels)))\n",
    "print('Confusion matrix: \\n{}'.format(confusion_matrix(ytest_labels, ypred_test_labels)))\n"
   ]
  },
  {
   "cell_type": "markdown",
   "metadata": {},
   "source": [
    "#  Model Evaluation on Test Data\n",
    "\n",
    "##  Overall Performance:\n",
    "- **Accuracy on test data**: **92.20%**, indicating strong classification capability.\n",
    "\n",
    "##  Classification Report Breakdown:\n",
    "\n",
    "| Class | Precision | Recall | F1-score | Support |\n",
    "|-------|-----------|--------|----------|---------|\n",
    "| **0** | 0.95 | 0.95 | 0.95 | 56 |\n",
    "| **1** | 0.90 | 0.85 | 0.88 | 62 |\n",
    "| **2** | 0.96 | 0.94 | 0.95 | 78 |\n",
    "| **3** | 0.97 | 0.98 | 0.97 | 58 |\n",
    "| **4** | 1.00 | 1.00 | 1.00 | 63 |\n",
    "| **5** | 0.79 | 0.88 | 0.83 | 56 |\n",
    "| **6** | 0.88 | 0.84 | 0.86 | 50 |\n",
    "\n",
    "###  Key Insights:\n",
    "- **Class 4 has perfect classification** (Precision, Recall, F1-score = 1.00), meaning all instances were correctly predicted.\n",
    "- **Class 5 has the lowest precision (0.79),** suggesting more misclassifications.\n",
    "- **Class 1 has a relatively lower recall (0.85),** indicating that some true instances of Class 1 were misclassified.\n",
    "\n",
    "##  Confusion Matrix Analysis:\n",
    "\n",
    "| True \\ Pred | 0  | 1  | 2  | 3  | 4  | 5  | 6  |\n",
    "|------------|----|----|----|----|----|----|----|\n",
    "| **0**      | 53 | 3  | 0  | 0  | 0  | 0  | 0  |\n",
    "| **1**      | 2  | 53 | 0  | 0  | 0  | 6  | 1  |\n",
    "| **2**      | 0  | 0  | 73 | 2  | 0  | 0  | 3  |\n",
    "| **3**      | 0  | 0  | 1  | 57 | 0  | 0  | 0  |\n",
    "| **4**      | 0  | 0  | 0  | 0  | 63 | 0  | 0  |\n",
    "| **5**      | 1  | 3  | 1  | 0  | 0  | 49 | 2  |\n",
    "| **6**      | 0  | 0  | 1  | 0  | 0  | 7  | 42 |\n",
    "\n",
    "- **Class 1 is often misclassified as Class 5** (6 misclassifications).\n",
    "- **Class 6 has 7 instances misclassified as Class 5**, contributing to its lower recall.\n",
    "- **Class 5 shows confusion with multiple classes**, affecting its overall performance.\n",
    "\n",
    "##  Conclusion:\n",
    "- The model **performs well overall** with **92.2% accuracy**, maintaining a good balance between precision and recall."
   ]
  },
  {
   "cell_type": "markdown",
   "metadata": {},
   "source": [
    "# 🔍 Comparison: Neural Network vs. Random Forest Classifier\n",
    "\n",
    "\n",
    "- **Neural Network has a slight edge over Random Forest**, especially in generalization and recall.\n",
    "- **Random Forest remains a strong contender**, performing very close to the Neural Network with only a small accuracy gap.\n",
    "- If computational efficiency is a concern, **Random Forest is a great choice as it is easier to train and interpret**.\n",
    "- If **maximum accuracy is needed**, **Neural Network is the better option**, particularly for fine-grained class distinctions.\n",
    "\n",
    " **Recommendation**: If the dataset is large and computational power is available, go with **Neural Networks**. Otherwise, **Random Forest** is a strong alternative with nearly comparable results.\n"
   ]
  }
 ],
 "metadata": {
  "celltoolbar": "Edit Metadata",
  "kernelspec": {
   "display_name": "AI_Finance",
   "language": "python",
   "name": "python3"
  },
  "language_info": {
   "codemirror_mode": {
    "name": "ipython",
    "version": 3
   },
   "file_extension": ".py",
   "mimetype": "text/x-python",
   "name": "python",
   "nbconvert_exporter": "python",
   "pygments_lexer": "ipython3",
   "version": "3.9.18"
  }
 },
 "nbformat": 4,
 "nbformat_minor": 2
}
